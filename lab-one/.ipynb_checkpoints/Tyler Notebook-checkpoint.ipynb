{
 "cells": [
  {
   "cell_type": "code",
   "execution_count": 57,
   "metadata": {
    "collapsed": false
   },
   "outputs": [
    {
     "name": "stdout",
     "output_type": "stream",
     "text": [
      "3.6.3 (default, Oct  3 2017, 21:45:48) \n",
      "[GCC 7.2.0]\n",
      "1.14.0\n"
     ]
    }
   ],
   "source": [
    "import sys\n",
    "import numpy as np\n",
    "import pandas as pd\n",
    "import matplotlib.pyplot as plt\n",
    "import scipy\n",
    "\n",
    "print(sys.version)\n",
    "print(np.__version__)\n",
    "\n",
    "plt.style.use('seaborn-deep')"
   ]
  },
  {
   "cell_type": "code",
   "execution_count": 77,
   "metadata": {
    "collapsed": false,
    "scrolled": true
   },
   "outputs": [
    {
     "name": "stdout",
     "output_type": "stream",
     "text": [
      "<class 'pandas.core.frame.DataFrame'>\n",
      "Int64Index: 37126 entries, 0 to 37125\n",
      "Data columns (total 9 columns):\n",
      "asin              37126 non-null object\n",
      "helpful           37126 non-null object\n",
      "overall           37126 non-null int64\n",
      "reviewText        37126 non-null object\n",
      "reviewTime        37126 non-null object\n",
      "reviewerID        37126 non-null object\n",
      "reviewerName      36797 non-null object\n",
      "summary           37126 non-null object\n",
      "unixReviewTime    37126 non-null int64\n",
      "dtypes: int64(2), object(7)\n",
      "memory usage: 2.8+ MB\n",
      "None\n"
     ]
    }
   ],
   "source": [
    "dataframe = pd.read_json('reviews_Amazon_Instant_Video_5.json',lines=True)\n",
    "print(dataframe.info())"
   ]
  },
  {
   "cell_type": "code",
   "execution_count": 78,
   "metadata": {
    "collapsed": false
   },
   "outputs": [
    {
     "name": "stdout",
     "output_type": "stream",
     "text": [
      "<class 'pandas.core.frame.DataFrame'>\n",
      "Int64Index: 37126 entries, 0 to 37125\n",
      "Data columns (total 13 columns):\n",
      "asin                     37126 non-null object\n",
      "overall                  37126 non-null int64\n",
      "reviewText               37126 non-null object\n",
      "reviewTime               37126 non-null object\n",
      "reviewerID               37126 non-null object\n",
      "reviewerName             36797 non-null object\n",
      "summary                  37126 non-null object\n",
      "unixReviewTime           37126 non-null int64\n",
      "reviewLength             37126 non-null int64\n",
      "reviewerNumberReviews    37126 non-null int64\n",
      "numberUnhelpful          37126 non-null int64\n",
      "numberHelpful            37126 non-null int64\n",
      "helpfulRatio             13133 non-null float64\n",
      "dtypes: float64(1), int64(6), object(6)\n",
      "memory usage: 4.0+ MB\n",
      "None\n"
     ]
    }
   ],
   "source": [
    "reviewerNames = list(dataframe['reviewerName'])\n",
    "authorToNumReviews = {name:reviewerNames.count(name) for name in set(reviewerNames)}\n",
    "dataframe['reviewLength'] = [len(text) for text in dataframe['reviewText']]\n",
    "dataframe['reviewerNumberReviews'] = [authorToNumReviews[author] for author in dataframe['reviewerName']]\n",
    "helpful_count = []\n",
    "unhelpful_count = []\n",
    "helpful_ratio = []\n",
    "for (h,total) in dataframe['helpful']:\n",
    "    helpful_count.append(h)\n",
    "    unhelpful_count.append(total-h)\n",
    "    if total == 0:\n",
    "        helpful_ratio.append(None)\n",
    "    else:\n",
    "        helpful_ratio.append(h/(total))\n",
    "dataframe['numberUnhelpful'] = unhelpful_count\n",
    "dataframe['numberHelpful'] = helpful_count\n",
    "dataframe['helpfulRatio'] = helpful_ratio\n",
    "del dataframe['helpful']\n",
    "print(dataframe.info())"
   ]
  },
  {
   "cell_type": "markdown",
   "metadata": {},
   "source": [
    "## Data Visualization\n",
    "\n",
    "To better understand the data, it is helpful to visualize the different attributes individually. We chose to visualize 5 different attributes of our data: review score, number of people who found the review helpful, number of people who found the review unhelpful, the percentage of people who found the review helpful, and ONE OTHER."
   ]
  },
  {
   "cell_type": "markdown",
   "metadata": {},
   "source": [
    "### Visualizing Review Score"
   ]
  },
  {
   "cell_type": "markdown",
   "metadata": {},
   "source": [
    "First, we visualize the review score (star rating that can take the value of 1, 2, 3, 4, or 5) for each review. Since review score is categorical, we use a histogram to show the frequency of each review score."
   ]
  },
  {
   "cell_type": "code",
   "execution_count": 88,
   "metadata": {
    "collapsed": false
   },
   "outputs": [
    {
     "data": {
      "image/png": "[encoded data removed]",
      "text/plain": [
       "<matplotlib.figure.Figure at 0x7f90f1e8b7f0>"
      ]
     },
     "metadata": {},
     "output_type": "display_data"
    },
    {
     "name": "stdout",
     "output_type": "stream",
     "text": [
      "Number of five star reviews: 20890\n",
      "Percent of five star reviews: 56.26784463718148 %\n",
      "Number of one star reviews: 1718\n",
      "Percent of one star reviews: 4.627484781554705 %\n"
     ]
    }
   ],
   "source": [
    "plt.figure()\n",
    "hist_bins = [0.5,1.5,2.5,3.5,4.5,5.5]\n",
    "dataframe['overall'].hist(bins=hist_bins,rwidth=0.5)\n",
    "plt.title(\"Histogram of Review Score\")\n",
    "plt.xlabel(\"Review Score (Stars)\")\n",
    "plt.ylabel(\"Number of Reviews\")\n",
    "plt.show()\n",
    "number_scores = len([score for score in dataframe['overall']])\n",
    "number_one_stars = len([score for score in dataframe['overall'] if score==1])\n",
    "number_five_stars = len([score for score in dataframe['overall'] if score==5])\n",
    "print('Number of five star reviews:',number_five_stars)\n",
    "print('Percent of five star reviews:',number_five_stars/number_scores*100,'%')\n",
    "print('Number of one star reviews:',number_one_stars)\n",
    "print('Percent of one star reviews:',number_one_stars/number_scores*100,'%')"
   ]
  },
  {
   "cell_type": "markdown",
   "metadata": {},
   "source": [
    "The histogram shows that the review score of 5 is the most frequent in the observed data, occuring in 20,890 reviews, or 56% of the time. The review score of 1 is the least frequent, occuring in 1,718 reviews, or 4.6% of the time.\n",
    "\n",
    "The frequency of each review score is directly related to the review score. That is to say, 5 star reviews are the most common, 4 star reviews the next most common, 3 star reviews the next most common, and so on. This indicates a bias in the data towards positive reviews. The positive slant in the reviews is not necessarily bad - it could simply mean that the products reviewed were good overall, or that reviewers are more likely to give positive reviews than negative reviews. However, it is important to keep the bias towards positive reviews in mind. Since fewer examples exist for negative reviews, it is possible that predicting negative reviews will be more difficult than predicting positive reviews."
   ]
  },
  {
   "cell_type": "markdown",
   "metadata": {},
   "source": [
    "### Visualizing Review Helpfulness"
   ]
  },
  {
   "cell_type": "markdown",
   "metadata": {},
   "source": [
    "Next, we visualize two similar attributes: the number of people who found each review helpful and the number of people who found each review unhelpful. Since both of these variables are numeric, we visualize the distribution of each variable with a box plot."
   ]
  },
  {
   "cell_type": "code",
   "execution_count": 89,
   "metadata": {
    "collapsed": false
   },
   "outputs": [
    {
     "data": {
      "image/png": "[encoded data removed]",
      "text/plain": [
       "<matplotlib.figure.Figure at 0x7f90f1e8b780>"
      ]
     },
     "metadata": {},
     "output_type": "display_data"
    },
    {
     "name": "stdout",
     "output_type": "stream",
     "text": [
      "Maximum \"helpful\" tags: 484\n",
      "Maximum \"unhelpful\" tags: 214\n"
     ]
    }
   ],
   "source": [
    "plt.figure()\n",
    "plt.subplot(1, 2, 1)\n",
    "helpful_boxplot = dataframe['numberHelpful'].plot(kind='box',showfliers=False)\n",
    "plt.title('Number Helpful')\n",
    "#plt.ylabel('Number Who Found the Review Helpful')\n",
    "plt.subplot(1, 2, 2)\n",
    "dataframe['numberUnhelpful'].plot(kind='box',showfliers=False)\n",
    "plt.title('Number Unhelpful')\n",
    "plt.show()\n",
    "max_helpful = max(dataframe['numberHelpful'])\n",
    "max_unhelpful = max(dataframe['numberUnhelpful'])\n",
    "print('Maximum \"helpful\" tags:',max_helpful)\n",
    "print('Maximum \"unhelpful\" tags:',max_unhelpful)"
   ]
  },
  {
   "cell_type": "markdown",
   "metadata": {},
   "source": [
    "The above boxplots show that at least half of the reviews are not tagged as helpful, and at least three quarters of the reviews are not tagged as unhelpful. The majority of the data has no tags regarding helpfulness, which means predicting if a review is helpful or not from this dataset would be difficult.\n",
    "\n",
    "Although most reviews have no tags, some of the reviews have a great many tags. For example, the largest number of helpful tags for a single review is 484, and the largest number of unhelpful tags for a single review is 214. To better visualize these outliers that don't show up in the boxplot, the two variables were also plotted in the histogram below."
   ]
  },
  {
   "cell_type": "code",
   "execution_count": 86,
   "metadata": {
    "collapsed": false
   },
   "outputs": [
    {
     "data": {
      "image/png": "[encoded data removed]",
      "text/plain": [
       "<matplotlib.figure.Figure at 0x7f90f20f0710>"
      ]
     },
     "metadata": {},
     "output_type": "display_data"
    },
    {
     "name": "stdout",
     "output_type": "stream",
     "text": [
      "Number of reviews with over 100 \"helpful\" tags: 41\n",
      "Number of reviews with over 100 \"unhelpful\" tags: 8\n"
     ]
    }
   ],
   "source": [
    "data=[dataframe['numberHelpful'],dataframe['numberUnhelpful']]\n",
    "bins = np.linspace(0, 550, 25)\n",
    "plt.yscale('log')\n",
    "plt.hist(data, bins, alpha=0.7, label=['numberHelpful', 'numberUnhelpful'])\n",
    "plt.legend(loc='upper right')\n",
    "plt.title('Histogram of Helpful and Unhelpful Reviews')\n",
    "plt.ylabel('Frequency (log scale)')\n",
    "plt.xlabel('Number of Reviews')\n",
    "plt.show()\n",
    "helpful_over_100 = len([r for r in dataframe['numberHelpful'] if r>100])\n",
    "unhelpful_over_100 = len([r for r in dataframe['numberUnhelpful'] if r>100])\n",
    "print('Number of reviews with over 100 \"helpful\" tags:',helpful_over_100)\n",
    "print('Number of reviews with over 100 \"unhelpful\" tags:',unhelpful_over_100)"
   ]
  },
  {
   "cell_type": "markdown",
   "metadata": {},
   "source": [
    "The histogram uses a logarithmic scale on the y axis so that the outliers show up on the graph. The histogram shows that the vast majority of reviews are tagges as helpful or unhelpful fewer than 100 times. Only 41 reviews were tagged as helpful more than 100 times, and only 8 reviews were tagged as unhelpful more than 100 times.\n",
    "\n",
    "A third variable that is directly related to the number of users who tagged a review helpful and the number of users who tagged a review unhelpful is the helpfulness ratio. The helpfulness ratio is simply the number of helpful tags divided by the total number of tags. Since the helpfulness ratio is numeric, it is visualized using a box plot."
   ]
  },
  {
   "cell_type": "code",
   "execution_count": 91,
   "metadata": {
    "collapsed": false
   },
   "outputs": [
    {
     "data": {
      "image/png": "[encoded data removed]",
      "text/plain": [
       "<matplotlib.figure.Figure at 0x7f90f1a066a0>"
      ]
     },
     "metadata": {},
     "output_type": "display_data"
    }
   ],
   "source": [
    "plt.figure()\n",
    "dataframe['helpfulRatio'].plot(kind='box',showfliers=False)\n",
    "plt.title('Helpfulness Ratio')\n",
    "plt.show()"
   ]
  },
  {
   "cell_type": "markdown",
   "metadata": {},
   "source": [
    "The box plot shows that the 25th percentile for the helpfulness ratio is 20%, the 50th percentile is 66%, and the 75th percentile is 100%. This means that at least 25% of the reviews that have been tagged as helpful or unhelpful at least once are considered helpful unanimously."
   ]
  },
  {
   "cell_type": "markdown",
   "metadata": {},
   "source": [
    "### Number of reviews the reviewer has authored"
   ]
  },
  {
   "cell_type": "markdown",
   "metadata": {},
   "source": [
    "Since the variable is numeric, its distribution is visualized by a boxplot."
   ]
  },
  {
   "cell_type": "code",
   "execution_count": 92,
   "metadata": {
    "collapsed": false
   },
   "outputs": [
    {
     "name": "stdout",
     "output_type": "stream",
     "text": [
      "      overall  unixReviewTime  reviewLength  reviewerNumberReviews  \\\n",
      "0.00      1.0    9.754560e+08           4.0                    1.0   \n",
      "0.25      4.0    1.367798e+09         145.0                    5.0   \n",
      "0.50      5.0    1.384992e+09         232.0                    7.0   \n",
      "0.75      5.0    1.394150e+09         484.0                   11.0   \n",
      "1.00      5.0    1.406074e+09       18152.0                  645.0   \n",
      "\n",
      "      numberUnhelpful  numberHelpful  helpfulRatio  \n",
      "0.00              0.0            0.0      0.000000  \n",
      "0.25              0.0            0.0      0.200000  \n",
      "0.50              0.0            0.0      0.666667  \n",
      "0.75              0.0            1.0      1.000000  \n",
      "1.00            214.0          484.0      1.000000  \n"
     ]
    },
    {
     "data": {
      "image/png": "[encoded data removed]",
      "text/plain": [
       "<matplotlib.figure.Figure at 0x7f90f1e45d68>"
      ]
     },
     "metadata": {},
     "output_type": "display_data"
    }
   ],
   "source": [
    "plt.figure()\n",
    "unhelpful_boxplot = dataframe['reviewerNumberReviews'].plot(kind='box',showfliers=False)\n",
    "plt.title('Number of Reviews Authored')\n",
    "#print(dataframe.quantile([0,0.25,0.5,0.75,1]))\n",
    "#print([r for r in dataframe['reviewerNumberReviews'] if r > 100])"
   ]
  },
  {
   "cell_type": "markdown",
   "metadata": {},
   "source": [
    "The boxplot shows that the number of reviews each reviewer has authored has a 25th percentile of 5, a 50th percentile of 7, and a 75th percentile of 11. This means that 75% or more of reviewers have written 11 or fewer reviews.\n",
    "\n",
    "Some reviewers, however, have written significantly more reviews."
   ]
  },
  {
   "cell_type": "code",
   "execution_count": 95,
   "metadata": {
    "collapsed": false
   },
   "outputs": [
    {
     "data": {
      "image/png": "[encoded data removed]",
      "text/plain": [
       "<matplotlib.figure.Figure at 0x7f90f20e7710>"
      ]
     },
     "metadata": {},
     "output_type": "display_data"
    }
   ],
   "source": [
    "bins = np.linspace(0, 550, 25)\n",
    "plt.yscale('log')\n",
    "plt.hist(dataframe['reviewerNumberReviews'], bins)\n",
    "plt.title('Histogram of Reviews Authored')\n",
    "plt.ylabel('Frequency (log scale)')\n",
    "plt.xlabel('Number of Reviews')\n",
    "plt.show()\n"
   ]
  }
 ],
 "metadata": {
  "kernelspec": {
   "display_name": "Python 3",
   "language": "python",
   "name": "python3"
  },
  "language_info": {
   "codemirror_mode": {
    "name": "ipython",
    "version": 3
   },
   "file_extension": ".py",
   "mimetype": "text/x-python",
   "name": "python",
   "nbconvert_exporter": "python",
   "pygments_lexer": "ipython3",
   "version": "3.6.3"
  }
 },
 "nbformat": 4,
 "nbformat_minor": 2
}
