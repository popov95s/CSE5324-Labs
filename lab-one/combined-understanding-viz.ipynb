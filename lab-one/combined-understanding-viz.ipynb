{
 "cells": [
  {
   "cell_type": "markdown",
   "metadata": {},
   "source": [
    "## 1. Business Understanding"
   ]
  },
  {
   "cell_type": "markdown",
   "metadata": {},
   "source": [
    "### Overview\n",
    "\n",
    "The dataset we will be using is a collection of amazon reviews for instant video products found at http://jmcauley.ucsd.edu/data/amazon/. Our set includes the reviews’ product, reviewer, text review, rating, helpfulness/unhelpfulness, and other metadata. The specific dataset we are using is a “5-core” dataset meaning that it includes only products and reviewers that have more than 5 reviews on amazon. This means that each product in this dataset has at least 5 reviews and that each reviewer in this dataset has posted at least 5 reviews for this category. The set includes over 37,000 reviews. \n",
    "\n",
    "### Purpose\n",
    "\n",
    "This data was originally collected by Amazon as consumers browsed, bought, and reviewed products. This data is necessary for amazon to be able to display the reviews on each product. The specific dataset we are using however is UCSD’s collection that has been structured by two researchers (Julian McAuley, Alex Yang) to understand why and what reviews are helpful to consumers when it comes to purchasing an object. They outline more in detail their findings with this data in the following paper: http://cseweb.ucsd.edu/~jmcauley/pdfs/www16b.pdf\n",
    "\n",
    "### Prediction Task\n",
    "\n",
    "Reviews have become increasingly crucial in consumer purchase decisions. As discussed in a BrightLocal study, 88% of consumers incorporate reviews into their purchase decisions. This finding for most consumers is obvious. Reviews have become ubiquitous on many e-commerce sites. Another finding that is less intuitive is that consumers are starting to base decisions on less reviews now. It was found that between one and three bad online reviews would be enough to deter the majority (67%) of shoppers from purchasing a product or service. Furthermore, 73% of consumers form an opinion by reading up to six reviews ,vs. 64% in 2014 and 40% of consumers form an opinion by reading just one to three reviews vs. 29% in 2014. \n",
    "Consumers are basing decisions on less reviews. This trend introduces unique issues, for example, what if the first few reviews a consumer reads are not very helpful? What if all of the reviews on a product are unhelpful? This puts a premium on presenting and identifying useful reviews. If a company could know beforehand which types of reviews are helpful, they could enforce those attributes as rules or they could promote those reviews before other unhelpful reviews. \n",
    "Given this scenario, our prediction task for this data is the to determine the helpfulness [helpfulness ratio?] of a review. \n",
    "\n",
    "### Third Parties\n",
    "\n",
    "The parties interested in this result would include e-commerce vendors (Amazon, eBay, Alibaba, etc..) that offer reviews on products. This could give them insight on what reviews are generally helpful and how they can get these reviews in front of consumers before other reviews to help with product conversion. This would also allow them to enforce potential rules on reviews to remove unhelpful reviews that would not be helpful and potentially detrimental to product conversion. It would also help with products that do not yet have many reviews where the normal process of voting has not taken place yet. \n",
    "More third parties that would be interested in the data(although not specifically these findings) include advertisers, that would benefit from a text analysis of the reviews to see what relating products or needs are mentioned. They could use this information to know when to advertise certain products. Consumers will benefit from having more helpful reviews. \n",
    "\n",
    "\n",
    "### Sources\n",
    "BrightLocal, Business2community, Bazaarvoice, webrepublic, reprevive, Econsultancy,business2community,Reevoo and Social Media Today:\n",
    "https://www.vendasta.com/blog/50-stats-you-need-to-know-about-online-reviews\n",
    "\n",
    "Forbes \n",
    "https://www.forbes.com/sites/jaysondemers/2015/12/28/how-important-are-customer-reviews-for-online-marketing/#276bfb421928\n"
   ]
  },
  {
   "cell_type": "markdown",
   "metadata": {},
   "source": [
    "## 2. Data understanding"
   ]
  },
  {
   "cell_type": "code",
   "execution_count": 89,
   "metadata": {},
   "outputs": [
    {
     "name": "stdout",
     "output_type": "stream",
     "text": [
      "3.6.4 (v3.6.4:d48eceb, Dec 19 2017, 06:54:40) [MSC v.1900 64 bit (AMD64)]\n",
      "1.14.0\n",
      "<class 'pandas.core.frame.DataFrame'>\n",
      "RangeIndex: 37126 entries, 0 to 37125\n",
      "Data columns (total 9 columns):\n",
      "asin              37126 non-null object\n",
      "helpful           37126 non-null object\n",
      "overall           37126 non-null int64\n",
      "reviewText        37126 non-null object\n",
      "reviewTime        37126 non-null object\n",
      "reviewerID        37126 non-null object\n",
      "reviewerName      36797 non-null object\n",
      "summary           37126 non-null object\n",
      "unixReviewTime    37126 non-null int64\n",
      "dtypes: int64(2), object(7)\n",
      "memory usage: 2.5+ MB\n"
     ]
    }
   ],
   "source": [
    "#Imports\n",
    "import sys\n",
    "import numpy as np\n",
    "import pandas as pd\n",
    "import matplotlib.pyplot as plt\n",
    "import scipy\n",
    "\n",
    "print(sys.version)\n",
    "print(np.__version__)\n",
    "\n",
    "plt.style.use('seaborn-deep')\n",
    "\n",
    "#load dataset\n",
    "dataframe = pd.read_json('reviews_Amazon_Instant_Video_5.json',lines=True)\n",
    "dataframe.info()"
   ]
  },
  {
   "cell_type": "markdown",
   "metadata": {},
   "source": [
    "### 2.1. Data types\n",
    "The features of this dataset are as follows :\n",
    "+ asin - ID of the product - Nominal\n",
    "+ helpful - A tuple containing the number of people that thought the review was helpful or unhelpful - Both ordinal, stored as integers\n",
    "+ overall - The overall rating that a product received. Ordinal, stored as integer\n",
    "+ reviewText - The full text of the review - Bag of words\n",
    "+ reviewTime - The timestamp of the review - Interval\n",
    "+ reviewerID - The ID of the reviewer - Nominal\n",
    "+ reviewerName - The name of the reviewer - Nominal\n",
    "+ summary - A summary of the review  - Bag of words\n",
    "+ unixReviewTime - The UNIX timestamp of the review - Interval\n",
    "   "
   ]
  },
  {
   "cell_type": "markdown",
   "metadata": {},
   "source": [
    "\n",
    "Additionally, we extracted the following attributes from the already existing attributes that will help us in our analysis of the dataset :\n",
    "+ numberHelpful - The amount of people that thought the review was helpful, extracted from the helpful tuple. Ordinal, stored as integer\n",
    "+ numberUnhelpful - The amount of people that thought the review was unhelpful, extracted from the helpful tuple. Ordinal, stored as integer\n",
    "+ reviewerNumberReviews - The number of reviews each reviewer had left. Ordinal, stored as integer\n",
    "+ reviewLength  - The length of the review text. Ordinal, stored as integer\n"
   ]
  },
  {
   "cell_type": "code",
   "execution_count": 77,
   "metadata": {},
   "outputs": [],
   "source": [
    "#extract information for number of reviews by each reviewer\n",
    "reviewer_ids = list(dataframe['reviewerID'])\n",
    "authorToNumReviews = {user_id:reviewer_ids.count(user_id) for user_id in set(reviewer_ids)}\n",
    "dataframe['reviewLength'] = [len(text) for text in dataframe['reviewText']]\n",
    "dataframe['reviewerNumberReviews'] = [authorToNumReviews[author] for author in dataframe['reviewerID']]\n",
    "\n",
    "#extract additional columns for analysis\n",
    "helpful_count = []\n",
    "unhelpful_count = []\n",
    "helpful_ratio = []\n",
    "for (h,total) in dataframe['helpful']:\n",
    "    helpful_count.append(h)\n",
    "    unhelpful_count.append(total-h)\n",
    "    if total == 0:\n",
    "        helpful_ratio.append(None)\n",
    "    else:\n",
    "        helpful_ratio.append(h/(total))\n",
    "dataframe['numberUnhelpful'] = unhelpful_count\n",
    "dataframe['numberHelpful'] = helpful_count\n",
    "dataframe['helpfulRatio'] = helpful_ratio"
   ]
  },
  {
   "cell_type": "markdown",
   "metadata": {},
   "source": [
    "### Bag of Words Analysis\n",
    "\n",
    "An additional point of interest in this data set is the possibility of finding relationships between the language used in reviews and whether that relates to the overall rating of the reviews or potentially overall helpfulness. Uses of this knowledge could be to predict helpfulness or rating when applied to a large set or to identify quickly what is upsetting or exciting consumers if grouped by individual products.\n",
    "\n",
    "First, what we will do is examine the language used in each review grouped by the overall rating the review gave. This maygive us insight into what words were most popular with certain review ratings. "
   ]
  },
  {
   "cell_type": "code",
   "execution_count": 148,
   "metadata": {},
   "outputs": [],
   "source": [
    "from sklearn.feature_extraction.text import CountVectorizer\n",
    "\n",
    "\n",
    "df_grouped = dataframe.groupby(by=\"overall\")\n",
    "df_dict = {}\n",
    "\n",
    "for x in range(5):\n",
    "    x += 1\n",
    "    df_group = df_grouped.get_group(x)\n",
    "    count_vect_review = CountVectorizer(stop_words='english')\n",
    "    count_vect_summary = CountVectorizer(stop_words='english')\n",
    "    review_bag = count_vect_review.fit_transform(df_group['reviewText'])\n",
    "    summary_bag = count_vect_summary.fit_transform(df_group['summary'])\n",
    "    df_inner_dict = {\n",
    "        \"count_vect_review\":count_vect_review,\n",
    "        \"count_vect_summary\":count_vect_summary,\n",
    "        \"review_bag\":review_bag,\n",
    "        \"summary_bag\":summary_bag\n",
    "    }\n",
    "    df_dict[x] = df_inner_dict"
   ]
  },
  {
   "cell_type": "markdown",
   "metadata": {},
   "source": [
    "We will examine the review bag closely to understand the words used in reviews and see if we can find any insights"
   ]
  },
  {
   "cell_type": "code",
   "execution_count": 152,
   "metadata": {},
   "outputs": [
    {
     "name": "stdout",
     "output_type": "stream",
     "text": [
      "10 Most common words in 1 star review titles.\n",
      "\n",
      " awful     40\n",
      "like      41\n",
      "season    44\n",
      "good      45\n",
      "just      47\n",
      "time      49\n",
      "don       51\n",
      "movie     58\n",
      "bad       72\n",
      "boring    85\n",
      "dtype: int64 \n",
      "\n",
      "\n",
      "10 Most common words in 2 star review titles.\n",
      "\n",
      " better     38\n",
      "really     45\n",
      "bad        48\n",
      "great      49\n",
      "season     52\n",
      "just       56\n",
      "boring     60\n",
      "movie      65\n",
      "like       71\n",
      "good      101\n",
      "dtype: int64 \n",
      "\n",
      "\n",
      "10 Most common words in 3 star review titles.\n",
      "\n",
      " just            97\n",
      "okay           101\n",
      "interesting    117\n",
      "better         118\n",
      "movie          122\n",
      "like           126\n",
      "great          163\n",
      "ok             178\n",
      "season         238\n",
      "good           390\n",
      "dtype: int64 \n",
      "\n",
      "\n",
      "10 Most common words in 4 star review titles.\n",
      "\n",
      " better          196\n",
      "movie           209\n",
      "love            212\n",
      "like            264\n",
      "fun             315\n",
      "interesting     329\n",
      "series          384\n",
      "season          518\n",
      "great           591\n",
      "good           1158\n",
      "dtype: int64 \n",
      "\n",
      "\n",
      "10 Most common words in 5 star review titles.\n",
      "\n",
      " awesome       453\n",
      "tv            461\n",
      "excellent     505\n",
      "fun           540\n",
      "best          995\n",
      "good         1096\n",
      "series       1377\n",
      "season       1675\n",
      "love         1825\n",
      "great        3007\n",
      "dtype: int64 \n",
      "\n",
      "\n"
     ]
    }
   ],
   "source": [
    "for key in df_dict.keys():\n",
    "    df = pd.DataFrame(data=df_dict[key][\"summary_bag\"].toarray(),columns=df_dict[key][\"count_vect_summary\"].get_feature_names())\n",
    "    \n",
    "    #Printing the most common words in the data\n",
    "    print(\"10 Most common words in\",key,\"star review titles.\\n\\n\",df.sum().sort_values()[-10:],\"\\n\\n\")"
   ]
  },
  {
   "cell_type": "markdown",
   "metadata": {},
   "source": [
    "That gave a good idea of raw coun in each different review, but there is a fair deal of overlap between the most frequent words accross both groups. Furthermore these findings relate mostly to how the consumer felt. Potentialy finding the TF/IDF for each word will give a better result and help identify specific charachteristics of videos that made it receive good or bad reviews.\n",
    "\n",
    "In this next section we will find the top 10 words ranked by TF/IDF in the review documents grouped by star rating."
   ]
  },
  {
   "cell_type": "code",
   "execution_count": 176,
   "metadata": {},
   "outputs": [],
   "source": [
    "from sklearn.feature_extraction.text import TfidfVectorizer\n",
    "\n",
    "df_dict_tfidf = {}\n",
    "\n",
    "for x in range(5):\n",
    "    x += 1\n",
    "    df_group = df_grouped.get_group(x)\n",
    "    tfidf_vect_review = TfidfVectorizer(stop_words='english',max_df=0.01,min_df=4)\n",
    "    tfidf_vect_summary = TfidfVectorizer(stop_words='english',max_df=0.01,min_df=4)\n",
    "    review_bag = tfidf_vect_review.fit_transform(df_group['reviewText'])\n",
    "    summary_bag = tfidf_vect_summary.fit_transform(df_group['summary'])\n",
    "    df_inner_dict = {\n",
    "        \"tfidf_vect_review\":tfidf_vect_review,\n",
    "        \"tfidf_vect_summary\":tfidf_vect_summary,\n",
    "        \"review_bag\":review_bag,\n",
    "        \"summary_bag\":summary_bag\n",
    "    }\n",
    "    df_dict_tfidf[x] = df_inner_dict"
   ]
  },
  {
   "cell_type": "code",
   "execution_count": 179,
   "metadata": {},
   "outputs": [
    {
     "name": "stdout",
     "output_type": "stream",
     "text": [
      "10 Most unique words in 1 star review titles by TF/IDF.\n",
      "\n",
      " nude          1.0\n",
      "offer         1.0\n",
      "officially    1.0\n",
      "ordering      1.0\n",
      "paint         1.0\n",
      "parenthood    1.0\n",
      "pc            1.0\n",
      "phone         1.0\n",
      "minions       1.0\n",
      "zombies       1.0\n",
      "dtype: float64 \n",
      "\n",
      "\n",
      "10 Most unique words in 2 star review titles by TF/IDF.\n",
      "\n",
      " robot           1.0\n",
      "executed        1.0\n",
      "ridiculously    1.0\n",
      "unfunny         1.0\n",
      "excited         1.0\n",
      "depressing      1.0\n",
      "syfy            1.0\n",
      "responses       1.0\n",
      "alright         1.0\n",
      "bother          1.0\n",
      "dtype: float64 \n",
      "\n",
      "\n",
      "10 Most unique words in 3 star review titles by TF/IDF.\n",
      "\n",
      " faults      1.0\n",
      "twins       1.0\n",
      "fare        1.0\n",
      "ran         1.0\n",
      "random      1.0\n",
      "faint       1.0\n",
      "rave        1.0\n",
      "fails       1.0\n",
      "hill        1.0\n",
      "finished    1.0\n",
      "dtype: float64 \n",
      "\n",
      "\n",
      "10 Most unique words in 4 star review titles by TF/IDF.\n",
      "\n",
      " sarcastic    1.0\n",
      "liking       1.0\n",
      "twisty       1.0\n",
      "likes        1.0\n",
      "likeable     1.0\n",
      "typically    1.0\n",
      "likable      1.0\n",
      "florida      1.0\n",
      "twice        1.0\n",
      "ninety       1.0\n",
      "dtype: float64 \n",
      "\n",
      "\n",
      "10 Most unique words in 5 star review titles by TF/IDF.\n",
      "\n",
      " holds        1.0\n",
      "robertson    1.0\n",
      "hold         1.0\n",
      "busy         1.0\n",
      "hokey        1.0\n",
      "delivery     1.0\n",
      "rocks        1.0\n",
      "buyers       1.0\n",
      "buying       1.0\n",
      "evolved      1.0\n",
      "dtype: float64 \n",
      "\n",
      "\n"
     ]
    }
   ],
   "source": [
    "for key in df_dict_tfidf.keys():\n",
    "    df = pd.DataFrame(data=df_dict_tfidf[key][\"review_bag\"].toarray(),columns=df_dict_tfidf[key][\"tfidf_vect_review\"].get_feature_names())\n",
    "    \n",
    "    #Printing the most common words in the data\n",
    "    print(\"10 Most unique words in\",key,\"star review titles by TF/IDF.\\n\\n\",df.max().sort_values()[-10:],\"\\n\\n\")"
   ]
  },
  {
   "cell_type": "markdown",
   "metadata": {},
   "source": [
    "Here we see that there seems to be distinctions rising in this new set of information. For example, many 1 star reviews had minions and zombies as important words. This may propose that these elements in movies lead to many controvertial opinions. \n",
    "\n",
    "Applying this analysis to one specific product may yeild what it was about that specific product that excited or bored viewers.\n",
    "In this next section we will do the same TF/IDF analysis as above but only on one product."
   ]
  },
  {
   "cell_type": "code",
   "execution_count": 264,
   "metadata": {},
   "outputs": [
    {
     "name": "stdout",
     "output_type": "stream",
     "text": [
      "            asin  overall\n",
      "1557  B00I3MPDP4      455\n"
     ]
    }
   ],
   "source": [
    "#Finding the most reviewed Product\n",
    "data_products = dataframe.groupby(by=[\"asin\"])\n",
    "prod_count = data_products.overall.count()\n",
    "prod_max = prod_count.max()\n",
    "prod_count = prod_count.reset_index()\n",
    "max_product = prod_count[prod_count['overall'] == prod_max]\n",
    "max_product_asin = max_product['asin'].tolist()[0]\n",
    "print (max_product)\n",
    "\n",
    "df_product_grouped = dataframe.groupby(by=[\"overall\",\"asin\"])"
   ]
  },
  {
   "cell_type": "code",
   "execution_count": 267,
   "metadata": {},
   "outputs": [
    {
     "name": "stdout",
     "output_type": "stream",
     "text": [
      "  (0, 200)\t0.2876389870877477\n",
      "  (0, 348)\t0.12375627413765689\n",
      "  (0, 385)\t0.12375627413765689\n",
      "  (0, 27)\t0.12375627413765689\n",
      "  (0, 10)\t0.16721265471037378\n",
      "  (0, 222)\t0.16721265471037378\n",
      "  (0, 72)\t0.12375627413765689\n",
      "  (0, 237)\t0.16721265471037378\n",
      "  (0, 96)\t0.1479828999677206\n",
      "  (0, 12)\t0.16721265471037378\n",
      "  (0, 351)\t0.16721265471037378\n",
      "  (0, 245)\t0.12375627413765689\n",
      "  (0, 218)\t0.16721265471037378\n",
      "  (0, 180)\t0.13433917184788896\n",
      "  (0, 336)\t0.16721265471037378\n",
      "  (0, 3)\t0.16721265471037378\n",
      "  (0, 41)\t0.16721265471037378\n",
      "  (0, 224)\t0.16721265471037378\n",
      "  (0, 303)\t0.1479828999677206\n",
      "  (0, 344)\t0.16721265471037378\n",
      "  (0, 2)\t0.16721265471037378\n",
      "  (0, 236)\t0.16721265471037378\n",
      "  (0, 357)\t0.13433917184788896\n",
      "  (0, 103)\t0.12375627413765689\n",
      "  (0, 193)\t0.16721265471037378\n",
      "  :\t:\n",
      "  (23, 315)\t0.12447956799577001\n",
      "  (23, 320)\t0.13512431747851372\n",
      "  (23, 374)\t0.14884778640194987\n",
      "  (23, 295)\t0.14884778640194987\n",
      "  (23, 227)\t0.14884778640194987\n",
      "  (23, 185)\t0.14884778640194987\n",
      "  (23, 256)\t0.13512431747851372\n",
      "  (23, 299)\t0.12447956799577001\n",
      "  (23, 220)\t0.14884778640194987\n",
      "  (23, 269)\t0.14884778640194987\n",
      "  (23, 17)\t0.14884778640194987\n",
      "  (23, 284)\t0.168189929494974\n",
      "  (23, 292)\t0.168189929494974\n",
      "  (23, 334)\t0.336379858989948\n",
      "  (23, 22)\t0.168189929494974\n",
      "  (23, 312)\t0.336379858989948\n",
      "  (23, 69)\t0.168189929494974\n",
      "  (23, 369)\t0.168189929494974\n",
      "  (23, 57)\t0.168189929494974\n",
      "  (23, 191)\t0.168189929494974\n",
      "  (23, 162)\t0.168189929494974\n",
      "  (23, 60)\t0.168189929494974\n",
      "  (23, 270)\t0.168189929494974\n",
      "  (23, 294)\t0.168189929494974\n",
      "  (23, 345)\t0.168189929494974\n"
     ]
    }
   ],
   "source": [
    "df_dict_tfidf_product = {}\n",
    "for x in range(5):\n",
    "    x += 1\n",
    "    df_product_group = df_product_grouped.get_group((x,max_product_asin))\n",
    "    tfidf_vect_review_product = TfidfVectorizer(stop_words='english')\n",
    "    tfidf_vect_summary_product = TfidfVectorizer(stop_words='english')\n",
    "\n",
    "    review_bag_product = tfidf_vect_review_product.fit_transform(df_product_group['reviewText'])\n",
    "    summary_bag_product = tfidf_vect_summary_product.fit_transform(df_product_group['summary'])\n",
    "    df_inner_dict = {\n",
    "        \"tfidf_vect_review_product\":tfidf_vect_review_product,\n",
    "        \"tfidf_vect_summary_product\":tfidf_vect_summary_product,\n",
    "        \"review_bag_product\":review_bag_product,\n",
    "        \"summary_bag_product\":summary_bag_product\n",
    "    }\n",
    "    df_dict_tfidf_product[x] = df_inner_dict\n",
    "print (df_dict_tfidf_product[2]['review_bag_product'])"
   ]
  },
  {
   "cell_type": "code",
   "execution_count": 275,
   "metadata": {},
   "outputs": [
    {
     "name": "stdout",
     "output_type": "stream",
     "text": [
      "10 Most unique words in 1 star review titles by TF/IDF.\n",
      "\n",
      " match       0.360242\n",
      "twisted     0.365457\n",
      "appeal      0.365457\n",
      "mind        0.365457\n",
      "little      0.365457\n",
      "value       0.365457\n",
      "say         0.365457\n",
      "got         0.383532\n",
      "swearing    0.412176\n",
      "sentence    0.412176\n",
      "dtype: float64 \n",
      "\n",
      "\n",
      "10 Most unique words in 2 star review titles by TF/IDF.\n",
      "\n",
      " entire       0.389515\n",
      "execution    0.430608\n",
      "pilot        0.434033\n",
      "fight        0.440131\n",
      "live         0.440131\n",
      "paced        0.440131\n",
      "bit          0.471637\n",
      "crazy        0.471637\n",
      "ok           0.471637\n",
      "slow         0.490745\n",
      "dtype: float64 \n",
      "\n",
      "\n",
      "10 Most unique words in 3 star review titles by TF/IDF.\n",
      "\n",
      " season      0.437702\n",
      "action      0.437702\n",
      "viewer      0.467491\n",
      "lawyer      0.479176\n",
      "series      0.479840\n",
      "killed      0.485558\n",
      "rest        0.520277\n",
      "complain    0.556306\n",
      "8217        0.561251\n",
      "develop     0.640871\n",
      "dtype: float64 \n",
      "\n",
      "\n",
      "10 Most unique words in 4 star review titles by TF/IDF.\n",
      "\n",
      " short       0.537796\n",
      "husband     0.546431\n",
      "new         0.548929\n",
      "lot         0.557244\n",
      "bad         0.558931\n",
      "happened    0.565396\n",
      "music       0.610654\n",
      "34          0.615175\n",
      "saw         0.631370\n",
      "love        0.652786\n",
      "dtype: float64 \n",
      "\n",
      "\n",
      "10 Most unique words in 5 star review titles by TF/IDF.\n",
      "\n",
      " coming        0.571578\n",
      "finish        0.573121\n",
      "love          0.591097\n",
      "attention     0.597423\n",
      "previously    0.608151\n",
      "surely        0.618474\n",
      "excellent     0.620772\n",
      "roku          0.625410\n",
      "34            0.671381\n",
      "stayers       0.681890\n",
      "dtype: float64 \n",
      "\n",
      "\n"
     ]
    }
   ],
   "source": [
    "for key in df_dict_tfidf_product.keys():\n",
    "    df = pd.DataFrame(data=df_dict_tfidf_product[key][\"review_bag_product\"].toarray(),columns=df_dict_tfidf_product[key][\"tfidf_vect_review_product\"].get_feature_names())\n",
    "    \n",
    "    #Printing the most common words in the data\n",
    "    print(\"10 Most unique words in\",key,\"star review titles by TF/IDF.\\n\\n\",df.max().sort_values()[-10:],\"\\n\\n\")"
   ]
  },
  {
   "cell_type": "markdown",
   "metadata": {},
   "source": [
    "This breaks out the top TF/IDF words accross a single product, and it suggests that many of the 1-star reviews came from the vulgarity or swearing in the show. This is an example how this can be useful not only accross a range of products but even for a single product. The company that makes this show can then very quickly see that vulgarity is upsetting some of their viewers and then they can decide whether or not it makes sense for them to change that"
   ]
  },
  {
   "cell_type": "markdown",
   "metadata": {},
   "source": [
    "<br/> \n",
    "We discarded the attributes we would not need for our analysis and set the appropriate storage types to those that were not already assigned. \n",
    "<br/>"
   ]
  },
  {
   "cell_type": "code",
   "execution_count": 91,
   "metadata": {},
   "outputs": [
    {
     "name": "stdout",
     "output_type": "stream",
     "text": [
      "<class 'pandas.core.frame.DataFrame'>\n",
      "RangeIndex: 37126 entries, 0 to 37125\n",
      "Data columns (total 10 columns):\n",
      "asin                     37126 non-null object\n",
      "overall                  37126 non-null int64\n",
      "reviewText               37126 non-null object\n",
      "reviewerID               37126 non-null object\n",
      "reviewerName             36797 non-null object\n",
      "summary                  37126 non-null object\n",
      "numberUnhelpful          37126 non-null int64\n",
      "numberHelpful            37126 non-null int64\n",
      "reviewLength             37126 non-null int64\n",
      "reviewerNumberReviews    37126 non-null int64\n",
      "dtypes: int64(5), object(5)\n",
      "memory usage: 2.8+ MB\n"
     ]
    }
   ],
   "source": [
    "import numpy as np\n",
    "unneeded_attributes = ['unixReviewTime', 'helpful', 'reviewTime']\n",
    "ordinal_attributes = ['numberHelpful', 'numberUnhelpful', 'reviewLength', 'overall', 'reviewerNumberReviews']\n",
    "nominal_attributes = ['asin', 'reviewerID', 'reviewerName']\n",
    "\n",
    "for attr in unneeded_attributes:\n",
    "    if attr in dataframe:\n",
    "        del dataframe[attr]\n",
    "\n",
    "dataframe[ordinal_attributes] = dataframe[ordinal_attributes].astype(np.int64)\n",
    "dataframe.info()"
   ]
  },
  {
   "cell_type": "markdown",
   "metadata": {},
   "source": [
    "### 2.2. Data quality\n",
    "\n",
    "The dataset that was provided was not missing any values for the attributes we wanted to use. It was, however, missing 329 reviewer names, as can be seen from the outputs above and below. We decided to keep this data as is, as there was another unique identifier for reviewers - reviewerID - that we could use to associate a reviewer with a review. Reviewer names were also not a part of our analysis or predicition, so it would in no way skew our results at the end. \n",
    "<br/>\n",
    "The most probable reason why there were missing values for reviewerName is that Amazon had given the option to reviewers to post anonymously and had hidden their names in the review. Since only logged in members are allowed to post reviews, we can assume that the reviewerID is sufficient for us to identify reviews by the same members."
   ]
  },
  {
   "cell_type": "code",
   "execution_count": 97,
   "metadata": {},
   "outputs": [
    {
     "data": {
      "text/plain": [
       "329"
      ]
     },
     "execution_count": 97,
     "metadata": {},
     "output_type": "execute_result"
    }
   ],
   "source": [
    "null_data = dataframe[dataframe.isnull().any(axis=1)]\n",
    "len(null_data)\n",
    "#pd.get_dummies(dataframe.reviewerID)"
   ]
  },
  {
   "cell_type": "markdown",
   "metadata": {},
   "source": [
    "<br/> \n",
    "Furthermore, we decided to not treat entries where numberHelpful and numberUnhelpful were 0 as missing, as it was not an erroneous entry of information, but could signify that simply no other customers found this review to be helpful or unhelpful and could damage our final result, should we choose to delete or impute these values. It can be seen that over 50% of the values have 0 for those two attributes. \n",
    "<br/>"
   ]
  },
  {
   "cell_type": "code",
   "execution_count": 93,
   "metadata": {},
   "outputs": [
    {
     "data": {
      "text/html": [
       "<div>\n",
       "<table border=\"1\" class=\"dataframe\">\n",
       "  <thead>\n",
       "    <tr style=\"text-align: right;\">\n",
       "      <th></th>\n",
       "      <th>overall</th>\n",
       "      <th>numberUnhelpful</th>\n",
       "      <th>numberHelpful</th>\n",
       "      <th>reviewLength</th>\n",
       "      <th>reviewerNumberReviews</th>\n",
       "    </tr>\n",
       "  </thead>\n",
       "  <tbody>\n",
       "    <tr>\n",
       "      <th>count</th>\n",
       "      <td>37126.00000</td>\n",
       "      <td>37126.000000</td>\n",
       "      <td>37126.000000</td>\n",
       "      <td>37126.000000</td>\n",
       "      <td>37126.000000</td>\n",
       "    </tr>\n",
       "    <tr>\n",
       "      <th>mean</th>\n",
       "      <td>4.20953</td>\n",
       "      <td>2.019016</td>\n",
       "      <td>1.293541</td>\n",
       "      <td>515.292033</td>\n",
       "      <td>25.152562</td>\n",
       "    </tr>\n",
       "    <tr>\n",
       "      <th>std</th>\n",
       "      <td>1.11855</td>\n",
       "      <td>10.086076</td>\n",
       "      <td>8.301778</td>\n",
       "      <td>835.145610</td>\n",
       "      <td>88.755763</td>\n",
       "    </tr>\n",
       "    <tr>\n",
       "      <th>min</th>\n",
       "      <td>1.00000</td>\n",
       "      <td>0.000000</td>\n",
       "      <td>0.000000</td>\n",
       "      <td>4.000000</td>\n",
       "      <td>1.000000</td>\n",
       "    </tr>\n",
       "    <tr>\n",
       "      <th>25%</th>\n",
       "      <td>4.00000</td>\n",
       "      <td>0.000000</td>\n",
       "      <td>0.000000</td>\n",
       "      <td>145.000000</td>\n",
       "      <td>5.000000</td>\n",
       "    </tr>\n",
       "    <tr>\n",
       "      <th>50%</th>\n",
       "      <td>5.00000</td>\n",
       "      <td>0.000000</td>\n",
       "      <td>0.000000</td>\n",
       "      <td>232.000000</td>\n",
       "      <td>7.000000</td>\n",
       "    </tr>\n",
       "    <tr>\n",
       "      <th>75%</th>\n",
       "      <td>5.00000</td>\n",
       "      <td>1.000000</td>\n",
       "      <td>1.000000</td>\n",
       "      <td>484.000000</td>\n",
       "      <td>11.000000</td>\n",
       "    </tr>\n",
       "    <tr>\n",
       "      <th>max</th>\n",
       "      <td>5.00000</td>\n",
       "      <td>512.000000</td>\n",
       "      <td>484.000000</td>\n",
       "      <td>18152.000000</td>\n",
       "      <td>645.000000</td>\n",
       "    </tr>\n",
       "  </tbody>\n",
       "</table>\n",
       "</div>"
      ],
      "text/plain": [
       "           overall  numberUnhelpful  numberHelpful  reviewLength  \\\n",
       "count  37126.00000     37126.000000   37126.000000  37126.000000   \n",
       "mean       4.20953         2.019016       1.293541    515.292033   \n",
       "std        1.11855        10.086076       8.301778    835.145610   \n",
       "min        1.00000         0.000000       0.000000      4.000000   \n",
       "25%        4.00000         0.000000       0.000000    145.000000   \n",
       "50%        5.00000         0.000000       0.000000    232.000000   \n",
       "75%        5.00000         1.000000       1.000000    484.000000   \n",
       "max        5.00000       512.000000     484.000000  18152.000000   \n",
       "\n",
       "       reviewerNumberReviews  \n",
       "count           37126.000000  \n",
       "mean               25.152562  \n",
       "std                88.755763  \n",
       "min                 1.000000  \n",
       "25%                 5.000000  \n",
       "50%                 7.000000  \n",
       "75%                11.000000  \n",
       "max               645.000000  "
      ]
     },
     "execution_count": 93,
     "metadata": {},
     "output_type": "execute_result"
    }
   ],
   "source": [
    "dataframe.describe()"
   ]
  },
  {
   "cell_type": "markdown",
   "metadata": {},
   "source": [
    "<br/>\n",
    "The dataset we chose had no duplicate entries in it and eliminated the need for us to handle such a case. There were no instances where the same review was posted twice or the same reviewer had posted on the same item twice. If we had to deal with such a case, we would have eliminated all such entries, as they could be interpreted as a mistake in the data collection. "
   ]
  },
  {
   "cell_type": "code",
   "execution_count": 96,
   "metadata": {},
   "outputs": [
    {
     "data": {
      "text/plain": [
       "0"
      ]
     },
     "execution_count": 96,
     "metadata": {},
     "output_type": "execute_result"
    }
   ],
   "source": [
    "len(dataframe[dataframe.duplicated(['asin','reviewerID'],keep=False)])"
   ]
  },
  {
   "cell_type": "code",
   "execution_count": null,
   "metadata": {},
   "outputs": [],
   "source": [
    "Tyler"
   ]
  },
  {
   "cell_type": "code",
   "execution_count": 6,
   "metadata": {},
   "outputs": [
    {
     "name": "stdout",
     "output_type": "stream",
     "text": [
      "<class 'pandas.core.frame.DataFrame'>\n",
      "Int64Index: 37126 entries, 0 to 37125\n",
      "Data columns (total 13 columns):\n",
      "asin                     37126 non-null object\n",
      "overall                  37126 non-null int64\n",
      "reviewText               37126 non-null object\n",
      "reviewTime               37126 non-null object\n",
      "reviewerID               37126 non-null object\n",
      "reviewerName             36797 non-null object\n",
      "summary                  37126 non-null object\n",
      "unixReviewTime           37126 non-null int64\n",
      "reviewLength             37126 non-null int64\n",
      "reviewerNumberReviews    37126 non-null int64\n",
      "numberUnhelpful          37126 non-null int64\n",
      "numberHelpful            37126 non-null int64\n",
      "helpfulRatio             13133 non-null float64\n",
      "dtypes: float64(1), int64(6), object(6)\n",
      "memory usage: 4.0+ MB\n",
      "None\n"
     ]
    }
   ],
   "source": [
    "reviewerNames = list(dataframe['reviewerID'])\n",
    "authorToNumReviews = {name:reviewerNames.count(name) for name in set(reviewerNames)}\n",
    "dataframe['reviewLength'] = [len(text) for text in dataframe['reviewText']]\n",
    "dataframe['reviewerNumberReviews'] = [authorToNumReviews[author] for author in dataframe['reviewerID']]\n",
    "helpful_count = []\n",
    "unhelpful_count = []\n",
    "helpful_ratio = []\n",
    "for (h,total) in dataframe['helpful']:\n",
    "    helpful_count.append(h)\n",
    "    unhelpful_count.append(total-h)\n",
    "    if total == 0:\n",
    "        helpful_ratio.append(None)\n",
    "    else:\n",
    "        helpful_ratio.append(h/(total))\n",
    "dataframe['numberUnhelpful'] = unhelpful_count\n",
    "dataframe['numberHelpful'] = helpful_count\n",
    "dataframe['helpfulRatio'] = helpful_ratio\n",
    "del dataframe['helpful']\n",
    "print(dataframe.info())"
   ]
  },
  {
   "cell_type": "markdown",
   "metadata": {},
   "source": [
    "## Data Visualization\n",
    "\n",
    "To better understand the data, it is helpful to visualize the different attributes individually. We chose to visualize 5 different attributes of our data: review score, number of people who found the review helpful, number of people who found the review unhelpful, the percentage of people who found the review helpful, and the number of reviews each reviewer has authored."
   ]
  },
  {
   "cell_type": "markdown",
   "metadata": {},
   "source": [
    "### Visualizing Review Score"
   ]
  },
  {
   "cell_type": "markdown",
   "metadata": {},
   "source": [
    "First, we visualize the review score (star rating that can take the value of 1, 2, 3, 4, or 5) for each review. Since review score is categorical, we use a histogram to show the frequency of each review score."
   ]
  },
  {
   "cell_type": "code",
   "execution_count": 88,
   "metadata": {},
   "outputs": [
    {
     "data": {
      "image/png": "[encoded data removed]",
      "text/plain": [
       "<matplotlib.figure.Figure at 0x7f90f1e8b7f0>"
      ]
     },
     "metadata": {},
     "output_type": "display_data"
    },
    {
     "name": "stdout",
     "output_type": "stream",
     "text": [
      "Number of five star reviews: 20890\n",
      "Percent of five star reviews: 56.26784463718148 %\n",
      "Number of one star reviews: 1718\n",
      "Percent of one star reviews: 4.627484781554705 %\n"
     ]
    }
   ],
   "source": [
    "plt.figure()\n",
    "hist_bins = [0.5,1.5,2.5,3.5,4.5,5.5]\n",
    "dataframe['overall'].hist(bins=hist_bins,rwidth=0.5)\n",
    "plt.title(\"Histogram of Review Score\")\n",
    "plt.xlabel(\"Review Score (Stars)\")\n",
    "plt.ylabel(\"Number of Reviews\")\n",
    "plt.show()\n",
    "number_scores = len([score for score in dataframe['overall']])\n",
    "number_one_stars = len([score for score in dataframe['overall'] if score==1])\n",
    "number_five_stars = len([score for score in dataframe['overall'] if score==5])\n",
    "print('Number of five star reviews:',number_five_stars)\n",
    "print('Percent of five star reviews:',number_five_stars/number_scores*100,'%')\n",
    "print('Number of one star reviews:',number_one_stars)\n",
    "print('Percent of one star reviews:',number_one_stars/number_scores*100,'%')"
   ]
  },
  {
   "cell_type": "markdown",
   "metadata": {},
   "source": [
    "The histogram shows that the review score of 5 is the most frequent in the observed data, occuring in 20,890 reviews, or 56% of the time. The review score of 1 is the least frequent, occuring in 1,718 reviews, or 4.6% of the time.\n",
    "\n",
    "The frequency of each review score is directly related to the review score. That is to say, 5 star reviews are the most common, 4 star reviews the next most common, 3 star reviews the next most common, and so on. This indicates a bias in the data towards positive reviews. \n",
    "\n",
    "The positive slant in the reviews is not necessarily bad - it could simply mean that the products reviewed were good overall, or that reviewers are more likely to give positive reviews than negative reviews. However, it is important to keep the bias towards positive reviews in mind. Since fewer examples exist for negative reviews, it is possible that predicting negative reviews will be more difficult than predicting positive reviews."
   ]
  },
  {
   "cell_type": "markdown",
   "metadata": {},
   "source": [
    "### Visualizing Review Helpfulness"
   ]
  },
  {
   "cell_type": "markdown",
   "metadata": {},
   "source": [
    "Next, we visualize two similar attributes: the number of people who found each review helpful and the number of people who found each review unhelpful. Since both of these variables are numeric, we visualize the distribution of each variable with a box plot."
   ]
  },
  {
   "cell_type": "code",
   "execution_count": 89,
   "metadata": {},
   "outputs": [
    {
     "data": {
      "image/png": "[encoded data removed]",
      "text/plain": [
       "<matplotlib.figure.Figure at 0x7f90f1e8b780>"
      ]
     },
     "metadata": {},
     "output_type": "display_data"
    },
    {
     "name": "stdout",
     "output_type": "stream",
     "text": [
      "Maximum \"helpful\" tags: 484\n",
      "Maximum \"unhelpful\" tags: 214\n"
     ]
    }
   ],
   "source": [
    "plt.figure()\n",
    "plt.subplot(1, 2, 1)\n",
    "helpful_boxplot = dataframe['numberHelpful'].plot(kind='box',showfliers=False)\n",
    "plt.title('Number Helpful')\n",
    "#plt.ylabel('Number Who Found the Review Helpful')\n",
    "plt.subplot(1, 2, 2)\n",
    "dataframe['numberUnhelpful'].plot(kind='box',showfliers=False)\n",
    "plt.title('Number Unhelpful')\n",
    "plt.show()\n",
    "max_helpful = max(dataframe['numberHelpful'])\n",
    "max_unhelpful = max(dataframe['numberUnhelpful'])\n",
    "print('Maximum \"helpful\" tags:',max_helpful)\n",
    "print('Maximum \"unhelpful\" tags:',max_unhelpful)"
   ]
  },
  {
   "cell_type": "markdown",
   "metadata": {},
   "source": [
    "The above boxplots show that at least half of the reviews are not tagged as helpful, and at least three quarters of the reviews are not tagged as unhelpful. The majority of the data has no tags regarding helpfulness, which means predicting if a review is helpful or not from this dataset would be difficult.\n",
    "\n",
    "Although most reviews have no tags, some of the reviews have a great many tags. For example, the largest number of helpful tags for a single review is 484, and the largest number of unhelpful tags for a single review is 214. To better visualize these outliers that don't show up in the boxplot, the two variables were also plotted in the histogram below."
   ]
  },
  {
   "cell_type": "code",
   "execution_count": 86,
   "metadata": {},
   "outputs": [
    {
     "data": {
      "image/png": "[encoded data removed]",
      "text/plain": [
       "<matplotlib.figure.Figure at 0x7f90f20f0710>"
      ]
     },
     "metadata": {},
     "output_type": "display_data"
    },
    {
     "name": "stdout",
     "output_type": "stream",
     "text": [
      "Number of reviews with over 100 \"helpful\" tags: 41\n",
      "Number of reviews with over 100 \"unhelpful\" tags: 8\n"
     ]
    }
   ],
   "source": [
    "data=[dataframe['numberHelpful'],dataframe['numberUnhelpful']]\n",
    "bins = np.linspace(0, 550, 25)\n",
    "plt.yscale('log')\n",
    "plt.hist(data, bins, alpha=0.7, label=['numberHelpful', 'numberUnhelpful'])\n",
    "plt.legend(loc='upper right')\n",
    "plt.title('Histogram of Helpful and Unhelpful Reviews')\n",
    "plt.ylabel('Frequency (log scale)')\n",
    "plt.xlabel('Number of Reviews')\n",
    "plt.show()\n",
    "helpful_over_100 = len([r for r in dataframe['numberHelpful'] if r>100])\n",
    "unhelpful_over_100 = len([r for r in dataframe['numberUnhelpful'] if r>100])\n",
    "print('Number of reviews with over 100 \"helpful\" tags:',helpful_over_100)\n",
    "print('Number of reviews with over 100 \"unhelpful\" tags:',unhelpful_over_100)"
   ]
  },
  {
   "cell_type": "markdown",
   "metadata": {},
   "source": [
    "The histogram uses a logarithmic scale on the y axis so that the outliers show up on the graph. The histogram shows that the vast majority of reviews are tagges as helpful or unhelpful fewer than 100 times. Only 41 reviews were tagged as helpful more than 100 times, and only 8 reviews were tagged as unhelpful more than 100 times.\n",
    "\n",
    "A third variable that is directly related to the number of users who tagged a review helpful and the number of users who tagged a review unhelpful is the helpfulness ratio. The helpfulness ratio is simply the number of helpful tags divided by the total number of tags. Since the helpfulness ratio is numeric, it is visualized using a box plot."
   ]
  },
  {
   "cell_type": "code",
   "execution_count": 91,
   "metadata": {},
   "outputs": [
    {
     "data": {
      "image/png": "[encoded data removed]",
      "text/plain": [
       "<matplotlib.figure.Figure at 0x7f90f1a066a0>"
      ]
     },
     "metadata": {},
     "output_type": "display_data"
    }
   ],
   "source": [
    "plt.figure()\n",
    "dataframe['helpfulRatio'].plot(kind='box',showfliers=False)\n",
    "plt.title('Helpfulness Ratio')\n",
    "plt.show()"
   ]
  },
  {
   "cell_type": "markdown",
   "metadata": {},
   "source": [
    "The box plot shows that the 25th percentile for the helpfulness ratio is 20%, the 50th percentile is 66%, and the 75th percentile is 100%. This means that at least 25% of the reviews that have been tagged as helpful or unhelpful are considered helpful unanimously."
   ]
  },
  {
   "cell_type": "markdown",
   "metadata": {},
   "source": [
    "### Number of reviews the reviewer has authored"
   ]
  },
  {
   "cell_type": "markdown",
   "metadata": {},
   "source": [
    "Since the variable is numeric, its distribution is visualized by a boxplot."
   ]
  },
  {
   "cell_type": "code",
   "execution_count": 24,
   "metadata": {},
   "outputs": [
    {
     "data": {
      "image/png": "[encoded data removed]",
      "text/plain": [
       "<matplotlib.figure.Figure at 0x7fdaad991c50>"
      ]
     },
     "metadata": {},
     "output_type": "display_data"
    },
    {
     "name": "stdout",
     "output_type": "stream",
     "text": [
      "('Maximum number of reviews by a single reviewer:', 123)\n"
     ]
    }
   ],
   "source": [
    "plt.figure()\n",
    "dataframe['reviewerNumberReviews'].plot(kind='box',showfliers=False)\n",
    "plt.title('Number of Reviews Authored')\n",
    "plt.show()\n",
    "max_reviewed = max([r for r in dataframe['reviewerNumberReviews']])\n",
    "print('Maximum number of reviews by a single reviewer:',max_reviewed)"
   ]
  },
  {
   "cell_type": "markdown",
   "metadata": {},
   "source": [
    "The boxplot shows that the number of reviews each reviewer has authored has a 25th percentile of 5, a 50th percentile of 7, and a 75th percentile of 10. This means that 75% or more of reviewers have written 11 or fewer reviews.\n",
    "\n",
    "Some reviewers, however, have written significantly more reviews, the meximum being 123."
   ]
  },
  {
   "cell_type": "code",
   "execution_count": 22,
   "metadata": {},
   "outputs": [
    {
     "data": {
      "image/png": "[encoded data removed]",
      "text/plain": [
       "<matplotlib.figure.Figure at 0x7fdaae15b290>"
      ]
     },
     "metadata": {},
     "output_type": "display_data"
    }
   ],
   "source": [
    "bins = np.linspace(0, 130, 25)\n",
    "plt.hist(dataframe['reviewerNumberReviews'], bins,log=True)\n",
    "plt.title('Histogram of Reviews Authored')\n",
    "plt.ylabel('Frequency (log scale)')\n",
    "plt.xlabel('Number of Reviews')\n",
    "plt.show()"
   ]
  }
 ],
 "metadata": {
  "kernelspec": {
   "display_name": "Python 3",
   "language": "python",
   "name": "python3"
  },
  "language_info": {
   "codemirror_mode": {
    "name": "ipython",
    "version": 3
   },
   "file_extension": ".py",
   "mimetype": "text/x-python",
   "name": "python",
   "nbconvert_exporter": "python",
   "pygments_lexer": "ipython3",
   "version": "3.6.4"
  },
  "name": "_merged"
 },
 "nbformat": 4,
 "nbformat_minor": 2
}
