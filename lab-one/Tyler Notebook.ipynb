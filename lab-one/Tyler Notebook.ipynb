{
 "cells": [
  {
   "cell_type": "code",
   "execution_count": 1,
   "metadata": {
    "collapsed": false
   },
   "outputs": [
    {
     "name": "stdout",
     "output_type": "stream",
     "text": [
      "3.6.3 (default, Oct  3 2017, 21:45:48) \n",
      "[GCC 7.2.0]\n",
      "1.14.0\n"
     ]
    }
   ],
   "source": [
    "import sys\n",
    "import numpy as np\n",
    "import pandas as pd\n",
    "import matplotlib.pyplot as plt\n",
    "import scipy\n",
    "\n",
    "print(sys.version)\n",
    "print(np.__version__)"
   ]
  },
  {
   "cell_type": "code",
   "execution_count": 2,
   "metadata": {
    "collapsed": false,
    "scrolled": true
   },
   "outputs": [
    {
     "name": "stdout",
     "output_type": "stream",
     "text": [
      "<class 'pandas.core.frame.DataFrame'>\n",
      "Int64Index: 37126 entries, 0 to 37125\n",
      "Data columns (total 9 columns):\n",
      "asin              37126 non-null object\n",
      "helpful           37126 non-null object\n",
      "overall           37126 non-null int64\n",
      "reviewText        37126 non-null object\n",
      "reviewTime        37126 non-null object\n",
      "reviewerID        37126 non-null object\n",
      "reviewerName      36797 non-null object\n",
      "summary           37126 non-null object\n",
      "unixReviewTime    37126 non-null int64\n",
      "dtypes: int64(2), object(7)\n",
      "memory usage: 2.8+ MB\n",
      "None\n"
     ]
    }
   ],
   "source": [
    "dataframe = pd.read_json('reviews_Amazon_Instant_Video_5.json',lines=True)\n",
    "print(dataframe.info())"
   ]
  },
  {
   "cell_type": "code",
   "execution_count": 3,
   "metadata": {
    "collapsed": false
   },
   "outputs": [
    {
     "name": "stdout",
     "output_type": "stream",
     "text": [
      "<class 'pandas.core.frame.DataFrame'>\n",
      "Int64Index: 37126 entries, 0 to 37125\n",
      "Data columns (total 12 columns):\n",
      "asin                     37126 non-null object\n",
      "overall                  37126 non-null int64\n",
      "reviewText               37126 non-null object\n",
      "reviewTime               37126 non-null object\n",
      "reviewerID               37126 non-null object\n",
      "reviewerName             36797 non-null object\n",
      "summary                  37126 non-null object\n",
      "unixReviewTime           37126 non-null int64\n",
      "reviewLength             37126 non-null int64\n",
      "reviewerNumberReviews    37126 non-null int64\n",
      "numberUnhelpful          37126 non-null int64\n",
      "numberHelpful            37126 non-null int64\n",
      "dtypes: int64(6), object(6)\n",
      "memory usage: 3.7+ MB\n",
      "None\n"
     ]
    }
   ],
   "source": [
    "reviewerNames = list(dataframe['reviewerName'])\n",
    "authorToNumReviews = {name:reviewerNames.count(name) for name in set(reviewerNames)}\n",
    "dataframe['reviewLength'] = [len(text) for text in dataframe['reviewText']]\n",
    "dataframe['reviewerNumberReviews'] = [authorToNumReviews[author] for author in dataframe['reviewerName']]\n",
    "dataframe['numberUnhelpful'] = [unhelpful for [helpful,unhelpful] in dataframe['helpful']]\n",
    "dataframe['numberHelpful'] = [helpful for [helpful,unhelpful] in dataframe['helpful']]\n",
    "del dataframe['helpful']\n",
    "print(dataframe.info())"
   ]
  },
  {
   "cell_type": "code",
   "execution_count": 4,
   "metadata": {
    "collapsed": false
   },
   "outputs": [
    {
     "data": {
      "text/plain": [
       "Text(0,0.5,'Number of Reviews')"
      ]
     },
     "execution_count": 4,
     "metadata": {},
     "output_type": "execute_result"
    },
    {
     "data": {
      "image/png": "[encoded data removed]",
      "text/plain": [
       "<matplotlib.figure.Figure at 0x7fe3c953d400>"
      ]
     },
     "metadata": {},
     "output_type": "display_data"
    }
   ],
   "source": [
    "plt.figure()\n",
    "hist_bins = [0.5,1.5,2.5,3.5,4.5,5.5]\n",
    "overall_histogram = dataframe['overall'].hist(bins=hist_bins,rwidth=0.5)\n",
    "overall_histogram.set_title(\"Histogram of Review Score\")\n",
    "overall_histogram.set_xlabel(\"Review Score (Stars)\")\n",
    "overall_histogram.set_ylabel(\"Number of Reviews\")"
   ]
  },
  {
   "cell_type": "code",
   "execution_count": 14,
   "metadata": {
    "collapsed": false
   },
   "outputs": [
    {
     "data": {
      "image/png": "[encoded data removed]",
      "text/plain": [
       "<matplotlib.figure.Figure at 0x7fe3c8eb5748>"
      ]
     },
     "metadata": {},
     "output_type": "display_data"
    }
   ],
   "source": [
    "plt.figure()\n",
    "hist_bins = [0,1000,2000,3000,4000,5000,10000]\n",
    "review_length_histogram = dataframe['reviewLength'].hist(bins=hist_bins)"
   ]
  }
 ],
 "metadata": {
  "kernelspec": {
   "display_name": "Python 3",
   "language": "python",
   "name": "python3"
  },
  "language_info": {
   "codemirror_mode": {
    "name": "ipython",
    "version": 3
   },
   "file_extension": ".py",
   "mimetype": "text/x-python",
   "name": "python",
   "nbconvert_exporter": "python",
   "pygments_lexer": "ipython3",
   "version": "3.6.3"
  }
 },
 "nbformat": 4,
 "nbformat_minor": 2
}
