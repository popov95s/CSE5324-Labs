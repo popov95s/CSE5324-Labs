{
 "cells": [
  {
   "cell_type": "markdown",
   "metadata": {},
   "source": [
    "# Data Preparation"
   ]
  },
  {
   "cell_type": "markdown",
   "metadata": {},
   "source": [
    "## Pre-processing"
   ]
  },
  {
   "cell_type": "code",
   "execution_count": 1,
   "metadata": {},
   "outputs": [
    {
     "name": "stderr",
     "output_type": "stream",
     "text": [
      "Using TensorFlow backend.\n"
     ]
    }
   ],
   "source": [
    "from sklearn import metrics as mt\n",
    "from keras.models import Sequential\n",
    "from keras.layers import Dense, Activation, Input, Dropout\n",
    "from keras.layers import Embedding, Flatten, Merge, concatenate\n",
    "from keras.models import Model\n",
    "from IPython.display import SVG\n",
    "from keras.utils.vis_utils import model_to_dot"
   ]
  },
  {
   "cell_type": "code",
   "execution_count": 2,
   "metadata": {
    "scrolled": false
   },
   "outputs": [
    {
     "name": "stderr",
     "output_type": "stream",
     "text": [
      "c:\\users\\momin\\envs\\ml_lab1\\lib\\site-packages\\IPython\\core\\interactiveshell.py:2728: DtypeWarning: Columns (10) have mixed types. Specify dtype option on import or set low_memory=False.\n",
      "  interactivity=interactivity, compiler=compiler, result=result)\n"
     ]
    },
    {
     "name": "stdout",
     "output_type": "stream",
     "text": [
      "45466 items in unprocessed dataframe\n",
      "4572 classes for production_companies\n",
      "2970 classes for genres\n",
      "23298 items in processed dataframe\n",
      "\n",
      "['budget', 'genres', 'id', 'popularity', 'production_companies', 'revenue', 'runtime', 'title', 'vote_average', 'vote_count', 'made_in_us', 'production_companies_int', 'runtime_category', 'runtime_category_int', 'genres_int', 'above_average_vote']\n",
      "budget                      float64\n",
      "genres                       object\n",
      "id                            int64\n",
      "popularity                  float64\n",
      "production_companies         object\n",
      "revenue                     float64\n",
      "runtime                     float64\n",
      "title                        object\n",
      "vote_average                float64\n",
      "vote_count                  float64\n",
      "made_in_us                     bool\n",
      "production_companies_int      int64\n",
      "runtime_category             object\n",
      "runtime_category_int          int64\n",
      "genres_int                    int64\n",
      "above_average_vote             bool\n",
      "dtype: object\n"
     ]
    }
   ],
   "source": [
    "import numpy as np\n",
    "import pandas as pd\n",
    "import json\n",
    "import re\n",
    "from sklearn.preprocessing import LabelEncoder, LabelBinarizer\n",
    "\n",
    "\n",
    "df = pd.read_csv('movies_metadata.csv')\n",
    "\n",
    "print(len(df),'items in unprocessed dataframe')\n",
    "df = df[df.status=='Released']\n",
    "df = df[df.original_language=='en']\n",
    "df = df.drop(columns=['adult','belongs_to_collection','homepage','imdb_id','original_language','overview',\n",
    "                     'poster_path','release_date','spoken_languages',\n",
    "                     'status','tagline','video','original_title'])\n",
    "\n",
    "def contains_us(row):\n",
    "    return 'US' in row\n",
    "\n",
    "def get_genres(row):\n",
    "    s = re.findall(\"'name': '(.*?)'\",row)\n",
    "    if len(s) > 0:\n",
    "        return s\n",
    "    else:\n",
    "        return None\n",
    "\n",
    "def get_prod_companies(row):\n",
    "\n",
    "    s = re.findall(\"{'name': '(.*?)'\",row)\n",
    "    '''\n",
    "    if len(s) > 0:\n",
    "        return s\n",
    "    else:\n",
    "        return None\n",
    "    '''\n",
    "    if len(s) > 1:\n",
    "        return 'Collaboration'\n",
    "    elif len(s) == 1:\n",
    "        return s[0]\n",
    "    else:\n",
    "        return None\n",
    "\n",
    "def discretize_runtime(row):\n",
    "    if row < 40:\n",
    "        return 'Short Film'\n",
    "    elif row < 80:\n",
    "        return 'Less than Feature Film'\n",
    "    elif row < 130:\n",
    "        return 'Below Average Feature Film'\n",
    "    else:\n",
    "        return 'Above Average Feature Film'\n",
    "\n",
    "df['made_in_us'] = df.production_countries.apply(contains_us)\n",
    "df = df.drop(columns=['production_countries'])\n",
    "df['production_companies'] = df.production_companies.apply(get_prod_companies)\n",
    "\n",
    "df['genres'] = df.genres.apply(get_genres)\n",
    "\n",
    "df = df.dropna()\n",
    "enc = LabelEncoder()\n",
    "df['production_companies_int'] = enc.fit_transform(df.production_companies)\n",
    "\n",
    "df['runtime_category'] = df.runtime.apply(discretize_runtime)\n",
    "df['runtime_category_int'] = enc.fit_transform(df.runtime_category)\n",
    "\n",
    "df['budget'] = df.budget.apply(float)\n",
    "df['popularity'] = df.popularity.apply(float)\n",
    "df['id'] = df.id.apply(int)\n",
    "\n",
    "\n",
    "df['genres_int'] = enc.fit_transform(df.genres)\n",
    "avg = df.vote_average.mean()\n",
    "df['above_average_vote'] = df.vote_average > avg\n",
    "\n",
    "df['genres'] = df['genres'].apply(\"_\".join)\n",
    "\n",
    "print(max(df.production_companies_int)+1,'classes for production_companies')\n",
    "print(max(df.genres_int)+1,'classes for genres')\n",
    "\n",
    "print(len(df),'items in processed dataframe\\n')\n",
    "print(list(df))\n",
    "print(df.dtypes)\n",
    "categorical_headers_ints = ['production_companies_int','genres_int','runtime_category_int']\n",
    "numeric_headers = ['budget','popularity','revenue','runtime','vote_average','vote_count']"
   ]
  },
  {
   "cell_type": "code",
   "execution_count": 3,
   "metadata": {},
   "outputs": [
    {
     "name": "stdout",
     "output_type": "stream",
     "text": [
      "0.25     5.1\n",
      "0.50     6.0\n",
      "0.75     6.7\n",
      "0.90     7.3\n",
      "0.99     8.3\n",
      "1.00    10.0\n",
      "Name: vote_average, dtype: float64\n",
      "22449\n"
     ]
    }
   ],
   "source": [
    "print(df.vote_average.quantile([.25,.5,.75,.9,.99,1]))\n",
    "print(len(df[df.vote_count>0]))"
   ]
  },
  {
   "cell_type": "markdown",
   "metadata": {},
   "source": [
    "In this lab, we work with the Kaggle Movies Dataset. This dataset contains metadata on 45,466 different movies released on or before July 2017. The dataset includes information about each movie such as the budget, the genres, the runtime, the revenue, and popularity scores based on data from the research group GroupLens.\n",
    "\n",
    "In preprocessing the data, we first remove the features we will not be using for classification. Then, we create a few new columns.\n",
    "\n",
    "First, we create a column called made_in_us. This is a modification of the original column production_countries, which contains a list of the countries each movie was produced in. Since there were a large number of such countries, we chose to represent that column as a binary value of if this movie was produced in the United States or in a different country.\n",
    "\n",
    "Next, we create a column called production_companies_int. This is a modification of the original column production_companies, which contains a list of the production companies that created each movie. We take this list of production companies and represent collaborations between multiple production companies as the class \"collaboration\" - we do this because there is a large number of combinations otherwise. Then, we encode the production company as an integer using sklearn's LabelEncoder class.\n",
    "\n",
    "Next, we create a column called genres_int. This is a modification of the original column genres, which contains a list of the genres each movie belongs to. We take this list of genres and encode it using sklearn's LabelEncoder class. In the case that there are multiple genres for a movie, such as a romantic comedy, we represent this combination as its own class, unlike with the production companies. The rationale behind this choice is that there is a much larger number of production companies than genres - we can represent all combinations of genres with 2,970 classes. \n",
    "\n",
    "Next, we create a column called above_average_vote. This is a modification of the original column average_vote, which is the average of all votes given to this movie on a scale of 0-10. This column is the target column; we will try to predict if a movie can score above average.\n",
    "\n",
    "Finally, we create a column called runtime_category_int. This is a modification of the original column runtime, which is the runtime of the movie in minutes. We discretize the runtime into 4 categories: short film, less than feature film, below average feature film, and above average feature film. We use the following cutoffs: a short film is less than 40 minutes, a movie that is less than a feature film is less than 80 minutes, a feature film below average is less than 130 minutes, and a feature film above average is longer than 130 minutes. \n",
    "\n",
    "We derive the runtime of a short film from the rules the Oscar awards establish for the short film category (http://www.oscars.org/sites/oscars/files/90aa_short_films.pdf). We derive the length of a feature film from the Screen Actor's Guild (http://www.sagaftra.org/files/sag/Low_Budget_Ageement_1_5.pdf). We derive the average length of a feature film from a Business Insider study (http://www.businessinsider.com/movies-are-getting-longer-2013-1).\n",
    "\n",
    "We choose to represent the runtime category as categorical data and not ordinal data. The reason we represent runtime categorically instead of ordinally is because different categories of film are not necessarily similar to one another. For example, below average feature films are closer in length to short films than above average feature films are. However, since short films are often not shown in movie theatres, it is likely that there is an entirely different audience for short films than there is for below average length feature films."
   ]
  },
  {
   "cell_type": "markdown",
   "metadata": {},
   "source": [
    "## Crossing Features"
   ]
  },
  {
   "cell_type": "markdown",
   "metadata": {},
   "source": [
    "### Train Test Split"
   ]
  },
  {
   "cell_type": "code",
   "execution_count": 4,
   "metadata": {},
   "outputs": [],
   "source": [
    "from sklearn.model_selection import StratifiedKFold\n",
    "from copy import deepcopy\n",
    "\n",
    "df_features = ['budget', 'genres', 'id', 'popularity', 'production_companies', 'revenue', \n",
    "               'runtime', 'title', 'vote_average', 'vote_count', 'made_in_us', 'production_companies_int', \n",
    "               'runtime_category', 'runtime_category_int', 'genres_int']\n",
    "df_class = ['above_average_vote']\n",
    "\n",
    "skf = StratifiedKFold(n_splits = 10)\n",
    "\n",
    "X = df[df_features]\n",
    "y = df[df_class]\n",
    "\n",
    "train_list = []\n",
    "test_list = []\n",
    "\n",
    "for train_index, test_index in skf.split(X, y):\n",
    "    train_list.append(train_index)\n",
    "    test_list.append(test_index)\n",
    "\n",
    "\n",
    "\n",
    "\n",
    "df_train = deepcopy(df.iloc[train_list[0]])\n",
    "df_test = deepcopy(df.iloc[test_list[0]])"
   ]
  },
  {
   "cell_type": "markdown",
   "metadata": {},
   "source": [
    "### ONE HOT ENCODING ONLY MODEL"
   ]
  },
  {
   "cell_type": "code",
   "execution_count": 5,
   "metadata": {
    "scrolled": true
   },
   "outputs": [
    {
     "name": "stdout",
     "output_type": "stream",
     "text": [
      "[   0 4572 7542 7546]\n",
      "(20967, 7202)\n"
     ]
    }
   ],
   "source": [
    "from sklearn.preprocessing import OneHotEncoder\n",
    "\n",
    "# now let's encode the integer outputs as one hot encoded labels\n",
    "ohe = OneHotEncoder()\n",
    "X_train_ohe = ohe.fit_transform(df_train[categorical_headers_ints].values)\n",
    "X_test_ohe = ohe.transform(df_test[categorical_headers_ints].values)\n",
    "\n",
    "y_train = df_train[df_class].values.astype(np.int)\n",
    "y_test = df_test[df_class].values.astype(np.int)\n",
    "\n",
    "# the ohe instance will help us to organize our encoded matrix\n",
    "print(ohe.feature_indices_)\n",
    "print(X_train_ohe.shape)"
   ]
  },
  {
   "cell_type": "code",
   "execution_count": 6,
   "metadata": {
    "scrolled": false
   },
   "outputs": [
    {
     "name": "stdout",
     "output_type": "stream",
     "text": [
      "__________________________________________________________________________________________________\n",
      "Layer (type)                    Output Shape         Param #     Connected to                     \n",
      "==================================================================================================\n",
      "X_ohe (InputLayer)              (None, 7202)         0                                            \n",
      "__________________________________________________________________________________________________\n",
      "X_Numeric (InputLayer)          (None, 6)            0                                            \n",
      "__________________________________________________________________________________________________\n",
      "ohe_1 (Dense)                   (None, 10)           72030       X_ohe[0][0]                      \n",
      "__________________________________________________________________________________________________\n",
      "num_1 (Dense)                   (None, 10)           70          X_Numeric[0][0]                  \n",
      "__________________________________________________________________________________________________\n",
      "concat (Concatenate)            (None, 20)           0           ohe_1[0][0]                      \n",
      "                                                                 num_1[0][0]                      \n",
      "__________________________________________________________________________________________________\n",
      "combined (Dense)                (None, 1)            21          concat[0][0]                     \n",
      "==================================================================================================\n",
      "Total params: 72,121\n",
      "Trainable params: 72,121\n",
      "Non-trainable params: 0\n",
      "__________________________________________________________________________________________________\n"
     ]
    }
   ],
   "source": [
    "# combine the features with two branches\n",
    "\n",
    "# let's encode the integer outputs as one hot encoded labels\n",
    "ohe = OneHotEncoder()\n",
    "X_train_ohe = ohe.fit_transform(df_train[categorical_headers_ints].values)\n",
    "X_test_ohe = ohe.transform(df_test[categorical_headers_ints].values)\n",
    "\n",
    "# and save off the numeric features\n",
    "X_train_num =  df_train[numeric_headers].values\n",
    "X_test_num = df_test[numeric_headers].values\n",
    "\n",
    "# create sparse input branch for ohe\n",
    "inputsSparse = Input(shape=(X_train_ohe.shape[1],),sparse=True, name='X_ohe')\n",
    "xSparse = Dense(units=10, activation='relu', name='ohe_1')(inputsSparse)\n",
    "\n",
    "# create dense input branch for numeric\n",
    "inputsDense = Input(shape=(X_train_num.shape[1],),sparse=False, name='X_Numeric')\n",
    "xDense = Dense(units=10, activation='relu',name='num_1')(inputsDense)\n",
    "\n",
    "x = concatenate([xSparse, xDense], name='concat')\n",
    "predictions = Dense(1,activation='sigmoid', name='combined')(x)\n",
    "\n",
    "# This creates a model that includes\n",
    "# the Input layer and Dense layers\n",
    "model = Model(inputs=[inputsSparse,inputsDense], outputs=predictions)\n",
    "\n",
    "model.summary()"
   ]
  },
  {
   "cell_type": "code",
   "execution_count": 7,
   "metadata": {},
   "outputs": [],
   "source": [
    "#cell to define precision metric\n",
    "import keras.backend as K\n",
    "#precision metric gotten from previous release of keras\n",
    "#https://github.com/keras-team/keras/commit/a56b1a55182acf061b1eb2e2c86b48193a0e88f7\n",
    "def precision(y_true, y_pred):\n",
    "    \"\"\"Precision metric.\n",
    "    Only computes a batch-wise average of precision.\n",
    "\n",
    "    Computes the precision, a metric for multi-label classification of\n",
    "    how many selected items are relevant.\n",
    "    \"\"\"\n",
    "    true_positives = K.sum(K.round(K.clip(y_true * y_pred, 0, 1)))\n",
    "    predicted_positives = K.sum(K.round(K.clip(y_pred, 0, 1)))\n",
    "    precision = true_positives / (predicted_positives + K.epsilon())\n",
    "    return precision"
   ]
  },
  {
   "cell_type": "code",
   "execution_count": 8,
   "metadata": {},
   "outputs": [
    {
     "name": "stdout",
     "output_type": "stream",
     "text": [
      "[[   1  907]\n",
      " [   1 1422]] 0.6105624731644482\n",
      "Wall time: 8.45 s\n"
     ]
    }
   ],
   "source": [
    "%%time\n",
    "\n",
    "\n",
    "model.compile(optimizer='sgd',\n",
    "              loss='mean_squared_error',\n",
    "              metrics=['accuracy', precision])\n",
    "model.fit([ X_train_ohe, X_train_num ], # inputs for each branch are a list\n",
    "          y_train, \n",
    "          epochs=10, \n",
    "          batch_size=50, \n",
    "          verbose=0)\n",
    "\n",
    "yhat = model.predict([X_test_ohe,\n",
    "                      X_test_num]) # each branch has an input\n",
    "\n",
    "yhat = np.round(yhat)\n",
    "print(mt.confusion_matrix(y_test,yhat),mt.precision_score(y_test,yhat))"
   ]
  },
  {
   "cell_type": "markdown",
   "metadata": {},
   "source": [
    "## Wide and Deep Model (No OHE)"
   ]
  },
  {
   "cell_type": "code",
   "execution_count": 9,
   "metadata": {},
   "outputs": [
    {
     "name": "stdout",
     "output_type": "stream",
     "text": [
      "                      genres            runtime_category\n",
      "2346                  Horror  Below Average Feature Film\n",
      "2347                  Horror  Below Average Feature Film\n",
      "2350                  Comedy  Below Average Feature Film\n",
      "2352  Horror_Science Fiction  Below Average Feature Film\n",
      "2354  Drama_Thriller_Mystery  Above Average Feature Film\n",
      "                      genres  made_in_us\n",
      "2346                  Horror        True\n",
      "2347                  Horror        True\n",
      "2350                  Comedy        True\n",
      "2352  Horror_Science Fiction        True\n",
      "2354  Drama_Thriller_Mystery       False\n"
     ]
    }
   ],
   "source": [
    "\n",
    "#genres_int and runtime_category_int, as well as the values for genres_int and made_in_us_int.\n",
    "cross_columns = [['genres','runtime_category'],\n",
    "                 ['genres','made_in_us']]\n",
    "\n",
    "#'workclass','education','marital_status','occupation','relationship','race','sex','country'\n",
    "\n",
    "# we need to create separate lists for each branch\n",
    "embed_branches = []\n",
    "X_ints_train = []\n",
    "X_ints_test = []\n",
    "all_inputs = []\n",
    "all_wide_branch_outputs = []\n",
    "\n",
    "for cols in cross_columns:\n",
    "    # encode crossed columns as ints for the embedding\n",
    "    enc = LabelEncoder()\n",
    "    \n",
    "    # create crossed labels\n",
    "    print (df_train[cols].head())\n",
    "    X_crossed_train = df_train[cols].apply(lambda x: '_'.join(str(x)), axis=1)\n",
    "    X_crossed_test = df_test[cols].apply(lambda x: '_'.join(str(x)), axis=1)\n",
    "    \n",
    "    enc.fit(np.hstack((X_crossed_train.values,  X_crossed_test.values)))\n",
    "    X_crossed_train = enc.transform(X_crossed_train)\n",
    "    X_crossed_test = enc.transform(X_crossed_test)\n",
    "    X_ints_train.append( X_crossed_train )\n",
    "    X_ints_test.append( X_crossed_test )\n",
    "    \n",
    "    # get the number of categories\n",
    "    N = max(X_ints_train[-1]+1) # same as the max(df_train[col])\n",
    "    \n",
    "    # create embedding branch from the number of categories\n",
    "    inputs = Input(shape=(1,),dtype='int32', name = '_'.join(cols))\n",
    "    all_inputs.append(inputs)\n",
    "    x = Embedding(input_dim=N, \n",
    "                  output_dim=int(np.sqrt(N)), \n",
    "                  input_length=1, name = '_'.join(cols)+'_embed')(inputs)\n",
    "    x = Flatten()(x)\n",
    "    all_wide_branch_outputs.append(x)\n",
    "    \n",
    "# merge the branches together\n",
    "wide_branch = concatenate(all_wide_branch_outputs, name='wide_concat')\n",
    "wide_branch = Dense(units=1,activation='sigmoid',name='wide_combined')(wide_branch)\n",
    "\n",
    "# reset this input branch\n",
    "all_deep_branch_outputs = []\n",
    "# add in the embeddings\n",
    "for col in categorical_headers_ints:\n",
    "    # encode as ints for the embedding\n",
    "    X_ints_train.append( df_train[col].values )\n",
    "    X_ints_test.append( df_test[col].values )\n",
    "    \n",
    "    # get the number of categories\n",
    "    N = max(X_ints_train[-1]+1) # same as the max(df_train[col])\n",
    "    \n",
    "    # create embedding branch from the number of categories\n",
    "    inputs = Input(shape=(1,),dtype='int32', name=col)\n",
    "    all_inputs.append(inputs)\n",
    "    x = Embedding(input_dim=N, \n",
    "                  output_dim=int(np.sqrt(N)), \n",
    "                  input_length=1, name=col+'_embed')(inputs)\n",
    "    x = Flatten()(x)\n",
    "    all_deep_branch_outputs.append(x)\n",
    "    \n",
    "# also get a dense branch of the numeric features\n",
    "all_inputs.append(Input(shape=(X_train_num.shape[1],),\n",
    "                        sparse=False,\n",
    "                        name='numeric_data'))\n",
    "\n",
    "x = Dense(units=20, activation='relu',name='numeric_1')(all_inputs[-1])\n",
    "all_deep_branch_outputs.append( x )\n",
    "\n",
    "\n",
    "# let's encode the integer outputs as one hot encoded labels\n",
    "#ohe = OneHotEncoder()\n",
    "#X_train_ohe = ohe.fit_transform(df_train[categorical_headers_ints].values)\n",
    "#X_test_ohe = ohe.transform(df_test[categorical_headers_ints].values)\n",
    "\n",
    "# create sparse input branch for ohe\n",
    "#inputsSparse = Input(shape=(X_train_ohe.shape[1],),sparse=True, name='X_ohe')\n",
    "#sparse_branch = Dense(units=20, activation='relu', name='ohe_1')(inputsSparse)\n",
    "\n",
    "\n",
    "# merge the deep branches together\n",
    "deep_branch = concatenate(all_deep_branch_outputs,name='concat_embeds')\n",
    "drop_out_deep = Dropout(0.10)(deep_branch) \n",
    "deep_branch = Dense(units=50,activation='relu', name='deep1')(drop_out_deep)\n",
    "drop_out_deep = Dropout(0.10)(deep_branch) \n",
    "deep_branch = Dense(units=25,activation='relu', name='deep2')(drop_out_deep)\n",
    "drop_out_deep = Dropout(0.10)(deep_branch) \n",
    "deep_branch = Dense(units=10,activation='relu', name='deep3')(drop_out_deep)\n",
    "    \n",
    "final_branch = concatenate([wide_branch, deep_branch],name='concat_deep_wide')\n",
    "final_branch = Dense(units=1,activation='sigmoid',name='combined')(final_branch)\n",
    "\n",
    "model = Model(inputs=all_inputs, outputs=final_branch)\n"
   ]
  },
  {
   "cell_type": "code",
   "execution_count": 10,
   "metadata": {
    "scrolled": true
   },
   "outputs": [
    {
     "ename": "ImportError",
     "evalue": "Failed to import pydot. You must install pydot and graphviz for `pydotprint` to work.",
     "output_type": "error",
     "traceback": [
      "\u001b[1;31m---------------------------------------------------\u001b[0m",
      "\u001b[1;31mInvocationException\u001b[0mTraceback (most recent call last)",
      "\u001b[1;32mc:\\users\\momin\\envs\\ml_lab1\\lib\\site-packages\\keras\\utils\\vis_utils.py\u001b[0m in \u001b[0;36m_check_pydot\u001b[1;34m()\u001b[0m\n\u001b[0;32m     26\u001b[0m         \u001b[1;31m# to check the pydot/graphviz installation.\u001b[0m\u001b[1;33m\u001b[0m\u001b[1;33m\u001b[0m\u001b[0m\n\u001b[1;32m---> 27\u001b[1;33m         \u001b[0mpydot\u001b[0m\u001b[1;33m.\u001b[0m\u001b[0mDot\u001b[0m\u001b[1;33m.\u001b[0m\u001b[0mcreate\u001b[0m\u001b[1;33m(\u001b[0m\u001b[0mpydot\u001b[0m\u001b[1;33m.\u001b[0m\u001b[0mDot\u001b[0m\u001b[1;33m(\u001b[0m\u001b[1;33m)\u001b[0m\u001b[1;33m)\u001b[0m\u001b[1;33m\u001b[0m\u001b[0m\n\u001b[0m\u001b[0;32m     28\u001b[0m     \u001b[1;32mexcept\u001b[0m \u001b[0mException\u001b[0m\u001b[1;33m:\u001b[0m\u001b[1;33m\u001b[0m\u001b[0m\n",
      "\u001b[1;32mc:\\users\\momin\\envs\\ml_lab1\\lib\\site-packages\\pydot_ng\\__init__.py\u001b[0m in \u001b[0;36mcreate\u001b[1;34m(self, prog, format)\u001b[0m\n\u001b[0;32m   1889\u001b[0m                 raise InvocationException(\n\u001b[1;32m-> 1890\u001b[1;33m                     'GraphViz\\'s executables not found')\n\u001b[0m\u001b[0;32m   1891\u001b[0m \u001b[1;33m\u001b[0m\u001b[0m\n",
      "\u001b[1;31mInvocationException\u001b[0m: GraphViz's executables not found",
      "\nDuring handling of the above exception, another exception occurred:\n",
      "\u001b[1;31mImportError\u001b[0m       Traceback (most recent call last)",
      "\u001b[1;32m<ipython-input-10-1752a1e5a8b9>\u001b[0m in \u001b[0;36m<module>\u001b[1;34m()\u001b[0m\n\u001b[1;32m----> 1\u001b[1;33m \u001b[0mSVG\u001b[0m\u001b[1;33m(\u001b[0m\u001b[0mmodel_to_dot\u001b[0m\u001b[1;33m(\u001b[0m\u001b[0mmodel\u001b[0m\u001b[1;33m)\u001b[0m\u001b[1;33m.\u001b[0m\u001b[0mcreate\u001b[0m\u001b[1;33m(\u001b[0m\u001b[0mprog\u001b[0m\u001b[1;33m=\u001b[0m\u001b[1;34m'dot'\u001b[0m\u001b[1;33m,\u001b[0m \u001b[0mformat\u001b[0m\u001b[1;33m=\u001b[0m\u001b[1;34m'svg'\u001b[0m\u001b[1;33m)\u001b[0m\u001b[1;33m)\u001b[0m\u001b[1;33m\u001b[0m\u001b[0m\n\u001b[0m",
      "\u001b[1;32mc:\\users\\momin\\envs\\ml_lab1\\lib\\site-packages\\keras\\utils\\vis_utils.py\u001b[0m in \u001b[0;36mmodel_to_dot\u001b[1;34m(model, show_shapes, show_layer_names, rankdir)\u001b[0m\n\u001b[0;32m     54\u001b[0m     \u001b[1;32mfrom\u001b[0m \u001b[1;33m.\u001b[0m\u001b[1;33m.\u001b[0m\u001b[0mmodels\u001b[0m \u001b[1;32mimport\u001b[0m \u001b[0mSequential\u001b[0m\u001b[1;33m\u001b[0m\u001b[0m\n\u001b[0;32m     55\u001b[0m \u001b[1;33m\u001b[0m\u001b[0m\n\u001b[1;32m---> 56\u001b[1;33m     \u001b[0m_check_pydot\u001b[0m\u001b[1;33m(\u001b[0m\u001b[1;33m)\u001b[0m\u001b[1;33m\u001b[0m\u001b[0m\n\u001b[0m\u001b[0;32m     57\u001b[0m     \u001b[0mdot\u001b[0m \u001b[1;33m=\u001b[0m \u001b[0mpydot\u001b[0m\u001b[1;33m.\u001b[0m\u001b[0mDot\u001b[0m\u001b[1;33m(\u001b[0m\u001b[1;33m)\u001b[0m\u001b[1;33m\u001b[0m\u001b[0m\n\u001b[0;32m     58\u001b[0m     \u001b[0mdot\u001b[0m\u001b[1;33m.\u001b[0m\u001b[0mset\u001b[0m\u001b[1;33m(\u001b[0m\u001b[1;34m'rankdir'\u001b[0m\u001b[1;33m,\u001b[0m \u001b[0mrankdir\u001b[0m\u001b[1;33m)\u001b[0m\u001b[1;33m\u001b[0m\u001b[0m\n",
      "\u001b[1;32mc:\\users\\momin\\envs\\ml_lab1\\lib\\site-packages\\keras\\utils\\vis_utils.py\u001b[0m in \u001b[0;36m_check_pydot\u001b[1;34m()\u001b[0m\n\u001b[0;32m     29\u001b[0m         \u001b[1;31m# pydot raises a generic Exception here,\u001b[0m\u001b[1;33m\u001b[0m\u001b[1;33m\u001b[0m\u001b[0m\n\u001b[0;32m     30\u001b[0m         \u001b[1;31m# so no specific class can be caught.\u001b[0m\u001b[1;33m\u001b[0m\u001b[1;33m\u001b[0m\u001b[0m\n\u001b[1;32m---> 31\u001b[1;33m         raise ImportError('Failed to import pydot. You must install pydot'\n\u001b[0m\u001b[0;32m     32\u001b[0m                           ' and graphviz for `pydotprint` to work.')\n\u001b[0;32m     33\u001b[0m \u001b[1;33m\u001b[0m\u001b[0m\n",
      "\u001b[1;31mImportError\u001b[0m: Failed to import pydot. You must install pydot and graphviz for `pydotprint` to work."
     ]
    }
   ],
   "source": [
    "SVG(model_to_dot(model).create(prog='dot', format='svg'))"
   ]
  },
  {
   "cell_type": "code",
   "execution_count": 11,
   "metadata": {},
   "outputs": [
    {
     "name": "stdout",
     "output_type": "stream",
     "text": [
      "Train on 20967 samples, validate on 2331 samples\n",
      "Epoch 1/10\n",
      "20967/20967 [==============================] - 63s 3ms/step - loss: 0.2796 - acc: 0.5841 - precision: 0.6128 - val_loss: 0.3478 - val_acc: 0.5311 - val_precision: 0.6051\n",
      "Epoch 2/10\n",
      "20967/20967 [==============================] - 61s 3ms/step - loss: 0.2202 - acc: 0.6787 - precision: 0.6827 - val_loss: 0.2475 - val_acc: 0.6710 - val_precision: 0.6343\n",
      "Epoch 3/10\n",
      "20967/20967 [==============================] - 63s 3ms/step - loss: 0.1740 - acc: 0.7584 - precision: 0.7503 - val_loss: 0.2414 - val_acc: 0.6941 - val_precision: 0.6433\n",
      "Epoch 4/10\n",
      "20967/20967 [==============================] - 63s 3ms/step - loss: 0.1474 - acc: 0.8344 - precision: 0.8233 - val_loss: 0.2408 - val_acc: 0.6958 - val_precision: 0.6438\n",
      "Epoch 5/10\n",
      "20967/20967 [==============================] - 65s 3ms/step - loss: 0.1304 - acc: 0.8764 - precision: 0.8735 - val_loss: 0.2436 - val_acc: 0.6864 - val_precision: 0.6382\n",
      "Epoch 6/10\n",
      "20967/20967 [==============================] - 63s 3ms/step - loss: 0.1206 - acc: 0.8938 - precision: 0.8893 - val_loss: 0.2351 - val_acc: 0.7130 - val_precision: 0.6540\n",
      "Epoch 7/10\n",
      "20967/20967 [==============================] - 64s 3ms/step - loss: 0.1142 - acc: 0.9007 - precision: 0.8942 - val_loss: 0.2367 - val_acc: 0.7130 - val_precision: 0.6521\n",
      "Epoch 8/10\n",
      "20967/20967 [==============================] - 63s 3ms/step - loss: 0.1066 - acc: 0.9104 - precision: 0.9045 - val_loss: 0.2319 - val_acc: 0.7113 - val_precision: 0.6511\n",
      "Epoch 9/10\n",
      "20967/20967 [==============================] - 63s 3ms/step - loss: 0.0971 - acc: 0.9200 - precision: 0.9058 - val_loss: 0.2333 - val_acc: 0.7130 - val_precision: 0.6515\n",
      "Epoch 10/10\n",
      "20967/20967 [==============================] - 64s 3ms/step - loss: 0.0925 - acc: 0.9229 - precision: 0.9057 - val_loss: 0.2307 - val_acc: 0.7199 - val_precision: 0.6555\n",
      "Wall time: 10min 33s\n"
     ]
    }
   ],
   "source": [
    "%%time\n",
    "\n",
    "model.compile(optimizer='adagrad',\n",
    "              loss='mean_squared_error',\n",
    "              metrics=['accuracy', precision])\n",
    "initial_weights = model.get_weights()\n",
    "# lets also add the history variable to see how we are doing\n",
    "# and lets add a validation set to keep track of our progress\n",
    "history = model.fit(X_ints_train+ [X_train_num],\n",
    "                    y_train, \n",
    "                    epochs=10, \n",
    "                    batch_size=32, \n",
    "                    verbose=1, \n",
    "                    validation_data = (X_ints_test + [X_test_num], y_test))"
   ]
  },
  {
   "cell_type": "code",
   "execution_count": 12,
   "metadata": {},
   "outputs": [
    {
     "name": "stdout",
     "output_type": "stream",
     "text": [
      "[[ 293  615]\n",
      " [  38 1385]] 0.6925\n"
     ]
    }
   ],
   "source": [
    "yhat = np.round(model.predict(X_ints_test + [X_test_num]))\n",
    "print(mt.confusion_matrix(y_test,yhat), mt.precision_score(y_test,yhat))"
   ]
  },
  {
   "cell_type": "code",
   "execution_count": 13,
   "metadata": {},
   "outputs": [
    {
     "data": {
      "text/plain": [
       "Text(0.5,0,'epochs')"
      ]
     },
     "execution_count": 13,
     "metadata": {},
     "output_type": "execute_result"
    },
    {
     "data": {
      "image/png": "[encoded data removed]",
      "text/plain": [
       "<matplotlib.figure.Figure at 0x2322403e0f0>"
      ]
     },
     "metadata": {},
     "output_type": "display_data"
    }
   ],
   "source": [
    "from matplotlib import pyplot as plt\n",
    "\n",
    "%matplotlib inline\n",
    "plt.figure(figsize=(10,4))\n",
    "plt.subplot(2,2,1)\n",
    "plt.plot(history.history['precision'])\n",
    "\n",
    "plt.ylabel('Precision %')\n",
    "plt.title('Training')\n",
    "plt.subplot(2,2,2)\n",
    "plt.plot(history.history['val_precision'])\n",
    "plt.title('Validation')\n",
    "\n",
    "plt.subplot(2,2,3)\n",
    "plt.plot(history.history['loss'])\n",
    "plt.ylabel('MSE Training Loss')\n",
    "plt.xlabel('epochs')\n",
    "\n",
    "plt.subplot(2,2,4)\n",
    "plt.plot(history.history['val_loss'])\n",
    "plt.xlabel('epochs')"
   ]
  },
  {
   "cell_type": "markdown",
   "metadata": {},
   "source": [
    "After preprocessing, we create cross-product features for the wide part of our wide-and-deep network. We cross the values for genres_int and runtime_category_int, as well as the values for genres_int and made_in_us_int.\n",
    "\n",
    "We decide to cross the values for genres_int and runtime_category_int because films of different genres often have different lengths. For example, action movies have an average runtime of 100.46 minutes, whereas animation movies have an average runtime of 61.04 minutes. Thus, we speculate that a long animation movie will have a different reaction than a long action movie.\n",
    "\n",
    "Next, we cross the values for genres_int and made_in_us int. We base this feature cross on the idea that different countries may prefer different genres of movie. This hypothesis is supported by independent research from the New York Film Academy (https://www.nyfa.edu/student-resources/12-of-the-most-popular-movie-genres-by-country/) and the American Film Market & Conferences association (http://americanfilmmarket.com/relative-popularity-genres-around-world/)."
   ]
  },
  {
   "cell_type": "markdown",
   "metadata": {},
   "source": [
    "## Evaluation metric"
   ]
  },
  {
   "cell_type": "markdown",
   "metadata": {},
   "source": [
    "Our chosen task is a binary classification task: can we predict if a movie will score above or below average when rated by users on a scale of 0-10? We found in our data set that the average of the ~22,000 movies reviewed is a 6.0/10; therefore, a movie that scores above 6.0 is above average, any a movie scoring 6.0 or less is not.\n",
    "\n",
    "The business case for our prediction task is a movie studio trying to determine if their next movie will score above average or not. We imagine that a movie studio would come to us for our analysis after defining the basic criteria for their movie, such as genre, budget, and approximate runtime. At this point in the production cycle, the firm has not yet invested large amounts of time or money into creating the movie outline. Thus, the movie studio would much rather us reject a good idea than accept a bad idea; a rejected good idea is a waste of the small amount of time put into creating a movie outline, but an accepted bad idea will waste future resources as well as the outline time.\n",
    "\n",
    "With this use case in mind, we advance precision as our chosen evaluation criteria. Precision, mathematically defined as tp/(tp+fp), is a measure of what percentage of named positives are true positives. In our use case, a precision score of 30% means that, of the movies we said would do better than average, only 30% actually did better than average.\n",
    "\n",
    "The movie studio would be interested in a high-precision system because this system is good at telling if a movie will be above average. A 90% precision score means that 9 out of 10 movies that we say will succeed do in fact succeed; this goves the movie studio an idea of how likely it is that their movie is a winner."
   ]
  },
  {
   "cell_type": "markdown",
   "metadata": {},
   "source": [
    "## Train/test split"
   ]
  },
  {
   "cell_type": "markdown",
   "metadata": {},
   "source": [
    "For this lab, we will use a 10-fold stratified cross-validation approach for splitting our data into training and testing sets. The reason we use cross-validation instead of shuffle-split is that we worry we do not have enough data. After pre-processing, we are left with ~22,000 movies. This is not an entirely small dataset; however, the feature space is quite large. For example, the movie genre alone can take on 2,970 different values, and the production company 4,572 values. We use 10-folds so that 90% of our data comprises the training set in each fold; this will ensure to the best of our ability that we have enough data.\n",
    "\n",
    "The reason we use stratified cross-validation is to preserve the class distributions seen in the data; if one class of a feature occurs 10% of the time in the data, it will occur 10% of the time in the training data and 10% of the time in the testing data. We use stratified cross-validation because our data represent the real-world distribution. When applied to real movies, it will also be true that there is large class imbalance in certain features; it is unlikely that in the future a dramatically different percentage of the market will be dominated by Animated-Romantic-Action-Adult films."
   ]
  },
  {
   "cell_type": "code",
   "execution_count": 14,
   "metadata": {},
   "outputs": [
    {
     "name": "stdout",
     "output_type": "stream",
     "text": [
      "Testing on 1 split\n",
      "Train on 20967 samples, validate on 2331 samples\n",
      "Epoch 1/10\n",
      "20967/20967 [==============================] - 64s 3ms/step - loss: 0.3385 - acc: 0.5880 - precision: 0.6663 - val_loss: 0.4772 - val_acc: 0.4753 - val_precision: 0.5996\n",
      "Epoch 2/10\n",
      "20967/20967 [==============================] - 63s 3ms/step - loss: 0.2901 - acc: 0.6673 - precision: 0.7306 - val_loss: 0.4587 - val_acc: 0.5187 - val_precision: 0.6425\n",
      "Epoch 3/10\n",
      "20967/20967 [==============================] - 63s 3ms/step - loss: 0.2611 - acc: 0.7254 - precision: 0.7902 - val_loss: 0.4566 - val_acc: 0.5204 - val_precision: 0.6423\n",
      "Epoch 4/10\n",
      "20967/20967 [==============================] - 63s 3ms/step - loss: 0.2461 - acc: 0.7521 - precision: 0.8226 - val_loss: 0.4534 - val_acc: 0.5298 - val_precision: 0.6494\n",
      "Epoch 5/10\n",
      "20967/20967 [==============================] - 63s 3ms/step - loss: 0.2325 - acc: 0.7696 - precision: 0.8374 - val_loss: 0.4589 - val_acc: 0.5225 - val_precision: 0.6448\n",
      "Epoch 6/10\n",
      "20967/20967 [==============================] - 63s 3ms/step - loss: 0.2303 - acc: 0.7753 - precision: 0.8541 - val_loss: 0.4527 - val_acc: 0.5345 - val_precision: 0.6548\n",
      "Epoch 7/10\n",
      "20967/20967 [==============================] - 61s 3ms/step - loss: 0.2211 - acc: 0.7847 - precision: 0.8612 - val_loss: 0.4329 - val_acc: 0.5521 - val_precision: 0.6453\n",
      "Epoch 8/10\n",
      "20967/20967 [==============================] - 62s 3ms/step - loss: 0.1634 - acc: 0.8436 - precision: 0.8576 - val_loss: 0.2625 - val_acc: 0.7242 - val_precision: 0.6587\n",
      "Epoch 9/10\n",
      "20967/20967 [==============================] - 65s 3ms/step - loss: 0.1367 - acc: 0.8721 - precision: 0.8614 - val_loss: 0.2622 - val_acc: 0.7233 - val_precision: 0.6583\n",
      "Epoch 10/10\n",
      "20967/20967 [==============================] - 63s 3ms/step - loss: 0.1370 - acc: 0.8713 - precision: 0.8692 - val_loss: 0.2612 - val_acc: 0.7267 - val_precision: 0.6590\n",
      "Testing on 2 split\n",
      "Train on 20967 samples, validate on 2331 samples\n",
      "Epoch 1/10\n",
      "20967/20967 [==============================] - 65s 3ms/step - loss: 0.2843 - acc: 0.6352 - precision: 0.6586 - val_loss: 0.2758 - val_acc: 0.6276 - val_precision: 0.6107\n",
      "Epoch 2/10\n",
      "20967/20967 [==============================] - 61s 3ms/step - loss: 0.2316 - acc: 0.7145 - precision: 0.7116 - val_loss: 0.2535 - val_acc: 0.7134 - val_precision: 0.6162\n",
      "Epoch 3/10\n",
      "20967/20967 [==============================] - 63s 3ms/step - loss: 0.2348 - acc: 0.7480 - precision: 0.7708 - val_loss: 0.4527 - val_acc: 0.5062 - val_precision: 0.6180\n",
      "Epoch 4/10\n",
      "20967/20967 [==============================] - 62s 3ms/step - loss: 0.2697 - acc: 0.7327 - precision: 0.8122 - val_loss: 0.4463 - val_acc: 0.5242 - val_precision: 0.6189\n",
      "Epoch 5/10\n",
      "20967/20967 [==============================] - 63s 3ms/step - loss: 0.2544 - acc: 0.7565 - precision: 0.8329 - val_loss: 0.4416 - val_acc: 0.5298 - val_precision: 0.6203\n",
      "Epoch 6/10\n",
      "20967/20967 [==============================] - 62s 3ms/step - loss: 0.2418 - acc: 0.7697 - precision: 0.8412 - val_loss: 0.4391 - val_acc: 0.5260 - val_precision: 0.6180\n",
      "Epoch 7/10\n",
      "20967/20967 [==============================] - 63s 3ms/step - loss: 0.2182 - acc: 0.7930 - precision: 0.8534 - val_loss: 0.4365 - val_acc: 0.5332 - val_precision: 0.6202\n",
      "Epoch 8/10\n",
      "20967/20967 [==============================] - 62s 3ms/step - loss: 0.2212 - acc: 0.7896 - precision: 0.8494 - val_loss: 0.4319 - val_acc: 0.5375 - val_precision: 0.6210\n",
      "Epoch 9/10\n",
      "20967/20967 [==============================] - 64s 3ms/step - loss: 0.2138 - acc: 0.7981 - precision: 0.8486 - val_loss: 0.4315 - val_acc: 0.5350 - val_precision: 0.6208\n",
      "Epoch 10/10\n",
      "20967/20967 [==============================] - 62s 3ms/step - loss: 0.2081 - acc: 0.8035 - precision: 0.8555 - val_loss: 0.4290 - val_acc: 0.5367 - val_precision: 0.6187\n",
      "Testing on 3 split\n",
      "Train on 20967 samples, validate on 2331 samples\n",
      "Epoch 1/10\n",
      "20967/20967 [==============================] - 64s 3ms/step - loss: 0.2820 - acc: 0.6500 - precision: 0.6700 - val_loss: 0.2724 - val_acc: 0.6697 - val_precision: 0.6111\n",
      "Epoch 2/10\n",
      "20967/20967 [==============================] - 63s 3ms/step - loss: 0.2327 - acc: 0.7046 - precision: 0.7075 - val_loss: 0.2723 - val_acc: 0.6628 - val_precision: 0.6114\n",
      "Epoch 3/10\n",
      "20967/20967 [==============================] - 62s 3ms/step - loss: 0.2131 - acc: 0.7469 - precision: 0.7441 - val_loss: 0.2680 - val_acc: 0.6701 - val_precision: 0.6114\n",
      "Epoch 4/10\n",
      "20967/20967 [==============================] - 64s 3ms/step - loss: 0.1943 - acc: 0.7797 - precision: 0.7710 - val_loss: 0.2586 - val_acc: 0.6946 - val_precision: 0.6124\n",
      "Epoch 5/10\n",
      "20967/20967 [==============================] - 63s 3ms/step - loss: 0.1795 - acc: 0.8059 - precision: 0.7914 - val_loss: 0.2568 - val_acc: 0.7006 - val_precision: 0.6124\n",
      "Epoch 6/10\n",
      "20967/20967 [==============================] - 63s 3ms/step - loss: 0.1676 - acc: 0.8210 - precision: 0.8016 - val_loss: 0.2557 - val_acc: 0.7036 - val_precision: 0.6124\n",
      "Epoch 7/10\n",
      "20967/20967 [==============================] - 62s 3ms/step - loss: 0.1594 - acc: 0.8334 - precision: 0.8095 - val_loss: 0.2549 - val_acc: 0.7023 - val_precision: 0.6124\n",
      "Epoch 8/10\n",
      "20967/20967 [==============================] - 61s 3ms/step - loss: 0.1555 - acc: 0.8429 - precision: 0.8189 - val_loss: 0.2534 - val_acc: 0.7036 - val_precision: 0.6126\n",
      "Epoch 9/10\n",
      "20967/20967 [==============================] - 59s 3ms/step - loss: 0.1499 - acc: 0.8480 - precision: 0.8225 - val_loss: 0.2534 - val_acc: 0.7044 - val_precision: 0.6124\n",
      "Epoch 10/10\n",
      "20967/20967 [==============================] - 62s 3ms/step - loss: 0.1505 - acc: 0.8506 - precision: 0.8290 - val_loss: 0.2525 - val_acc: 0.7091 - val_precision: 0.6124\n"
     ]
    }
   ],
   "source": [
    "#genres_int and runtime_category_int, as well as the values for genres_int and made_in_us_int.\n",
    "cross_columns = [['genres','runtime_category'],\n",
    "                     ['genres','made_in_us']]\n",
    "\n",
    "X = df[df_features]\n",
    "y = df[df_class]\n",
    "histories1=[]\n",
    "histories2=[]\n",
    "for train,test in zip(train_list[0:3],test_list[0:3]):\n",
    "    print(\"Testing on\", len(histories1)+1, \"split\")\n",
    "    df_train = deepcopy(df.iloc[train])\n",
    "    df_test = deepcopy(df.iloc[test])\n",
    "    ohe = OneHotEncoder()\n",
    "    X_train_ohe = ohe.fit_transform(df_train[categorical_headers_ints].values)\n",
    "    X_test_ohe = ohe.transform(df_test[categorical_headers_ints].values)\n",
    "\n",
    "    y_train = df_train[df_class].values.astype(np.int)\n",
    "    y_test = df_test[df_class].values.astype(np.int)\n",
    "    # and save off the numeric features\n",
    "    X_train_num =  df_train[numeric_headers].values\n",
    "    X_test_num = df_test[numeric_headers].values\n",
    "    #'workclass','education','marital_status','occupation','relationship','race','sex','country'\n",
    "\n",
    "    # we need to create separate lists for each branch\n",
    "    embed_branches = []\n",
    "    X_ints_train = []\n",
    "    X_ints_test = []\n",
    "    all_inputs = []\n",
    "    all_wide_branch_outputs = []\n",
    "\n",
    "    for cols in cross_columns:\n",
    "        # encode crossed columns as ints for the embedding\n",
    "        enc = LabelEncoder()\n",
    "\n",
    "        # create crossed labels\n",
    "        X_crossed_train = df_train[cols].apply(lambda x: '_'.join(str(x)), axis=1)\n",
    "        X_crossed_test = df_test[cols].apply(lambda x: '_'.join(str(x)), axis=1)\n",
    "\n",
    "        enc.fit(np.hstack((X_crossed_train.values,  X_crossed_test.values)))\n",
    "        X_crossed_train = enc.transform(X_crossed_train)\n",
    "        X_crossed_test = enc.transform(X_crossed_test)\n",
    "        X_ints_train.append( X_crossed_train )\n",
    "        X_ints_test.append( X_crossed_test )\n",
    "\n",
    "        # get the number of categories\n",
    "        N = max(X_ints_train[-1]+1) # same as the max(df_train[col])\n",
    "\n",
    "        # create embedding branch from the number of categories\n",
    "        inputs = Input(shape=(1,),dtype='int32', name = '_'.join(cols))\n",
    "        all_inputs.append(inputs)\n",
    "        x = Embedding(input_dim=N, \n",
    "                      output_dim=int(np.sqrt(N)), \n",
    "                      input_length=1, name = '_'.join(cols)+'_embed')(inputs)\n",
    "        x = Flatten()(x)\n",
    "        all_wide_branch_outputs.append(x)\n",
    "\n",
    "    # merge the branches together\n",
    "    wide_branch = concatenate(all_wide_branch_outputs, name='wide_concat')\n",
    "    wide_branch = Dense(units=1,activation='sigmoid',name='wide_combined')(wide_branch)\n",
    "\n",
    "    # reset this input branch\n",
    "    all_deep_branch_outputs = []\n",
    "    # add in the embeddings\n",
    "    for col in categorical_headers_ints:\n",
    "        # encode as ints for the embedding\n",
    "        X_ints_train.append( df_train[col].values )\n",
    "        X_ints_test.append( df_test[col].values )\n",
    "\n",
    "        # get the number of categories\n",
    "        N = max(X_ints_train[-1]+1) # same as the max(df_train[col])\n",
    "\n",
    "        # create embedding branch from the number of categories\n",
    "        inputs = Input(shape=(1,),dtype='int32', name=col)\n",
    "        all_inputs.append(inputs)\n",
    "        x = Embedding(input_dim=N, \n",
    "                      output_dim=int(np.sqrt(N)), \n",
    "                      input_length=1, name=col+'_embed')(inputs)\n",
    "        x = Flatten()(x)\n",
    "        all_deep_branch_outputs.append(x)\n",
    "\n",
    "    # also get a dense branch of the numeric features\n",
    "    all_inputs.append(Input(shape=(X_train_num.shape[1],),\n",
    "                            sparse=False,\n",
    "                            name='numeric_data'))\n",
    "\n",
    "    x = Dense(units=20, activation='relu',name='numeric_1')(all_inputs[-1])\n",
    "    all_deep_branch_outputs.append( x )\n",
    "\n",
    "\n",
    "    # let's encode the integer outputs as one hot encoded labels\n",
    "    #ohe = OneHotEncoder()\n",
    "    #X_train_ohe = ohe.fit_transform(df_train[categorical_headers_ints].values)\n",
    "    #X_test_ohe = ohe.transform(df_test[categorical_headers_ints].values)\n",
    "\n",
    "    # create sparse input branch for ohe\n",
    "    #inputsSparse = Input(shape=(X_train_ohe.shape[1],),sparse=True, name='X_ohe')\n",
    "    #sparse_branch = Dense(units=20, activation='relu', name='ohe_1')(inputsSparse)\n",
    "\n",
    "\n",
    "    # merge the deep branches together\n",
    "    deep_branch = concatenate(all_deep_branch_outputs,name='concat_embeds')\n",
    "    drop_out_deep = Dropout(0.10)(deep_branch) \n",
    "    deep_branch = Dense(units=50,activation='relu', name='deep1')(drop_out_deep)\n",
    "    drop_out_deep = Dropout(0.10)(deep_branch) \n",
    "    deep_branch = Dense(units=25,activation='relu', name='deep2')(drop_out_deep)\n",
    "    final_branch1 = concatenate([wide_branch, deep_branch],name='concat_deep_wide')\n",
    "    final_branch1 = Dense(units=1,activation='sigmoid',name='combined')(final_branch1)\n",
    "\n",
    "    model1 = Model(inputs=all_inputs, outputs=final_branch1)\n",
    "    model1.compile(optimizer='adagrad',\n",
    "                  loss='mean_squared_error',\n",
    "                  metrics=['accuracy', precision])\n",
    "    history1 = model1.fit(X_ints_train+ [X_train_num],\n",
    "                    y_train, \n",
    "                    epochs=10, \n",
    "                    batch_size=32, \n",
    "                    verbose=1, \n",
    "                    validation_data = (X_ints_test + [X_test_num], y_test))\n",
    "    histories1.append(history1)\n",
    "    "
   ]
  },
  {
   "cell_type": "code",
   "execution_count": 15,
   "metadata": {},
   "outputs": [
    {
     "name": "stdout",
     "output_type": "stream",
     "text": [
      "Testing on 1 split\n",
      "Train on 20967 samples, validate on 2331 samples\n",
      "Epoch 1/10\n",
      "20967/20967 [==============================] - 64s 3ms/step - loss: 0.2689 - acc: 0.6143 - precision: 0.6402 - val_loss: 0.2969 - val_acc: 0.6461 - val_precision: 0.6262\n",
      "Epoch 2/10\n",
      "20967/20967 [==============================] - 63s 3ms/step - loss: 0.2352 - acc: 0.6945 - precision: 0.6893 - val_loss: 0.2910 - val_acc: 0.6568 - val_precision: 0.6297\n",
      "Epoch 3/10\n",
      "20967/20967 [==============================] - 64s 3ms/step - loss: 0.1967 - acc: 0.7922 - precision: 0.7683 - val_loss: 0.2871 - val_acc: 0.6727 - val_precision: 0.6353\n",
      "Epoch 4/10\n",
      "20967/20967 [==============================] - 63s 3ms/step - loss: 0.1738 - acc: 0.8418 - precision: 0.8142 - val_loss: 0.2866 - val_acc: 0.6782 - val_precision: 0.6371\n",
      "Epoch 5/10\n",
      "20967/20967 [==============================] - 62s 3ms/step - loss: 0.1614 - acc: 0.8574 - precision: 0.8300 - val_loss: 0.2835 - val_acc: 0.6813 - val_precision: 0.6384\n",
      "Epoch 6/10\n",
      "20967/20967 [==============================] - 61s 3ms/step - loss: 0.1519 - acc: 0.8672 - precision: 0.8368 - val_loss: 0.2815 - val_acc: 0.6950 - val_precision: 0.6498\n",
      "Epoch 7/10\n",
      "20967/20967 [==============================] - 63s 3ms/step - loss: 0.1443 - acc: 0.8742 - precision: 0.8426 - val_loss: 0.2793 - val_acc: 0.6993 - val_precision: 0.6484\n",
      "Epoch 8/10\n",
      "20967/20967 [==============================] - 62s 3ms/step - loss: 0.1387 - acc: 0.8789 - precision: 0.8463 - val_loss: 0.2780 - val_acc: 0.6984 - val_precision: 0.6472\n",
      "Epoch 9/10\n",
      "20967/20967 [==============================] - 64s 3ms/step - loss: 0.1353 - acc: 0.8817 - precision: 0.8509 - val_loss: 0.2766 - val_acc: 0.6993 - val_precision: 0.6475\n",
      "Epoch 10/10\n",
      "20967/20967 [==============================] - 63s 3ms/step - loss: 0.1305 - acc: 0.8839 - precision: 0.8508 - val_loss: 0.2753 - val_acc: 0.7143 - val_precision: 0.6569\n",
      "Testing on 2 split\n",
      "Train on 20967 samples, validate on 2331 samples\n",
      "Epoch 1/10\n",
      "20967/20967 [==============================] - 64s 3ms/step - loss: 0.2654 - acc: 0.6249 - precision: 0.6390 - val_loss: 0.2714 - val_acc: 0.6474 - val_precision: 0.6114\n",
      "Epoch 2/10\n",
      "20967/20967 [==============================] - 71s 3ms/step - loss: 0.2357 - acc: 0.7122 - precision: 0.6987 - val_loss: 0.2662 - val_acc: 0.6688 - val_precision: 0.6133\n",
      "Epoch 3/10\n",
      "20967/20967 [==============================] - 79s 4ms/step - loss: 0.1940 - acc: 0.8138 - precision: 0.7850 - val_loss: 0.2581 - val_acc: 0.6997 - val_precision: 0.6170\n",
      "Epoch 4/10\n",
      "20967/20967 [==============================] - 79s 4ms/step - loss: 0.1723 - acc: 0.8459 - precision: 0.8111 - val_loss: 0.2558 - val_acc: 0.7091 - val_precision: 0.6196\n",
      "Epoch 5/10\n",
      "20967/20967 [==============================] - 79s 4ms/step - loss: 0.1583 - acc: 0.8585 - precision: 0.8240 - val_loss: 0.2541 - val_acc: 0.7048 - val_precision: 0.6171\n",
      "Epoch 6/10\n",
      "20967/20967 [==============================] - 80s 4ms/step - loss: 0.1503 - acc: 0.8648 - precision: 0.8301 - val_loss: 0.2505 - val_acc: 0.7117 - val_precision: 0.6189\n",
      "Epoch 7/10\n",
      "20967/20967 [==============================] - 83s 4ms/step - loss: 0.1436 - acc: 0.8702 - precision: 0.8359 - val_loss: 0.2502 - val_acc: 0.7113 - val_precision: 0.6197\n",
      "Epoch 8/10\n",
      "20967/20967 [==============================] - 82s 4ms/step - loss: 0.1378 - acc: 0.8724 - precision: 0.8386 - val_loss: 0.2476 - val_acc: 0.7160 - val_precision: 0.6185\n",
      "Epoch 9/10\n",
      "20967/20967 [==============================] - 87s 4ms/step - loss: 0.1332 - acc: 0.8755 - precision: 0.8418 - val_loss: 0.2458 - val_acc: 0.7181 - val_precision: 0.6197\n",
      "Epoch 10/10\n",
      "20967/20967 [==============================] - 78s 4ms/step - loss: 0.1321 - acc: 0.8755 - precision: 0.8415 - val_loss: 0.2454 - val_acc: 0.7220 - val_precision: 0.6186\n",
      "Testing on 3 split\n",
      "Train on 20967 samples, validate on 2331 samples\n",
      "Epoch 1/10\n",
      "20967/20967 [==============================] - 95s 5ms/step - loss: 0.2777 - acc: 0.6056 - precision: 0.6284 - val_loss: 0.2840 - val_acc: 0.6281 - val_precision: 0.6107\n",
      "Epoch 2/10\n",
      "20967/20967 [==============================] - 83s 4ms/step - loss: 0.2447 - acc: 0.6872 - precision: 0.6910 - val_loss: 0.2755 - val_acc: 0.6598 - val_precision: 0.6117\n",
      "Epoch 3/10\n",
      "20967/20967 [==============================] - 81s 4ms/step - loss: 0.2115 - acc: 0.7620 - precision: 0.7537 - val_loss: 0.2709 - val_acc: 0.6697 - val_precision: 0.6118\n",
      "Epoch 4/10\n",
      "20967/20967 [==============================] - 78s 4ms/step - loss: 0.1898 - acc: 0.8012 - precision: 0.7918 - val_loss: 0.2673 - val_acc: 0.6761 - val_precision: 0.6117\n",
      "Epoch 5/10\n",
      "20967/20967 [==============================] - 80s 4ms/step - loss: 0.1795 - acc: 0.8168 - precision: 0.8073 - val_loss: 0.2643 - val_acc: 0.6787 - val_precision: 0.6114\n",
      "Epoch 6/10\n",
      "20967/20967 [==============================] - 76s 4ms/step - loss: 0.1667 - acc: 0.8320 - precision: 0.8175 - val_loss: 0.2613 - val_acc: 0.6890 - val_precision: 0.6120\n",
      "Epoch 7/10\n",
      "20967/20967 [==============================] - 78s 4ms/step - loss: 0.1558 - acc: 0.8487 - precision: 0.8276 - val_loss: 0.2577 - val_acc: 0.6937 - val_precision: 0.6124\n",
      "Epoch 8/10\n",
      "20967/20967 [==============================] - 77s 4ms/step - loss: 0.1457 - acc: 0.8574 - precision: 0.8314 - val_loss: 0.2559 - val_acc: 0.6988 - val_precision: 0.6120\n",
      "Epoch 9/10\n",
      "20967/20967 [==============================] - 76s 4ms/step - loss: 0.1400 - acc: 0.8645 - precision: 0.8349 - val_loss: 0.2544 - val_acc: 0.7010 - val_precision: 0.6120\n",
      "Epoch 10/10\n",
      "20967/20967 [==============================] - 96s 5ms/step - loss: 0.1360 - acc: 0.8688 - precision: 0.8392 - val_loss: 0.2519 - val_acc: 0.7074 - val_precision: 0.6118\n"
     ]
    }
   ],
   "source": [
    "for train,test in zip(train_list[0:3],test_list[0:3]):\n",
    "    print(\"Testing on\", len(histories2)+1, \"split\")\n",
    "    df_train = deepcopy(df.iloc[train])\n",
    "    df_test = deepcopy(df.iloc[test])\n",
    "    ohe = OneHotEncoder(handle_unknown='ignore')\n",
    "    X_train_ohe = ohe.fit_transform(df_train[categorical_headers_ints].values)\n",
    "    X_test_ohe = ohe.transform(df_test[categorical_headers_ints].values)\n",
    "\n",
    "    y_train = df_train[df_class].values.astype(np.int)\n",
    "    y_test = df_test[df_class].values.astype(np.int)\n",
    "    # and save off the numeric features\n",
    "    X_train_num =  df_train[numeric_headers].values\n",
    "    X_test_num = df_test[numeric_headers].values\n",
    "    #'workclass','education','marital_status','occupation','relationship','race','sex','country'\n",
    "\n",
    "    # we need to create separate lists for each branch\n",
    "    embed_branches = []\n",
    "    X_ints_train = []\n",
    "    X_ints_test = []\n",
    "    all_inputs = []\n",
    "    all_wide_branch_outputs = []\n",
    "\n",
    "    for cols in cross_columns:\n",
    "        # encode crossed columns as ints for the embedding\n",
    "        enc = LabelEncoder()\n",
    "\n",
    "        # create crossed labels\n",
    "        X_crossed_train = df_train[cols].apply(lambda x: '_'.join(str(x)), axis=1)\n",
    "        X_crossed_test = df_test[cols].apply(lambda x: '_'.join(str(x)), axis=1)\n",
    "\n",
    "        enc.fit(np.hstack((X_crossed_train.values,  X_crossed_test.values)))\n",
    "        X_crossed_train = enc.transform(X_crossed_train)\n",
    "        X_crossed_test = enc.transform(X_crossed_test)\n",
    "        X_ints_train.append( X_crossed_train )\n",
    "        X_ints_test.append( X_crossed_test )\n",
    "\n",
    "        # get the number of categories\n",
    "        N = max(X_ints_train[-1]+1) # same as the max(df_train[col])\n",
    "\n",
    "        # create embedding branch from the number of categories\n",
    "        inputs = Input(shape=(1,),dtype='int32', name = '_'.join(cols))\n",
    "        all_inputs.append(inputs)\n",
    "        x = Embedding(input_dim=N, \n",
    "                      output_dim=int(np.sqrt(N)), \n",
    "                      input_length=1, name = '_'.join(cols)+'_embed')(inputs)\n",
    "        x = Flatten()(x)\n",
    "        all_wide_branch_outputs.append(x)\n",
    "\n",
    "    # merge the branches together\n",
    "    wide_branch = concatenate(all_wide_branch_outputs, name='wide_concat')\n",
    "    wide_branch = Dense(units=1,activation='sigmoid',name='wide_combined')(wide_branch)\n",
    "\n",
    "    # reset this input branch\n",
    "    all_deep_branch_outputs = []\n",
    "    # add in the embeddings\n",
    "    for col in categorical_headers_ints:\n",
    "        # encode as ints for the embedding\n",
    "        X_ints_train.append( df_train[col].values )\n",
    "        X_ints_test.append( df_test[col].values )\n",
    "\n",
    "        # get the number of categories\n",
    "        N = max(X_ints_train[-1]+1) # same as the max(df_train[col])\n",
    "\n",
    "        # create embedding branch from the number of categories\n",
    "        inputs = Input(shape=(1,),dtype='int32', name=col)\n",
    "        all_inputs.append(inputs)\n",
    "        x = Embedding(input_dim=N, \n",
    "                      output_dim=int(np.sqrt(N)), \n",
    "                      input_length=1, name=col+'_embed')(inputs)\n",
    "        x = Flatten()(x)\n",
    "        all_deep_branch_outputs.append(x)\n",
    "\n",
    "    # also get a dense branch of the numeric features\n",
    "    all_inputs.append(Input(shape=(X_train_num.shape[1],),\n",
    "                            sparse=False,\n",
    "                            name='numeric_data'))\n",
    "\n",
    "    x = Dense(units=20, activation='relu',name='numeric_1')(all_inputs[-1])\n",
    "    all_deep_branch_outputs.append( x )\n",
    "\n",
    "\n",
    "    # let's encode the integer outputs as one hot encoded labels\n",
    "    #ohe = OneHotEncoder()\n",
    "    #X_train_ohe = ohe.fit_transform(df_train[categorical_headers_ints].values)\n",
    "    #X_test_ohe = ohe.transform(df_test[categorical_headers_ints].values)\n",
    "\n",
    "    # create sparse input branch for ohe\n",
    "    #inputsSparse = Input(shape=(X_train_ohe.shape[1],),sparse=True, name='X_ohe')\n",
    "    #sparse_branch = Dense(units=20, activation='relu', name='ohe_1')(inputsSparse)\n",
    "\n",
    "\n",
    "    # merge the deep branches together\n",
    "    deep_branch = concatenate(all_deep_branch_outputs,name='concat_embeds')\n",
    "    drop_out_deep = Dropout(0.10)(deep_branch) \n",
    "    deep_branch = Dense(units=50,activation='relu', name='deep1')(drop_out_deep)\n",
    "    drop_out_deep = Dropout(0.10)(deep_branch) \n",
    "    deep_branch = Dense(units=25,activation='relu', name='deep2')(drop_out_deep)\n",
    "\n",
    "    drop_out_deep = Dropout(0.10)(deep_branch) \n",
    "    deep_branch = Dense(units=10,activation='relu', name='deep3')(drop_out_deep)\n",
    "\n",
    "    final_branch2 = concatenate([wide_branch, deep_branch],name='concat_deep_wide')\n",
    "    final_branch2 = Dense(units=1,activation='sigmoid',name='combined')(final_branch2)\n",
    "\n",
    "    model2 = Model(inputs=all_inputs, outputs=final_branch2)\n",
    "    model2.compile(optimizer='adagrad',\n",
    "                  loss='mean_squared_error',\n",
    "                  metrics=['accuracy', precision])\n",
    "    history2 = model2.fit(X_ints_train+ [X_train_num],\n",
    "                    y_train, \n",
    "                    epochs=10, \n",
    "                    batch_size=32, \n",
    "                    verbose=1, \n",
    "                    validation_data = (X_ints_test + [X_test_num], y_test))\n",
    "    histories2.append(history2)\n",
    "    "
   ]
  },
  {
   "cell_type": "code",
   "execution_count": 24,
   "metadata": {},
   "outputs": [
    {
     "name": "stdout",
     "output_type": "stream",
     "text": [
      "0.630030568280514 0.6291219529446898\n"
     ]
    }
   ],
   "source": [
    "import seaborn as sns\n",
    "%matplotlib inline\n",
    "\n",
    "precisions1 = [x.history['val_precision'][-1] for x in histories1]\n",
    "precisions2 = [x.history['val_precision'][-1] for x in histories2]\n",
    "\n",
    "print(np.mean(precisions1), np.mean(precisions2))"
   ]
  },
  {
   "cell_type": "code",
   "execution_count": 25,
   "metadata": {},
   "outputs": [
    {
     "data": {
      "text/plain": [
       "Text(0,0.5,'Precision %')"
      ]
     },
     "execution_count": 25,
     "metadata": {},
     "output_type": "execute_result"
    },
    {
     "data": {
      "image/png": "[encoded data removed]",
      "text/plain": [
       "<matplotlib.figure.Figure at 0x2322a774b00>"
      ]
     },
     "metadata": {},
     "output_type": "display_data"
    }
   ],
   "source": [
    "plt.scatter([x for x in range(1,4)], precisions1, label='Network 1')\n",
    "plt.scatter([x for x in range(1,4)], precisions2,label='Network 2')\n",
    "plt.legend()\n",
    "plt.xlabel('Fold number')\n",
    "plt.ylabel('Precision %')"
   ]
  },
  {
   "cell_type": "markdown",
   "metadata": {},
   "source": [
    "We can see that on average, our first and second network perform very closely to one another, although Network 2 seems to be more consistent over the first 3 folds we validated on. In the block below, we look at the average precision based on every epoch and training/test fold. Since each epoch is expensive, that average could give us insight as to which network would perform better without much training. We could not afford to run 3 epochs on all 10 KFolds as it was a very expensive operation and we do not own the hardware needed to  We see that Network 1 performed better overall and decide to use as our "
   ]
  },
  {
   "cell_type": "code",
   "execution_count": 26,
   "metadata": {},
   "outputs": [
    {
     "name": "stdout",
     "output_type": "stream",
     "text": [
      "0.6252819555299775 0.6235953686371324\n"
     ]
    }
   ],
   "source": [
    "precisions1 = [x.history['val_precision'] for x in histories1]\n",
    "precisions2 = [x.history['val_precision'] for x in histories2]\n",
    "\n",
    "print(np.mean(precisions1), np.mean(precisions2))"
   ]
  },
  {
   "cell_type": "markdown",
   "metadata": {},
   "source": [
    "## Comparison to MLP"
   ]
  },
  {
   "cell_type": "code",
   "execution_count": 27,
   "metadata": {},
   "outputs": [],
   "source": [
    "\n",
    "precisions_MLP=[]\n",
    "for train,test in zip(train_list[0:3],test_list[0:3]):\n",
    "    df_train = deepcopy(df.iloc[train])\n",
    "    df_test = deepcopy(df.iloc[test])\n",
    "    \n",
    "    ohe = OneHotEncoder()\n",
    "    X_train_ohe = ohe.fit_transform(df_train[categorical_headers_ints].values)\n",
    "    X_test_ohe = ohe.transform(df_test[categorical_headers_ints].values)\n",
    "\n",
    "    y_train = df_train[df_class].values.astype(np.int)\n",
    "    y_test = df_test[df_class].values.astype(np.int)\n",
    "    \n",
    "    inputsSparse = Input(shape=(X_train_ohe.shape[1],),sparse=True, name='X_ohe')\n",
    "    xSparse = Dense(units=10, activation='relu', name='ohe_1')(inputsSparse)\n",
    "\n",
    "    # create dense input branch for numeric\n",
    "    inputsDense = Input(shape=(X_train_num.shape[1],),sparse=False, name='X_Numeric')\n",
    "    xDense = Dense(units=10, activation='relu',name='num_1')(inputsDense)\n",
    "\n",
    "    x = concatenate([xSparse, xDense], name='concat')\n",
    "    predictions = Dense(1,activation='sigmoid', name='combined')(x)\n",
    "\n",
    "    # This creates a model that includes\n",
    "    # the Input layer and Dense layers\n",
    "    model = Model(inputs=[inputsSparse,inputsDense], outputs=predictions)\n",
    "\n",
    "    model.compile(optimizer='sgd',\n",
    "                  loss='mean_squared_error',\n",
    "                  metrics=['accuracy', precision])\n",
    "    model.fit([ X_train_ohe, X_train_num ], # inputs for each branch are a list\n",
    "              y_train, \n",
    "              epochs=10, \n",
    "              batch_size=50, \n",
    "              verbose=0)\n",
    "\n",
    "    yhat = model.predict([X_test_ohe,\n",
    "                          X_test_num]) # each branch has an input\n",
    "\n",
    "    yhat = np.round(yhat)\n",
    "    precisions_MLP.append(mt.precision_score(y_test,yhat))\n",
    "\n",
    "    "
   ]
  },
  {
   "cell_type": "code",
   "execution_count": 29,
   "metadata": {},
   "outputs": [
    {
     "name": "stdout",
     "output_type": "stream",
     "text": [
      "[0.5954598370197904, 0.6433301797540208, 0.6727722772277228]\n",
      "[0.6589720079899857, 0.6187309109054886, 0.6123887859460675]\n"
     ]
    },
    {
     "data": {
      "text/plain": [
       "Text(0,0.5,'Precision %')"
      ]
     },
     "execution_count": 29,
     "metadata": {},
     "output_type": "execute_result"
    },
    {
     "data": {
      "image/png": "[encoded data removed]",
      "text/plain": [
       "<matplotlib.figure.Figure at 0x2325a8cbf98>"
      ]
     },
     "metadata": {},
     "output_type": "display_data"
    }
   ],
   "source": [
    "print(precisions_MLP)\n",
    "print([x.history['val_precision'][-1] for x in histories1])\n",
    "hist = [x.history['val_precision'][-1] for x in histories1]\n",
    "plt.scatter([x for x in range(1,4)],precisions_MLP, label='MLP')\n",
    "plt.scatter([x for x in range(1,4)], hist,label='Wide & Deep')\n",
    "plt.legend()\n",
    "plt.xlabel('Fold number')\n",
    "plt.ylabel('Precision %')"
   ]
  },
  {
   "cell_type": "markdown",
   "metadata": {},
   "source": [
    "## Augmentation"
   ]
  },
  {
   "cell_type": "code",
   "execution_count": null,
   "metadata": {},
   "outputs": [],
   "source": []
  }
 ],
 "metadata": {
  "anaconda-cloud": {},
  "kernelspec": {
   "display_name": "Python 3",
   "language": "python",
   "name": "python3"
  },
  "language_info": {
   "codemirror_mode": {
    "name": "ipython",
    "version": 3
   },
   "file_extension": ".py",
   "mimetype": "text/x-python",
   "name": "python",
   "nbconvert_exporter": "python",
   "pygments_lexer": "ipython3",
   "version": "3.6.4"
  }
 },
 "nbformat": 4,
 "nbformat_minor": 2
}
