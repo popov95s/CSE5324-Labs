{
 "cells": [
  {
   "cell_type": "markdown",
   "metadata": {},
   "source": [
    "# Lab 3: Logistic Regression"
   ]
  },
  {
   "cell_type": "markdown",
   "metadata": {},
   "source": [
    "Momin Irfan, Tyler Giallanza, Stefan Popov, Zach Freeman "
   ]
  },
  {
   "cell_type": "markdown",
   "metadata": {},
   "source": [
    "# Business Understanding"
   ]
  },
  {
   "cell_type": "markdown",
   "metadata": {},
   "source": [
    "## Overview \n",
    "The dataset we chose contains car evaluation data derived from a hierarchical decision model developed initially for a demonstration of a decision making model and can be found at [[1]](#footnote1). The authors The dataset contains 6 attributes related to either price or technical characteristics. The 7th attribute represents the estimated class of the car and is based on all other attributes. The dataset consists of 1728 entries and is stripped of structural attributes, which means all attributes are directly related to the estimated car class attribute. There are also three intermediate attributes – PRICE, TECH and COMFORT – which are related to the 6 main attributes. \n",
    "## Use case\n",
    "Choosing a vehicle to purchase can be a tedious process that involves hours of research, with studies showing American drivers spend an average of around 15 hours between realizing the need for a new car and making the purchase [[2]](#footnote2). 60% of this time is usually spent in online research of specifications and availability. Generally, although the most important attribute of a car is its ability to transport, the final decision is very often based on an amalgam of its price, safety and capacity. The main purpose for the collection of the dataset we chose was to “actively support the decision maker in the knowledge acquisition and evaluation stages of the decision making process” [[3]](#footnote3). \n",
    "## Prediction task\n",
    "The dataset uses a simple hierarchical model to classify cars in one of 4 categories: Unacceptable (unacc), Acceptable (acc), Good (good), Very Good (vgood). The criteria tree is displayed below. The goal of our prediction task is to correctly identify the class associated with the car based on the 6 attributes that are used in the evaluation model, without specifying the model structure itself. \n",
    "\n",
    "\n",
    "<img src='tree.png' label=\"Criteria tree\"/ height=500 width=500>\n",
    "This could be useful in many different scenarios, such as helping manufacturers determine whether or not a new car would be well accepted by the market. Even after years of research and development, some car manufacturers suffer big financial losses due to lack of proper competitor analysis in the market and target audience expectations [[4]](#footnote4). Thus, for our evaluation criteria on this dataset, we aim to maximize the number of correctly predicted car classes in the range unacceptable and very good, as described above. The higher the percentage, the more reliable and valuable our algorithm will be to said manufacturers upon releasing a new vehicle to the market. \n",
    "\n",
    "As a benchmark to compare our algorithm against, we consider how accurate car manufacturers are now about predicting how successful their newest model will be. Since the actual predictions a car company has for their models is not public information, we use a proxy to approximate the prediction accuracy: the percentage of cars on the market that are acceptable, good, or very good. We assume that the goal of a car company is to produce a car that is not unacceptable. Thus, the percentage of cars on the market that are unacceptable is similar to the prediction error that car manufacturers exhibit. In our data set, 70% of the cars are unacceptable. Thus, we estimate for the purposes of this exercise that car manufacturers have a 30% accuracy rate in predicting the acceptability of cars.\n",
    "\n",
    "\n",
    "The simplicity of the hierarchical decision model used in the training set could be a limitation to this performance and reliability, as we are only basing our results on the 6 attributes that are provided. A further drawback is the fact that all attributes are nominally assigned, which would fail to account for small differences of attribute values near the hard cutoff limits. \n",
    "\n",
    " \n",
    "\n",
    "### References\n",
    "&nbsp;<a name=\"footnote1\">1</a>: https://archive.ics.uci.edu/ml/datasets/Car+Evaluation <br>\n",
    "&nbsp;<a name=\"footnote2\">2</a>: https://www.elephant.com/blog/car-insurance/new-study-details-how-long-it-takes-before-car-shoppers-buy <br>\n",
    "&nbsp;<a name=\"footnote3\">3</a>: http://kt.ijs.si/MarkoBohanec/pub/Avignon88.pdf <br>\n",
    "&nbsp;<a name=\"footnote4\">4</a>: https://www.popularmechanics.com/cars/g1766/10-cars-that-deserved-to-fail/?slide=3 <br>\n",
    "\n"
   ]
  },
  {
   "cell_type": "markdown",
   "metadata": {},
   "source": [
    "# Data Preparation"
   ]
  },
  {
   "cell_type": "code",
   "execution_count": 71,
   "metadata": {
    "scrolled": false
   },
   "outputs": [
    {
     "name": "stdout",
     "output_type": "stream",
     "text": [
      "Percent of cars that are unacceptable: 0.7002314814814815\n"
     ]
    }
   ],
   "source": [
    "#Imports\n",
    "import scipy\n",
    "import numpy as np\n",
    "import pandas as pd\n",
    "import matplotlib.pyplot as plt\n",
    "from sklearn.metrics import accuracy_score\n",
    "from scipy.special import expit\n",
    "from sklearn.model_selection import train_test_split\n",
    "import warnings\n",
    "from sklearn import linear_model\n",
    "warnings.filterwarnings('ignore')\n",
    "\n",
    "\n",
    "df = pd.read_csv('car.data')\n",
    "buying_maint_map = {'vhigh':3,'high':2,'med':1,'low':0}\n",
    "df['buy_price'] = df['buy_price'].map(buying_maint_map).astype(np.int)\n",
    "df['maint_price'] = df['maint_price'].map(buying_maint_map).astype(np.int)\n",
    "doors_map = {'2':0,'3':1,'4':2,'5more':3}\n",
    "df['doors'] = df['doors'].map(doors_map).astype(np.int)\n",
    "persons_map = {'2':0,'3':1,'4':2,'more':3}\n",
    "df['persons'] = df['persons'].map(persons_map).astype(np.int)\n",
    "trunk_map = {'small':0,'med':1,'big':2}\n",
    "df['trunk_size'] = df['trunk_size'].map(trunk_map).astype(np.int)\n",
    "safety_map = {'low':0,'med':1,'high':2}\n",
    "df['safety'] = df['safety'].map(safety_map).astype(np.int)\n",
    "class_map = {'unacc':0,'acc':1,'good':2,'vgood':3}\n",
    "df['class'] = df['class'].map(class_map).astype(np.int)\n",
    "\n",
    "\n",
    "feature_cols = ['buy_price','maint_price','doors','persons','trunk_size','safety']\n",
    "class_cols = ['class']\n",
    "\n",
    "unacc_percent = len(df[df['class']==0])/len(df['class'])\n",
    "print('Percent of cars that are unacceptable:',unacc_percent)\n",
    "\n",
    "#Make X a 2D numpy array\n",
    "X = df[feature_cols].as_matrix()\n",
    "#Make y a 1D numpy array\n",
    "y = (df[class_cols]==0).astype(np.int).values.ravel()\n",
    "y_not_binary = (df[class_cols]).astype(np.int).values.ravel()\n",
    "\n",
    "X_train, X_test, y_train, y_test = train_test_split(X, y_not_binary, test_size=0.2, shuffle=True)\n"
   ]
  },
  {
   "cell_type": "markdown",
   "metadata": {},
   "source": [
    "The only data processing/preparation we do is to convert the text categories such as 'vhigh', 'small', 'unacc', etc. into integer values. Since these classes are ordered, we use integers instead of one-hot encoding."
   ]
  },
  {
   "cell_type": "markdown",
   "metadata": {},
   "source": [
    "## Data understanding\n",
    "As can be seen in the pie chart below, 70% of the data we are using is in the unacceptable class. For our prediction task, this would mean that we are going to be much more accurate predicting cars in that specific class, as the training set is significantly larger. For our potential stakeholders, this would signify our ability to more accurately distinguish the cars that will probably not do very successfully on the market, than actually make projections related to actual potential market value and overall acceptability in the 4 classes. This makes our algorithm more applicable towards the possibility of a car being a failure in the market, which is what manufacturers would be most interested in. <br> The dataset contains no missing values. "
   ]
  },
  {
   "cell_type": "code",
   "execution_count": 18,
   "metadata": {},
   "outputs": [
    {
     "data": {
      "image/png": "[encoded data removed]",
      "text/plain": [
       "<matplotlib.figure.Figure at 0x12007ef0390>"
      ]
     },
     "metadata": {},
     "output_type": "display_data"
    }
   ],
   "source": [
    "from collections import Counter\n",
    "values = list(Counter(df['class']).values())\n",
    "colors = ['red', 'orange', 'yellow', 'lightgreen']\n",
    "plt.pie(values, labels=[k for k,v in class_map.items()], colors=colors,\n",
    "        autopct='%1.1f%%', shadow=True, startangle=140)\n",
    " \n",
    "plt.axis('equal')\n",
    "plt.show()"
   ]
  },
  {
   "cell_type": "markdown",
   "metadata": {},
   "source": [
    "# 80/20 Split"
   ]
  },
  {
   "cell_type": "markdown",
   "metadata": {},
   "source": [
    "Splitting 80/20 is problematic in these cases: first, if there are not enough data; second, if the data have time dependence; third, if the split that was chosen randomly happens to show performance that is better or worse than the actual performance of the model. None of the three cases apply to our data. The first case, that there are not enough data, does not apply. Our data has 1,728 instances, which means that 346 instances are used in the test set. With 346 instances, lucky guesses have little effect; each instance represents less than 1 percent of the total result. The second case, that the data have time dependence, also does not apply. Time dependence exists in venues like finance, where stock price is a function of time. In our data set, new car models are not time dependent on old car models; it is not as if the number of doors that car models have increases over time. The third case, that the randomized 80/20 split happens to be a lucky one, is solved by running multiple randomizations. We run multiple randomizations to see how the model performs when trained and tested on different data to avoid the influence of one lucky guess.\n",
    "\n",
    "An 80/20 split is also problematic when either the training or test set are used to optimize hyperparameters. The grid search that we will perform on the test set is data snooping because we are not pulling information form the relationship between the data but between our models and that specific dataset. To get around this we could break our set into train-test-validate sets. This would help ameliorate this issue. \n",
    "\n",
    "\n",
    "Nonetheless, Although it is not perfect an 80/20 split is sufficient for our specific purpose with this dataset. We want to analyze the differences between optimization methods so even though we are data snooping this does not greatly effect the relationships between optimization methods and regularizations. Splitting the dataset into a test set and a training set allows us to see how our models perform relatively to each other and that is the main goal of this excercise.\n",
    "\n"
   ]
  },
  {
   "cell_type": "markdown",
   "metadata": {},
   "source": [
    "# Logistic Regression Modeling"
   ]
  },
  {
   "cell_type": "markdown",
   "metadata": {},
   "source": [
    "## Binary Logistic Regression"
   ]
  },
  {
   "cell_type": "code",
   "execution_count": 48,
   "metadata": {},
   "outputs": [],
   "source": [
    "#Taken from not# Business Understandingebook 6\n",
    "class BinaryLogisticRegression:\n",
    "    def __init__(self, eta, iterations=20, C=0.001,l1_norm=0.5):\n",
    "        self.eta = eta\n",
    "        self.iters = iterations\n",
    "        self.C = C\n",
    "        if ((l1_norm > 1 or l1_norm < 0) and l1_norm != -1):\n",
    "            raise ValueError(\"L1 Norm must be between 0 and 1 or -1\")\n",
    "        self.l1_norm = l1_norm\n",
    "        # internally we will store the weights as self.w_ to keep with sklearn conventions\n",
    "        \n",
    "    def __str__(self):\n",
    "        if(hasattr(self,'w_')):\n",
    "            return 'Binary Logistic Regression Object with coefficients:\\n'+ str(self.w_) # is we have trained the object\n",
    "        else:\n",
    "            return 'Untrained Binary Logistic Regression Object'\n",
    "        \n",
    "    # convenience, private:\n",
    "    @staticmethod\n",
    "    def _add_bias(X):\n",
    "        return np.hstack((np.ones((X.shape[0],1)),X)) # add bias term\n",
    "    \n",
    "    @staticmethod\n",
    "    def _sigmoid(theta):\n",
    "        # increase stability, redefine sigmoid operation\n",
    "        return expit(theta) #1/(1+np.exp(-theta))\n",
    "    \n",
    "    # vectorized gradient calculation with regularization using L2 Norm\n",
    "    def _get_gradient(self,X,y):\n",
    "        ydiff = y-self.predict_proba(X,add_bias=False).ravel() # get y difference\n",
    "        gradient = np.mean(X * ydiff[:,np.newaxis], axis=0) # make ydiff a column vector and multiply through\n",
    "        gradient = gradient.reshape(self.w_.shape)\n",
    "        if (self.l1_norm == -1):\n",
    "            return gradient\n",
    "        return self._regularize(gradient)\n",
    "    \n",
    "    def _regularize(self,gradient):\n",
    "        #Implementation for Elastic Net regularization \n",
    "        sub_1 = np.copy(gradient[1:])\n",
    "        sub_2 = np.copy(gradient[1:])\n",
    "        \n",
    "        #Calculate L1 Norm \n",
    "        mask = np.logical_and(sub_1 >= (-self.C/2),sub_1 <= (self.C/2))\n",
    "        sub_1[mask] = 0\n",
    "        sub_1[sub_1 < (-self.C/2)] += (self.C / 2)\n",
    "        sub_1[sub_1 > (self.C/2)] -= (self.C / 2)\n",
    "        \n",
    "        \n",
    "        #Calculate L2 Norm\n",
    "        sub_2 += -2 * self.w_[1:] * self.C\n",
    "        \n",
    "        #Combine the regularizations to make an elastic net.\n",
    "        gradient[1:] = self.l1_norm * sub_1 + (1-self.l1_norm) * sub_2\n",
    "        return gradient\n",
    "        \n",
    "    \n",
    "    # public:\n",
    "    def predict_proba(self,X,add_bias=True):\n",
    "        # add bias term if requested\n",
    "        Xb = self._add_bias(X) if add_bias else X\n",
    "        return self._sigmoid(Xb @ self.w_) # return the probability y=1\n",
    "    \n",
    "    def predict(self,X):\n",
    "        return (self.predict_proba(X)>0.5) #return the actual prediction\n",
    "    \n",
    "    \n",
    "    def fit(self, X, y):\n",
    "        Xb = self._add_bias(X) # add bias term\n",
    "        num_samples, num_features = Xb.shape\n",
    "        \n",
    "        self.w_ = np.zeros((num_features,1)) # init weight vector to zeros\n",
    "        \n",
    "        # for as many as the max iterations\n",
    "        for _ in range(self.iters):\n",
    "            gradient = self._get_gradient(Xb,y)\n",
    "            self.w_ += gradient*self.eta # multiply by learning rate "
   ]
  },
  {
   "cell_type": "markdown",
   "metadata": {},
   "source": [
    "https://www.coursera.org/learn/ml-regression/lecture/SeZsT/coordinate-descent-for-lasso-normalized-features\n",
    "Coursera link used to help derive the formula for L1 regularization."
   ]
  },
  {
   "cell_type": "markdown",
   "metadata": {},
   "source": [
    "### Stochastic Regression"
   ]
  },
  {
   "cell_type": "code",
   "execution_count": 49,
   "metadata": {},
   "outputs": [
    {
     "name": "stdout",
     "output_type": "stream",
     "text": [
      "Binary Logistic Regression Object with coefficients:\n",
      "[[ 2.97223993]\n",
      " [ 1.42314931]\n",
      " [ 1.57882663]\n",
      " [-0.07090484]\n",
      " [-1.14462259]\n",
      " [-0.28154434]\n",
      " [-2.23549028]]\n",
      "Accuracy of:  0.8229166666666666\n",
      "Wall time: 37.9 ms\n"
     ]
    }
   ],
   "source": [
    "%%time# Business Understanding\n",
    "class StochasticLogisticRegression(BinaryLogisticRegression):\n",
    "    # stochastic gradient calculation \n",
    "    def _get_gradient(self,X,y):\n",
    "        idx = int(np.random.rand()*len(y)) # grab random instance\n",
    "        ydiff = y[idx]-self.predict_proba(X[idx],add_bias=False) # get y difference (now scalar)\n",
    "        gradient = X[idx] * ydiff[:,np.newaxis] # make ydiff a column vector and multiply through\n",
    "        gradient = gradient.reshape(self.w_.shape)\n",
    "        if (self.l1_norm == -1):\n",
    "            return gradient\n",
    "        return self._regularize(gradient)\n",
    "    \n",
    "    \n",
    "slr = StochasticLogisticRegression(0.1,1000, C=0.001,l1_norm=1) # take a lot more steps!!\n",
    "\n",
    "slr.fit(X,y)\n",
    "\n",
    "yhat = slr.predict(X)\n",
    "print(slr)\n",
    "print('Accuracy of: ',accuracy_score(y,yhat))"
   ]
  },
  {
   "cell_type": "markdown",
   "metadata": {},
   "source": [
    "### Newton Regression"
   ]
  },
  {
   "cell_type": "code",
   "execution_count": 50,
   "metadata": {},
   "outputs": [
    {
     "name": "stdout",
     "output_type": "stream",
     "text": [
      "Binary Logistic Regression Object with coefficients:\n",
      "[[ 1.37975242e-03]\n",
      " [ 1.93921083e-04]\n",
      " [ 1.72493226e-04]\n",
      " [-5.89276349e-05]\n",
      " [-3.67335919e-04]\n",
      " [-1.64726414e-04]\n",
      " [-6.00648741e-04]]\n",
      "Accuracy of:  0.8923611111111112\n",
      "Wall time: 200 ms\n"
     ]
    }
   ],
   "source": [
    "%%time\n",
    "class NewtonLogisticRegression(BinaryLogisticRegression):\n",
    "    def _hessian(self,X,y):\n",
    "        g = self.predict_proba(X,add_bias=False).ravel()\n",
    "        if (self.l1_norm == -1):\n",
    "            return X.T @ np.diag(g*(1-g)) @ X - 2\n",
    "        else:\n",
    "            return X.T @ np.diag(g*(1-g)) @ X - 2 * (1-self.l1_norm) * self.C\n",
    "    \n",
    "    def fit(self,X,y):\n",
    "        Xb = self._add_bias(X) # add bias term\n",
    "        num_samples, num_features = Xb.shape\n",
    "        self.w_ = np.zeros((num_features,1)) # init weight vector to zeros\n",
    "        # for as many as the max iterations\n",
    "        for _ in range(self.iters):\n",
    "            gradient = self._get_gradient(Xb,y)\n",
    "            inv_hessian = np.linalg.inv(self._hessian(Xb,y))\n",
    "            self.w_ +=  inv_hessian@gradient*self.eta # multiply by learning rate \n",
    "            \n",
    "nlr = NewtonLogisticRegression(0.1,10, C=0.001,l1_norm=0) # take a lot more steps!!\n",
    "nlr.fit(X,y)\n",
    "\n",
    "yhat = nlr.predict(X)\n",
    "print(nlr)\n",
    "print('Accuracy of: ',accuracy_score(y,yhat))"
   ]
  },
  {
   "cell_type": "markdown",
   "metadata": {},
   "source": [
    "The above cells run the binary logistic regession object. They test the accuracy of the model in determining if a car is unacceptable or not. The accuracy for the Newton binary regression is 89%. It is worth noting that this accuracy is significantly better than the accuracy of the car industry at predicting if a car will be unacceptable. 70% of cars produced by the car industry are unacceptable; the industry can only predict if a car will be unacceptable 30% of the time. The Newton Logistic Regression predicts if a car will be unacceptable 89% of the time, a significant improvement."
   ]
  },
  {
   "cell_type": "markdown",
   "metadata": {},
   "source": [
    "## Multi Class Logistic Regression"
   ]
  },
  {
   "cell_type": "code",
   "execution_count": 51,
   "metadata": {},
   "outputs": [],
   "source": [
    "class MultiClassLogisticRegression:\n",
    "    def __init__(self, eta, iterations=20, C=0.0001, optimize_func='steepest',l1_norm=0.5):\n",
    "        self.eta = eta\n",
    "        self.iters = iterations\n",
    "        self.C = C\n",
    "        self.classifiers_ = []\n",
    "        self.optimize_func = optimize_func\n",
    "        self.l1_norm = l1_norm\n",
    "        # internally we will store the weights as self.w_ to keep with sklearn conventions\n",
    "    \n",
    "    def __str__(self):\n",
    "        if(hasattr(self,'w_')):\n",
    "            return 'MultiClass Logistic Regression Object with coefficients:\\n'+ str(self.w_) # is we have trained the object\n",
    "        else:\n",
    "            return 'Untrained MultiClass Logistic Regression Object'\n",
    "        \n",
    "    def fit(self,X,y):\n",
    "        num_samples, num_features = X.shape\n",
    "        self.unique_ = np.sort(np.unique(y)) # get each unique class value\n",
    "        num_unique_classes = len(self.unique_)\n",
    "        self.classifiers_ = []\n",
    "        for i,yval in enumerate(self.unique_): # for each unique value\n",
    "            y_binary = (y==yval).astype(np.int) # create a binary problem\n",
    "            # train the binary classifier for this class\n",
    "            if self.optimize_func == 'stochastic':\n",
    "                hblr = StochasticLogisticRegression(self.eta,self.iters,self.C,l1_norm = self.l1_norm)\n",
    "            elif self.optimize_func == 'steepest':\n",
    "                hblr = BinaryLogisticRegression(self.eta,self.iters,self.C,l1_norm = self.l1_norm)\n",
    "            elif self.optimize_func == 'newton':\n",
    "                hblr = NewtonLogisticRegression(self.eta,self.iters,self.C,l1_norm = self.l1_norm)\n",
    "            hblr.fit(X,y_binary)\n",
    "            # add the trained classifier to the list\n",
    "            self.classifiers_.append(hblr)\n",
    "            \n",
    "        # save all the weights into one matrix, separate column for each class\n",
    "        self.w_ = np.hstack([x.w_ for x in self.classifiers_]).T\n",
    "        \n",
    "    def predict_proba(self,X):\n",
    "        probs = []\n",
    "        for hblr in self.classifiers_:\n",
    "            probs.append(hblr.predict_proba(X).reshape((len(X),1))) # get probability for each classifier\n",
    "        \n",
    "        return np.hstack(probs) # make into single matrix\n",
    "    \n",
    "    def predict(self,X):\n",
    "        return np.argmax(self.predict_proba(X),axis=1) # take argmax along row\n",
    "    \n",
    "\n"
   ]
  },
  {
   "cell_type": "code",
   "execution_count": 52,
   "metadata": {},
   "outputs": [
    {
     "name": "stdout",
     "output_type": "stream",
     "text": [
      "MultiClass Logistic Regression Object with coefficients:\n",
      "[[ 1.07241361  0.86258341  0.80408431  0.14023905 -0.82246482 -0.0731898\n",
      "  -1.21356912]\n",
      " [-1.16057672 -0.36071249 -0.37714207 -0.18977163  0.4727244  -0.15508043\n",
      "   0.64756361]\n",
      " [-0.52221446 -0.99670015 -0.99670015 -0.26945457  0.11810753 -0.27441964\n",
      "   0.00443686]\n",
      " [-0.70688151 -1.02877499 -0.80201932 -0.2993838  -0.02292801 -0.02129836\n",
      "   0.22804441]]\n",
      "Accuracy of:  0.7644675925925926\n",
      "Wall time: 266 ms\n"
     ]
    }
   ],
   "source": [
    "%%time\n",
    "lr = MultiClassLogisticRegression(0.1,iterations=250,C=0.00001,optimize_func='steepest')\n",
    "lr.fit(X,y_not_binary)\n",
    "print(lr)\n",
    "\n",
    "yhat = lr.predict(X)\n",
    "print('Accuracy of: ',accuracy_score(y_not_binary,yhat))"
   ]
  },
  {
   "cell_type": "code",
   "execution_count": 53,
   "metadata": {},
   "outputs": [
    {
     "name": "stdout",
     "output_type": "stream",
     "text": [
      "MultiClass Logistic Regression Object with coefficients:\n",
      "[[ 2.65388562  1.7003562   0.86950518  0.20299706 -1.63148514 -0.21355384\n",
      "  -2.28993566]\n",
      " [-2.81053212 -0.75545291 -0.06883536  0.2193933   0.7572148   0.25900754\n",
      "   1.28980211]\n",
      " [-1.2631831  -1.37729219 -1.62772872  0.0288524   0.21364267 -0.03052712\n",
      "   0.17343626]\n",
      " [-1.60715029 -1.85409441 -1.05791002 -0.18722629  0.37703022  0.29885215\n",
      "   0.82188808]]\n",
      "Accuracy of:  0.7847222222222222\n",
      "Wall time: 176 ms\n"
     ]
    }
   ],
   "source": [
    "%%time\n",
    "lr_st = MultiClassLogisticRegression(0.1,iterations=1000,C=0.00001,optimize_func='stochastic')\n",
    "lr_st.fit(X,y_not_binary)\n",
    "print(lr_st)\n",
    "\n",
    "yhat_st = lr_st.predict(X)\n",
    "print('Accuracy of: ',accuracy_score(y_not_binary,yhat_st))"
   ]
  },
  {
   "cell_type": "code",
   "execution_count": 59,
   "metadata": {},
   "outputs": [
    {
     "name": "stdout",
     "output_type": "stream",
     "text": [
      "MultiClass Logistic Regression Object with coefficients:\n",
      "[[ 0.17066421  0.45403414  0.37441432  0.26042597 -0.0133165   0.10393497\n",
      "  -0.29920561]\n",
      " [-0.26770226 -0.24315729 -0.60113551  0.01564549  0.22140575 -0.46950915\n",
      "   0.06282657]\n",
      " [-0.31474001 -0.49286966 -0.26691637 -0.36722379 -0.37802449 -0.2024811\n",
      "  -0.25974217]\n",
      " [-0.32725282 -0.49373981 -0.39217454 -0.50092061 -0.26490107 -0.22337848\n",
      "  -0.2281748 ]]\n",
      "0.5\n",
      "Accuracy of:  0.6979166666666666\n",
      "Wall time: 9.03 ms\n"
     ]
    }
   ],
   "source": [
    "%%time\n",
    "lr = MultiClassLogisticRegression(0.1,iterations=20,C=0.00001,optimize_func='stochastic',l1_norm=0.5)\n",
    "lr.fit(X,y_not_binary)\n",
    "print(lr)\n",
    "print (lr.l1_norm)\n",
    "\n",
    "yhat = lr.predict(X)\n",
    "print('Accuracy of: ',accuracy_score(y_not_binary,yhat))"
   ]
  },
  {
   "cell_type": "markdown",
   "metadata": {},
   "source": [
    "## Multi Class Logistic Regression Hyperparameter Optimization"
   ]
  },
  {
   "cell_type": "code",
   "execution_count": 55,
   "metadata": {
    "scrolled": false
   },
   "outputs": [
    {
     "name": "stdout",
     "output_type": "stream",
     "text": [
      "[]\n",
      "Norm: 1 | Method: newton | C: 0.0001 | Accuracy of:  0.8208092485549133\n",
      "Norm: 1 | Method: newton | C: 0.001 | Accuracy of:  0.8208092485549133\n",
      "Norm: 1 | Method: newton | C: 0.01 | Accuracy of:  0.8208092485549133\n",
      "Norm: 1 | Method: newton | C: 0.1 | Accuracy of:  0.8265895953757225\n",
      "Norm: 1 | Method: newton | C: 1 | Accuracy of:  0.49710982658959535\n",
      "Norm: 1 | Method: newton | C: 10 | Accuracy of:  0.49710982658959535\n",
      "\n",
      "Norm: 1 | Method: stochastic | C: 0.0001 | Accuracy of:  0.7687861271676301\n",
      "Norm: 1 | Method: stochastic | C: 0.001 | Accuracy of:  0.8092485549132948\n",
      "Norm: 1 | Method: stochastic | C: 0.01 | Accuracy of:  0.7601156069364162\n",
      "Norm: 1 | Method: stochastic | C: 0.1 | Accuracy of:  0.8323699421965318\n",
      "Norm: 1 | Method: stochastic | C: 1 | Accuracy of:  0.8410404624277457\n",
      "Norm: 1 | Method: stochastic | C: 10 | Accuracy of:  0.708092485549133\n",
      "\n",
      "Norm: 1 | Method: steepest | C: 0.0001 | Accuracy of:  0.8034682080924855\n",
      "Norm: 1 | Method: steepest | C: 0.001 | Accuracy of:  0.8034682080924855\n",
      "Norm: 1 | Method: steepest | C: 0.01 | Accuracy of:  0.8092485549132948\n",
      "Norm: 1 | Method: steepest | C: 0.1 | Accuracy of:  0.7745664739884393\n",
      "Norm: 1 | Method: steepest | C: 1 | Accuracy of:  0.708092485549133\n",
      "Norm: 1 | Method: steepest | C: 10 | Accuracy of:  0.708092485549133\n",
      "\n",
      "\n",
      "\n",
      "Norm: 0 | Method: newton | C: 0.0001 | Accuracy of:  0.8236994219653179\n",
      "Norm: 0 | Method: newton | C: 0.001 | Accuracy of:  0.8236994219653179\n",
      "Norm: 0 | Method: newton | C: 0.01 | Accuracy of:  0.8236994219653179\n",
      "Norm: 0 | Method: newton | C: 0.1 | Accuracy of:  0.8208092485549133\n",
      "Norm: 0 | Method: newton | C: 1 | Accuracy of:  0.8179190751445087\n",
      "Norm: 0 | Method: newton | C: 10 | Accuracy of:  0.8063583815028902\n",
      "\n",
      "Norm: 0 | Method: stochastic | C: 0.0001 | Accuracy of:  0.8063583815028902\n",
      "Norm: 0 | Method: stochastic | C: 0.001 | Accuracy of:  0.7947976878612717\n",
      "Norm: 0 | Method: stochastic | C: 0.01 | Accuracy of:  0.8179190751445087\n",
      "Norm: 0 | Method: stochastic | C: 0.1 | Accuracy of:  0.7283236994219653\n",
      "Norm: 0 | Method: stochastic | C: 1 | Accuracy of:  0.708092485549133\n",
      "Norm: 0 | Method: stochastic | C: 10 | Accuracy of:  0.708092485549133\n",
      "\n",
      "Norm: 0 | Method: steepest | C: 0.0001 | Accuracy of:  0.8034682080924855\n",
      "Norm: 0 | Method: steepest | C: 0.001 | Accuracy of:  0.8034682080924855\n",
      "Norm: 0 | Method: steepest | C: 0.01 | Accuracy of:  0.815028901734104\n",
      "Norm: 0 | Method: steepest | C: 0.1 | Accuracy of:  0.7138728323699421\n",
      "Norm: 0 | Method: steepest | C: 1 | Accuracy of:  0.708092485549133\n",
      "Norm: 0 | Method: steepest | C: 10 | Accuracy of:  0.22254335260115607\n",
      "\n",
      "\n",
      "\n",
      "Norm: 0.5 | Method: newton | C: 0.0001 | Accuracy of:  0.8208092485549133\n",
      "Norm: 0.5 | Method: newton | C: 0.001 | Accuracy of:  0.8208092485549133\n",
      "Norm: 0.5 | Method: newton | C: 0.01 | Accuracy of:  0.8179190751445087\n",
      "Norm: 0.5 | Method: newton | C: 0.1 | Accuracy of:  0.8265895953757225\n",
      "Norm: 0.5 | Method: newton | C: 1 | Accuracy of:  0.7023121387283237\n",
      "Norm: 0.5 | Method: newton | C: 10 | Accuracy of:  0.6502890173410405\n",
      "\n",
      "Norm: 0.5 | Method: stochastic | C: 0.0001 | Accuracy of:  0.8092485549132948\n",
      "Norm: 0.5 | Method: stochastic | C: 0.001 | Accuracy of:  0.7745664739884393\n",
      "Norm: 0.5 | Method: stochastic | C: 0.01 | Accuracy of:  0.7861271676300579\n",
      "Norm: 0.5 | Method: stochastic | C: 0.1 | Accuracy of:  0.8063583815028902\n",
      "Norm: 0.5 | Method: stochastic | C: 1 | Accuracy of:  0.708092485549133\n",
      "Norm: 0.5 | Method: stochastic | C: 10 | Accuracy of:  0.708092485549133\n",
      "\n",
      "Norm: 0.5 | Method: steepest | C: 0.0001 | Accuracy of:  0.8034682080924855\n",
      "Norm: 0.5 | Method: steepest | C: 0.001 | Accuracy of:  0.8034682080924855\n",
      "Norm: 0.5 | Method: steepest | C: 0.01 | Accuracy of:  0.8179190751445087\n",
      "Norm: 0.5 | Method: steepest | C: 0.1 | Accuracy of:  0.7398843930635838\n",
      "Norm: 0.5 | Method: steepest | C: 1 | Accuracy of:  0.708092485549133\n",
      "Norm: 0.5 | Method: steepest | C: 10 | Accuracy of:  0.708092485549133\n",
      "\n",
      "\n",
      "\n",
      "Norm: -1 | Method: newton | C: 0.0001 | Accuracy of:  0.8179190751445087\n",
      "Norm: -1 | Method: newton | C: 0.001 | Accuracy of:  0.8179190751445087\n",
      "Norm: -1 | Method: newton | C: 0.01 | Accuracy of:  0.8179190751445087\n",
      "Norm: -1 | Method: newton | C: 0.1 | Accuracy of:  0.8179190751445087\n",
      "Norm: -1 | Method: newton | C: 1 | Accuracy of:  0.8179190751445087\n",
      "Norm: -1 | Method: newton | C: 10 | Accuracy of:  0.8179190751445087\n",
      "\n",
      "Norm: -1 | Method: stochastic | C: 0.0001 | Accuracy of:  0.8208092485549133\n",
      "Norm: -1 | Method: stochastic | C: 0.001 | Accuracy of:  0.7456647398843931\n",
      "Norm: -1 | Method: stochastic | C: 0.01 | Accuracy of:  0.7803468208092486\n",
      "Norm: -1 | Method: stochastic | C: 0.1 | Accuracy of:  0.8092485549132948\n",
      "Norm: -1 | Method: stochastic | C: 1 | Accuracy of:  0.7225433526011561\n",
      "Norm: -1 | Method: stochastic | C: 10 | Accuracy of:  0.8179190751445087\n",
      "\n",
      "Norm: -1 | Method: steepest | C: 0.0001 | Accuracy of:  0.8034682080924855\n",
      "Norm: -1 | Method: steepest | C: 0.001 | Accuracy of:  0.8034682080924855\n",
      "Norm: -1 | Method: steepest | C: 0.01 | Accuracy of:  0.8034682080924855\n",
      "Norm: -1 | Method: steepest | C: 0.1 | Accuracy of:  0.8034682080924855\n",
      "Norm: -1 | Method: steepest | C: 1 | Accuracy of:  0.8034682080924855\n",
      "Norm: -1 | Method: steepest | C: 10 | Accuracy of:  0.8034682080924855\n",
      "\n",
      "\n",
      "\n",
      "Wall time: 31.8 s\n"
     ]
    }
   ],
   "source": [
    "%%time\n",
    "import copy\n",
    "#We tested C's above 1 and they all offer same results. \n",
    "c_list = [0.0001,0.001,0.01,0.1,1,10]#,0.0001,0.001,0.01,0.1,1,10]\n",
    "optimization_list = ['newton','stochastic','steepest']\n",
    "regularization_list = [1,0,.5,-1]\n",
    "eta = 0.1\n",
    "\n",
    "iterations = {\n",
    "    'newton':3,\n",
    "    'stochastic':1000,\n",
    "    'steepest':1000\n",
    "}\n",
    "tests = {}\n",
    "results = {}\n",
    "weights = {}\n",
    "\n",
    "tests = dict.fromkeys(regularization_list,dict.fromkeys(optimization_list,[]))\n",
    "results = []#dict.fromkeys(regularization_list,dict.fromkeys(optimization_list,[]))\n",
    "weights = []\n",
    "\n",
    "print (results)\n",
    "\n",
    "for regularization in regularization_list:\n",
    "    for optimization in optimization_list:\n",
    "        for c in c_list:\n",
    "            test = None\n",
    "            test = MultiClassLogisticRegression(eta,iterations=iterations[optimization],C=float(c),optimize_func=optimization,l1_norm=float(regularization))\n",
    "            test.fit(X_train,y_train)\n",
    "            yhat = test.predict(X_test)\n",
    "            score = accuracy_score(y_test,yhat)\n",
    "            print(\"Norm:\",regularization,'| Method:',str(optimization),'| C:',str(c),'| Accuracy of: ',score)\n",
    "            results.append(score)\n",
    "            weights.append(test.w_)\n",
    "            #print(test.w_)\n",
    "        print()\n",
    "    print()\n",
    "    print()\n",
    "            "
   ]
  },
  {
   "cell_type": "markdown",
   "metadata": {},
   "source": [
    "## Hyperparameter Visualization"
   ]
  },
  {
   "cell_type": "markdown",
   "metadata": {},
   "source": [
    "This puts each parameter of each classifier in a format that will allow for simple graphing."
   ]
  },
  {
   "cell_type": "markdown",
   "metadata": {},
   "source": [
    "We will view how each method performs for each regularization:"
   ]
  },
  {
   "cell_type": "code",
   "execution_count": 58,
   "metadata": {},
   "outputs": [
    {
     "data": {
      "image/png": "[encoded data removed]",
      "text/plain": [
       "<matplotlib.figure.Figure at 0x1889ef1ee80>"
      ]
     },
     "metadata": {},
     "output_type": "display_data"
    },
    {
     "data": {
      "image/png": "[encoded data removed]",
      "text/plain": [
       "<matplotlib.figure.Figure at 0x1889f3dc320>"
      ]
     },
     "metadata": {},
     "output_type": "display_data"
    },
    {
     "data": {
      "image/png": "[encoded data removed]",
      "text/plain": [
       "<matplotlib.figure.Figure at 0x1889ed5c0f0>"
      ]
     },
     "metadata": {},
     "output_type": "display_data"
    },
    {
     "data": {
      "image/png": "[encoded data removed]",
      "text/plain": [
       "<matplotlib.figure.Figure at 0x1889f3bfa20>"
      ]
     },
     "metadata": {},
     "output_type": "display_data"
    }
   ],
   "source": [
    "##L1 Regularization\n",
    "\n",
    "df_performance = pd.DataFrame(perf_dict)\n",
    "df_perf = df_performance[[col for col in df_performance if col.startswith('L1')]]\n",
    "df_perf['Inverse C Values'] = [np.log(1/x) for x in c_list]\n",
    "df_perf.plot(x='Inverse C Values')\n",
    "plt.title(\"Performance with L1 Regularization\")\n",
    "plt.show()\n",
    "\n",
    "##L2 Regularization\n",
    "\n",
    "df_performance = pd.DataFrame(perf_dict)\n",
    "df_perf = df_performance[[col for col in df_performance if col.startswith('L0,')]]\n",
    "df_perf['Inverse C Values'] = [np.log(1/x) for x in c_list]\n",
    "df_perf.plot(x='Inverse C Values')\n",
    "plt.title(\"Performance with L2 Regularization\")\n",
    "plt.show()\n",
    "\n",
    "##No Regularization\n",
    "\n",
    "df_performance = pd.DataFrame(perf_dict)\n",
    "df_perf = df_performance[[col for col in df_performance if col.startswith('L-1')]]\n",
    "df_perf['Inverse C Values'] = [np.log(1/x) for x in c_list]\n",
    "df_perf.plot(x='Inverse C Values')\n",
    "plt.title(\"Performance with No Regularization\")\n",
    "plt.show()\n",
    "\n",
    "##Elastic Regularization\n",
    "\n",
    "df_performance = pd.DataFrame(perf_dict)\n",
    "df_perf = df_performance[[col for col in df_performance if col.startswith('L0.5')]]\n",
    "df_perf['Inverse C Values'] = [np.log(1/x) for x in c_list]\n",
    "df_perf.plot(x='Inverse C Values')\n",
    "plt.title(\"Performance with Elastic Net\")\n",
    "plt.show()"
   ]
  },
  {
   "cell_type": "markdown",
   "metadata": {},
   "source": [
    "## Parameter Selection and Data Snooping"
   ]
  },
  {
   "cell_type": "markdown",
   "metadata": {},
   "source": [
    "We optimized the parameters for C (the regularization penalty), the regularization method, and the optimization method. We got the above results using our 80/20 test split datasets. In our visualizations we see that there is a great deal of variance between each method,but generally, when we decrease C we see better performance. Regularization generally improves performance but introduces variabillity into the model. The most variable optimization method is Stochastic, and this is to be expected given its probabalistic nature in searching specific points. \n",
    "\n",
    "Given this data, our best model would be the stochastic optimization method with L2 regularization and a C less than 0.1. This combination outperforms any other set method we used. However, it is important to note that this method only slightly outperformed other methods, and generally the stochastic optimization method has a great deal of variation. \n",
    "\n",
    "\n",
    "This method of selecting parameters should not be expected to generalize well. Although we performed these tests on seperate and randomly selected data, we had to re-run multiple times to optimize. Our best values are in relation to this specific dataset and not in relation to any discernable or generalizable principles."
   ]
  },
  {
   "cell_type": "markdown",
   "metadata": {},
   "source": [
    "### Paramater Visualization: effects of regularization"
   ]
  },
  {
   "cell_type": "code",
   "execution_count": 64,
   "metadata": {
    "scrolled": true
   },
   "outputs": [
    {
     "data": {
      "image/png": "[encoded data removed]",
      "text/plain": [
       "<matplotlib.figure.Figure at 0x1889f7285c0>"
      ]
     },
     "metadata": {},
     "output_type": "display_data"
    }
   ],
   "source": [
    "import pandas as pd\n",
    "#Organizing the list in an easy to comprehend dictionary\n",
    "classifiers = 4\n",
    "params = 7\n",
    "index = 0 \n",
    "\n",
    "weight_dict = {}\n",
    "perf_dict = {}\n",
    "\n",
    "for reg in regularization_list:\n",
    "    for opt in optimization_list:\n",
    "        temp_list = []\n",
    "        perf_list = [] \n",
    "        for c in c_list:\n",
    "            temp_list.append(weights[index])\n",
    "            perf_list.append(results[index])\n",
    "            index += 1\n",
    "        weight_dict[str(reg)+\",\"+str(opt)] = temp_list\n",
    "        perf_dict[\"L\"+str(reg)+\",\"+str(opt)] = perf_list\n",
    "        #Merging all the params together into a vertical matrix\n",
    "        for row in range(classifiers):\n",
    "            for param in range(params):\n",
    "                #print (temp_list[0])\n",
    "                weight_dict[\"L\"+str(reg)+\",\"+str(opt)+\",Class:\"+str(row)+\",Param:\"+str(param)] = [x[row][param] for x in temp_list]\n",
    "\n",
    "df = pd.DataFrame(weight_dict)\n",
    "df['Log Inverse C Values'] = [np.log(1/x) for x in c_list]\n",
    "df.plot(x='Log Inverse C Values',legend=False)\n",
    "plt.show()"
   ]
  },
  {
   "cell_type": "markdown",
   "metadata": {},
   "source": [
    "Above we graphed lists of all of the 6 parameters for the model (7 is with intercept). This is to view the general trend among the weights given different regularizations as C grows or shrinks. We see the rapid change to zero in the paramaters and the clustering to certain weights among the different models. This could suggest certain areas that all models moved to when considering weights. We see some params close out to zero earlier than others and this hints at their sensitivity to regularization. The L1 norm zeros out a weight if it is between -C/2 and C/2."
   ]
  },
  {
   "cell_type": "markdown",
   "metadata": {},
   "source": [
    "One example of this feature selection at work is the following weight array for Stochastic with L1 regularization and a larger C:"
   ]
  },
  {
   "cell_type": "code",
   "execution_count": 69,
   "metadata": {},
   "outputs": [
    {
     "data": {
      "text/plain": [
       "array([[ 0.87439374,  0.        ,  0.        ,  0.        ,  0.        ,\n",
       "         0.        ,  0.        ],\n",
       "       [-1.25633126,  0.        ,  0.        ,  0.        ,  0.        ,\n",
       "         0.        ,  0.        ],\n",
       "       [-3.43446649,  0.        ,  0.        ,  0.        ,  0.        ,\n",
       "         0.        ,  0.        ],\n",
       "       [-3.19776509,  0.        ,  0.        ,  0.        ,  0.        ,\n",
       "         0.        ,  0.        ]])"
      ]
     },
     "execution_count": 69,
     "metadata": {},
     "output_type": "execute_result"
    }
   ],
   "source": [
    "weight_dict['1,stochastic'][-1]"
   ]
  },
  {
   "cell_type": "markdown",
   "metadata": {},
   "source": [
    "Only the intercept is giving some information here. This is one exremity of feature selection and the L1 norm. "
   ]
  },
  {
   "cell_type": "markdown",
   "metadata": {},
   "source": [
    "# Comparison to Scikit Learn"
   ]
  },
  {
   "cell_type": "code",
   "execution_count": 57,
   "metadata": {},
   "outputs": [
    {
     "name": "stdout",
     "output_type": "stream",
     "text": [
      "Scikit-learn has taken  0.007010221481323242  seconds to train the model\n",
      "Scikit-learn has taken  0.0005009174346923828  seconds to classify\n",
      "Scikit-learn has an accuracy of:  0.8188657407407407\n",
      "\n",
      "\n",
      "\n",
      "\n",
      "Our fastest multiclass method to achieve a similar accuracy is stochastic with around 15,000 iterations.\n",
      "Our multi-class stochastic has taken  2.1123111248016357  seconds to train the model\n",
      "Our multi-class stochastic has taken  0.001001596450805664  seconds to classify\n",
      "Our multi-class stochastic has an accuracy of:  0.7991898148148148\n"
     ]
    },
    {
     "data": {
      "image/png": "[encoded data removed]",
      "text/plain": [
       "<matplotlib.figure.Figure at 0x1fc6cdf3eb8>"
      ]
     },
     "metadata": {},
     "output_type": "display_data"
    }
   ],
   "source": [
    "logistic = linear_model.LogisticRegression()\n",
    "skl_bg = time.time()\n",
    "logistic.fit(X,y_not_binary)\n",
    "skl_nd = time.time()\n",
    "skl_tr = skl_nd - skl_bg\n",
    "print('Scikit-learn has taken ', skl_tr , ' seconds to train the model')\n",
    "\n",
    "skl_bg = time.time()\n",
    "yhat_sk = logistic.predict(X)\n",
    "skl_nd = time.time()\n",
    "skl_cl = skl_nd - skl_bg\n",
    "print('Scikit-learn has taken ', skl_cl , ' seconds to classify')\n",
    "print('Scikit-learn has an accuracy of: ', accuracy_score(y_not_binary, yhat_sk))\n",
    "\n",
    "print('\\n\\n\\n')\n",
    "print('Our fastest multiclass method to achieve a similar accuracy is stochastic with around 15,000 iterations.')\n",
    "lr_st = MultiClassLogisticRegression(0.1,iterations=15000,C=0.00001,optimize_func='stochastic')\n",
    "mlr_bg = time.time()\n",
    "lr_st.fit(X,y_not_binary)\n",
    "mlr_nd = time.time()\n",
    "mlr_tr = mlr_nd - mlr_bg\n",
    "print('Our multi-class stochastic has taken ', mlr_tr , ' seconds to train the model')\n",
    "\n",
    "mlr_bg = time.time()\n",
    "yhat_st = lr_st.predict(X)\n",
    "mlr_nd = time.time()\n",
    "mlr_cl = mlr_nd - mlr_bg\n",
    "print('Our multi-class stochastic has taken ', mlr_cl , ' seconds to classify')\n",
    "print('Our multi-class stochastic has an accuracy of: ', accuracy_score(y_not_binary,yhat_st))\n",
    "\n",
    "times_skl = (skl_tr, skl_cl)\n",
    "times_mlr = (mlr_tr, mlr_cl)\n",
    "\n",
    "fig, ax = plt.subplots()\n",
    "index = np.arange(2)\n",
    "bar_width = 0.2\n",
    "\n",
    "theirs = plt.bar(index, times_skl, bar_width, label=\"Scikit-learn\")\n",
    "ours = plt.bar(index + bar_width, times_mlr, bar_width, label=\"Our implementation\")\n",
    "\n",
    "\n",
    "plt.ylabel('Time (sec)')\n",
    "plt.title('Logistic Regression Performance')\n",
    "plt.xticks(index + bar_width/2, ('Time to Train', 'Time to Classify'))\n",
    "plt.legend()\n",
    " \n",
    "plt.yscale('log')\n",
    "plt.tight_layout()\n",
    "plt.show()\n"
   ]
  },
  {
   "cell_type": "markdown",
   "metadata": {},
   "source": [
    "As can be seen in the data and graph above, scikit-learn tends to take far less time to achieve similar accuracy to our implementations of logistic regression.  <br><br>\n",
    "The major time difference comes in the training of the model; scikit-learn's built-in LogisticRegression class performs the training of the dataset in about $7 \\space ms$, while ours runs approximately $3$ orders of magnitude slower, in about $2 \\space s$. <br><br>\n",
    "The difference is less pronounced in the times it takes for each to use the constructed classifiers; with scikit-learn taking approximately $500 \\space\\mu s$ and ours taking $1 \\space ms$, we tend to be within $1$ order of magnitude of the built-in class function. <br><br>\n",
    "We are running these functions on a dataset with approximately $1700$ entries, so it seems that our training is running in multiplicatively $O(n)$ more than scikit-learn's training. At a small scale, this can be inconvenient or annoying, but it is not much of a problem.  However, if we wished to scale this application for our business use cases, we would have to take the big $O$ more seriously, and consider ways of decreasing our time, or simply using scikit-learn and its superior time, to train the model.  <br><br>\n",
    "\n",
    "For our use case this differentiation in speed would be unacceptable. In 2016 some 72 million cars were produced. If we were to extend these model to all of the vehicles in the past 10 years we would easily have over 700 million data points. Even if we were to be generous and assume a linear training relationship, 700 million datapoints would take sklearn an hour and our classifier 200 hours. In a fast paced and competitive industry those 200 hours is over a week of time (5 weeks of working hours) and can be extended if any mishap were to occour. It would not be reasonable for a company to implement our model when they have the availibility to use sklearn instead. Aditionally, many of the large auto manufacturers do not have large tech teams, and thus it would not make sense for them to implement a system that they will have to offer support for. Their core business is auto-selling, and by using sci-kit learn they do not need to focus on technichal issues and can focus on their bsuiness. [[1]](#footnote1)\n",
    "\n",
    "\n",
    "One thing to note is that the big $O$ is only so much larger for the training- once one has completed the training, neither implementation is too far from the other in terms of runtime. If one is willing to train a model once regardless of time, and cares more about each classification use thereafter, there is less of an issue in choosing between scikit-learn and our implementation. However, one must take into account that it is still possible that classification runs significantly slower at larger values of $n$, we may be deceived by its relative runtime with such a small sample.  In order to avoid the aforementioned potential issue, similarly to training time we would consider either ways of decreasing our big $O$, or simply using scikit-learn.\n",
    "\n",
    "### References\n",
    "&nbsp;<a name=\"footnote1\">1</a>: https://www.statista.com/statistics/262747/worldwide-automobile-production-since-2000/ <br>\n"
   ]
  },
  {
   "cell_type": "markdown",
   "metadata": {},
   "source": [
    "# One-versus-one Classification"
   ]
  },
  {
   "cell_type": "code",
   "execution_count": 14,
   "metadata": {
    "collapsed": true
   },
   "outputs": [],
   "source": [
    "from scipy import stats \n",
    "class MultiClassLogisticRegressionOneVersus:\n",
    "    def __init__(self, eta, iterations=20, C=0.0001, optimize_func='steepest', versus='all'):\n",
    "        self.eta = eta\n",
    "        self.iters = iterations\n",
    "        self.C = C\n",
    "        self.classifiers_ = []\n",
    "        self.optimize_func = optimize_func\n",
    "        self.versus = versus\n",
    "        # internally we will store the weights as self.w_ to keep with sklearn conventions\n",
    "    \n",
    "    def __str__(self):\n",
    "        if(hasattr(self,'w_')):\n",
    "            return 'MultiClass Logistic Regression Object with coefficients:\\n'+ str(self.w_) # is we have trained the object\n",
    "        else:\n",
    "            return 'Untrained MultiClass Logistic Regression Object'\n",
    "        \n",
    "    def fit(self,X,y):\n",
    "        num_samples, num_features = X.shape\n",
    "        self.unique_ = np.sort(np.unique(y)) # get each unique class value\n",
    "        num_unique_classes = len(self.unique_)\n",
    "        self.classifiers_ = []\n",
    "        if self.versus == 'all':\n",
    "            for i,yval in enumerate(self.unique_): # for each unique value\n",
    "                y_binary = (y==yval).astype(np.int) # create a binary problem\n",
    "                # train the binary classifier for this class\n",
    "                if self.optimize_func == 'stochastic':\n",
    "                     hblr = StochasticLogisticRegression(self.eta,self.iters,self.C)\n",
    "                elif self.optimize_func == 'steepest':\n",
    "                    hblr = BinaryLogisticRegression(self.eta,self.iters,self.C)\n",
    "                elif self.optimize_func == 'newton':\n",
    "                    hblr = NewtonLogisticRegression(self.eta,self.iters,self.C)\n",
    "                hblr.fit(X,y_binary)\n",
    "                # add the trained classifier to the list\n",
    "                self.classifiers_.append(hblr)\n",
    "\n",
    "            # save all the weights into one matrix, separate column for each class\n",
    "            self.w_ = np.hstack([x.w_ for x in self.classifiers_]).T\n",
    "        elif self.versus == 'one':\n",
    "            self.one_vals_ = []\n",
    "            for j in range(num_unique_classes): # for each unique value\n",
    "                for i in range(j):\n",
    "                    y_binary = np.concatenate((y[np.array(np.where(y==j))][0],y[np.array(np.where(y==i))][0])) # create a binary problem\n",
    "                    class_X = np.concatenate((X[np.array(np.where(y==j))][0],X[np.array(np.where(y==i))][0]))\n",
    "                    # train the binary classifier for this class\n",
    "                    if self.optimize_func == 'stochastic':\n",
    "                         hblr = StochasticLogisticRegression(self.eta,self.iters,self.C)\n",
    "                    elif self.optimize_func == 'steepest':\n",
    "                        hblr = BinaryLogisticRegression(self.eta,self.iters,self.C)\n",
    "                    elif self.optimize_func == 'newton':\n",
    "                        hblr = NewtonLogisticRegression(self.eta,self.iters,self.C)\n",
    "                    hblr.fit(class_X,y_binary)\n",
    "                    # add the trained classifier to the list\n",
    "                    self.classifiers_.append(hblr)\n",
    "                    self.one_vals_.append([i,j])\n",
    "            self.w_ = np.hstack([x.w_ for x in self.classifiers_]).T\n",
    "        \n",
    "    def predict_proba(self,X):\n",
    "        probs = []\n",
    "        for hblr in self.classifiers_:\n",
    "            probs.append(hblr.predict_proba(X).reshape((len(X),1))) # get probability for each classifier\n",
    "        if self.versus == 'all':\n",
    "            return np.hstack(probs) # make into single matrix\n",
    "        elif self.versus == 'one':\n",
    "            voted_probs = []\n",
    "            t_probs = []\n",
    "            for i in range(len(probs[0])):\n",
    "                for j in range(len(probs)):\n",
    "                    t_probs.append(self.one_vals_[j][np.asscalar(np.int16(np.rint(probs[j][i])[0]))])\n",
    "                voted_probs.append(scipy.stats.mode(t_probs)[0][0])\n",
    "                t_probs = []\n",
    "            return(voted_probs)\n",
    "            \n",
    "    \n",
    "    def predict(self,X):\n",
    "        if self.versus == 'all':\n",
    "            return np.argmax(self.predict_proba(X),axis=1) # take argmax along row\n",
    "        elif self.versus == 'one':\n",
    "            return self.predict_proba(X)"
   ]
  },
  {
   "cell_type": "code",
   "execution_count": 15,
   "metadata": {},
   "outputs": [
    {
     "name": "stdout",
     "output_type": "stream",
     "text": [
      "MultiClass Logistic Regression Object with coefficients:\n",
      "[[-1.56414912e-04 -1.63055565e-05 -1.46714784e-05  5.91201078e-06\n",
      "   3.74085931e-05  1.55131505e-05  6.06043719e-05]\n",
      " [-1.24903499e-04 -3.34785291e-05 -3.20214416e-05  5.40902785e-06\n",
      "   3.28191179e-05  1.20473102e-05  5.16425726e-05]\n",
      " [ 7.51728925e-04 -1.98432315e-04 -1.88959442e-04  1.74700439e-05\n",
      "   1.09676964e-05  7.29341105e-05  1.15147676e-04]\n",
      " [-1.95554486e-04 -4.59534924e-05 -3.30000096e-05  1.26506655e-05\n",
      "   5.03662651e-05  4.37647266e-05  1.00168798e-04]\n",
      " [ 1.99135288e-04 -3.63378111e-04 -2.92955554e-04  6.25548029e-05\n",
      "   4.22814373e-05  2.64832048e-04  5.23545355e-04]\n",
      " [-1.16866989e-03  1.76409599e-04  2.55827942e-04  2.79759545e-04\n",
      "   2.12462426e-04  1.21360579e-03  2.50750486e-03]]\n",
      "Accuracy of:  0.6672453703703703\n",
      "Wall time: 205 ms\n"
     ]
    }
   ],
   "source": [
    "%%time\n",
    "lr_ov = MultiClassLogisticRegressionOneVersus(0.1,iterations=1,C=0.00001,optimize_func='newton', versus='one')\n",
    "lr_ov.fit(X,y_not_binary)\n",
    "print(lr_ov)\n",
    "\n",
    "yhat_ov = lr_ov.predict(X)\n",
    "print('Accuracy of: ',accuracy_score(y_not_binary,yhat_ov))"
   ]
  },
  {
   "cell_type": "markdown",
   "metadata": {},
   "source": [
    "As an added analysis, we decided to implement a one-vs-one classifier in addition to the one-vs-many classifier implemented above. The one-vs-one classifier does not perform quite as well as the one-vs-many classifier; one-vs-one scores an accuracy of 66.7% using netwon's method, c=0.0001, 3 iterations, L1 and L2 normalization, and eta of 0.1. This is compared to a performance of 76.58% using the same parameters but one-vs-many classification."
   ]
  }
 ],
 "metadata": {
  "kernelspec": {
   "display_name": "Python 3",
   "language": "python",
   "name": "python3"
  },
  "language_info": {
   "codemirror_mode": {
    "name": "ipython",
    "version": 3
   },
   "file_extension": ".py",
   "mimetype": "text/x-python",
   "name": "python",
   "nbconvert_exporter": "python",
   "pygments_lexer": "ipython3",
   "version": "3.6.4"
  }
 },
 "nbformat": 4,
 "nbformat_minor": 2
}
