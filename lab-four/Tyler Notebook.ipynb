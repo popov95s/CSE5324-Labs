{
 "cells": [
  {
   "cell_type": "markdown",
   "metadata": {},
   "source": [
    "# Business Understanding"
   ]
  },
  {
   "cell_type": "markdown",
   "metadata": {},
   "source": [
    "## Overview \n",
    "The dataset we chose contains car evaluation data derived from a hierarchical decision model developed initially for a demonstration of a decision making model and can be found at [[1]](#footnote1). The authors The dataset contains 6 attributes related to either price or technical characteristics. The 7th attribute represents the estimated class of the car and is based on all other attributes. The dataset consists of 1728 entries and is stripped of structural attributes, which means all attributes are directly related to the estimated car class attribute. There are also three intermediate attributes – PRICE, TECH and COMFORT – which are related to the 6 main attributes. \n",
    "## Use case\n",
    "Choosing a vehicle to purchase can be a tedious process that involves hours of research, with studies showing American drivers spend an average of around 15 hours between realizing the need for a new car and making the purchase [[2]](#footnote2). 60% of this time is usually spent in online research of specifications and availability. Generally, although the most important attribute of a car is its ability to transport, the final decision is very often based on an amalgam of its price, safety and capacity. The main purpose for the collection of the dataset we chose was to “actively support the decision maker in the knowledge acquisition and evaluation stages of the decision making process” [[3]](#footnote3). \n",
    "## Prediction task\n",
    "The dataset uses a simple hierarchical model to classify cars in one of 4 categories: Unacceptable (unacc), Acceptable (acc), Good (good), Very Good (vgood). The criteria tree is displayed below. The goal of our prediction task is to correctly identify the class associated with the car based on the 6 attributes that are used in the evaluation model, without specifying the model structure itself. \n",
    "\n",
    "\n",
    "<img src='tree.png' label=\"Criteria tree\"/ height=500 width=500>\n",
    "This could be useful in many different scenarios, such as helping manufacturers determine whether or not a new car would be well accepted by the market. Even after years of research and development, some car manufacturers suffer big financial losses due to lack of proper competitor analysis in the market and target audience expectations [[4]](#footnote4). Thus, for our evaluation criteria on this dataset, we aim to maximize the number of correctly predicted car classes in the range unacceptable and very good, as described above. The higher the percentage, the more reliable and valuable our algorithm will be to said manufacturers upon releasing a new vehicle to the market. \n",
    "\n",
    "As a benchmark to compare our algorithm against, we consider how accurate car manufacturers are now about predicting how successful their newest model will be. Since the actual predictions a car company has for their models is not public information, we use a proxy to approximate the prediction accuracy: the percentage of cars on the market that are acceptable, good, or very good. We assume that the goal of a car company is to produce a car that is not unacceptable. Thus, the percentage of cars on the market that are unacceptable is similar to the prediction error that car manufacturers exhibit. In our data set, 70% of the cars are unacceptable. Thus, we estimate for the purposes of this exercise that car manufacturers have a 30% accuracy rate in predicting the acceptability of cars.\n",
    "\n",
    "\n",
    "The simplicity of the hierarchical decision model used in the training set could be a limitation to this performance and reliability, as we are only basing our results on the 6 attributes that are provided. A further drawback is the fact that all attributes are nominally assigned, which would fail to account for small differences of attribute values near the hard cutoff limits. \n",
    "\n",
    " \n",
    "\n",
    "### References\n",
    "&nbsp;<a name=\"footnote1\">1</a>: https://archive.ics.uci.edu/ml/datasets/Car+Evaluation <br>\n",
    "&nbsp;<a name=\"footnote2\">2</a>: https://www.elephant.com/blog/car-insurance/new-study-details-how-long-it-takes-before-car-shoppers-buy <br>\n",
    "&nbsp;<a name=\"footnote3\">3</a>: http://kt.ijs.si/MarkoBohanec/pub/Avignon88.pdf <br>\n",
    "&nbsp;<a name=\"footnote4\">4</a>: https://www.popularmechanics.com/cars/g1766/10-cars-that-deserved-to-fail/?slide=3 <br>\n",
    "\n"
   ]
  },
  {
   "cell_type": "markdown",
   "metadata": {},
   "source": [
    "# Data Preparation"
   ]
  },
  {
   "cell_type": "code",
   "execution_count": 595,
   "metadata": {
    "collapsed": false,
    "scrolled": false
   },
   "outputs": [
    {
     "name": "stdout",
     "output_type": "stream",
     "text": [
      "Percent of cars that are unacceptable: 0.7002314814814815\n",
      "4\n",
      "1382\n"
     ]
    }
   ],
   "source": [
    "#Imports\n",
    "#import s # Business Understandingcipy\n",
    "import scipy\n",
    "import time\n",
    "import numpy as np\n",
    "import pandas as pd\n",
    "import matplotlib.pyplot as plt\n",
    "from sklearn.metrics import accuracy_score, f1_score\n",
    "from scipy.special import expit\n",
    "from sklearn.model_selection import train_test_split, StratifiedKFold\n",
    "from sklearn import linear_model\n",
    "import warnings\n",
    "warnings.filterwarnings('ignore')\n",
    "\n",
    "\n",
    "df = pd.read_csv('car.data')\n",
    "buying_maint_map = {'vhigh':3,'high':2,'med':1,'low':0}\n",
    "df['buy_price'] = df['buy_price'].map(buying_maint_map).astype(np.int)\n",
    "df['maint_price'] = df['maint_price'].map(buying_maint_map).astype(np.int)\n",
    "doors_map = {'2':0,'3':1,'4':2,'5more':3}\n",
    "df['doors'] = df['doors'].map(doors_map).astype(np.int)\n",
    "persons_map = {'2':0,'3':1,'4':2,'more':3}\n",
    "df['persons'] = df['persons'].map(persons_map).astype(np.int)\n",
    "trunk_map = {'small':0,'med':1,'big':2}\n",
    "df['trunk_size'] = df['trunk_size'].map(trunk_map).astype(np.int)\n",
    "safety_map = {'low':0,'med':1,'high':2}\n",
    "df['safety'] = df['safety'].map(safety_map).astype(np.int)\n",
    "class_map = {'unacc':0,'acc':1,'good':2,'vgood':3}\n",
    "df['class'] = df['class'].map(class_map).astype(np.int)\n",
    "\n",
    "\n",
    "feature_cols = ['buy_price','maint_price','doors','persons','trunk_size','safety']\n",
    "class_cols = ['class']\n",
    "\n",
    "unacc_percent = len(df[df['class']==0])/len(df['class'])\n",
    "print('Percent of cars that are unacceptable:',unacc_percent)\n",
    "\n",
    "#Make X a 2D numpy array\n",
    "X = df[feature_cols].as_matrix()\n",
    "#Make y a 1D numpy array\n",
    "y = (df[class_cols]==0).astype(np.int).values.ravel()\n",
    "y_not_binary = (df[class_cols]).astype(np.int).values.ravel()\n",
    "print(max(y_not_binary)+1)\n",
    "\n",
    "X_train, X_test, y_train, y_test = train_test_split(X, y_not_binary, test_size=0.2, shuffle=True)\n",
    "print(len(X_train))\n"
   ]
  },
  {
   "cell_type": "markdown",
   "metadata": {},
   "source": [
    "The only data processing/preparation we do is to convert the text categories such as 'vhigh', 'small', 'unacc', etc. into integer values. Since these classes are ordered, we use integers instead of one-hot encoding."
   ]
  },
  {
   "cell_type": "markdown",
   "metadata": {},
   "source": [
    "# Multi Layer Perceptron Modeling"
   ]
  },
  {
   "cell_type": "code",
   "execution_count": 745,
   "metadata": {
    "collapsed": false
   },
   "outputs": [],
   "source": [
    "# Example adapted from https://github.com/rasbt/python-machine-learning-book/blob/master/code/ch12/ch12.ipynb\n",
    "# Original Author: Sebastian Raschka\n",
    "\n",
    "# This is the optional book we use in the course, excellent intuitions and straightforward programming examples\n",
    "# please note, however, that this code has been manipulated to reflect our assumptions and notation.\n",
    "import numpy as np\n",
    "from scipy.special import expit\n",
    "import pandas as pd\n",
    "import sys\n",
    "\n",
    "# start with a simple base classifier, which can't be fit or predicted\n",
    "# it only has internal classes to be used by classes that will subclass it\n",
    "class NLayerPerceptron(object):\n",
    "    def __init__(self, n_hidden=30, n_hidden_layers=2,\n",
    "                 C=0.0, epochs=500, eta=0.001, random_state=None, \n",
    "                 cost_function='quadratic', activation_method='sigmoid'):\n",
    "        np.random.seed(random_state)\n",
    "        self.n_hidden = n_hidden\n",
    "        self.n_hidden_layers = n_hidden_layers\n",
    "        self.l2_C = C\n",
    "        self.epochs = epochs\n",
    "        self.eta = eta\n",
    "        self.cost_function = cost_function\n",
    "        self.activation_method = activation_method\n",
    "        \n",
    "    @staticmethod\n",
    "    def _encode_labels(y):\n",
    "        \"\"\"Encode labels into one-hot representation\"\"\"\n",
    "        onehot = pd.get_dummies(y).values.T\n",
    "            \n",
    "        return onehot\n",
    "\n",
    "    def _initialize_weights(self):\n",
    "        \"\"\"Initialize weights with small random numbers.\"\"\"\n",
    "        Ws = [None]*self.n_hidden_layers\n",
    "        for i in range(self.n_hidden_layers):\n",
    "            #if i!=self.n_hidden_layers-1:\n",
    "            if i==0:\n",
    "                Wi_num_elems = (self.n_features_ + 1)*self.n_hidden\n",
    "                Wi = np.random.uniform(-1.0, 1.0,size=Wi_num_elems)\n",
    "                Wi = Wi.reshape(self.n_hidden, self.n_features_ + 1)\n",
    "            elif i==self.n_hidden_layers-1:\n",
    "                Wi_num_elems = (self.n_hidden + 1)*self.n_output_\n",
    "                Wi = np.random.uniform(-1.0, 1.0,size=Wi_num_elems)\n",
    "                Wi = Wi.reshape(self.n_output_, self.n_hidden + 1)\n",
    "            else:\n",
    "                Wi_num_elems = (self.n_hidden + 1)*self.n_hidden\n",
    "                Wi = np.random.uniform(-1.0, 1.0,size=Wi_num_elems)\n",
    "                Wi = Wi.reshape(self.n_hidden, self.n_hidden + 1)\n",
    "            \n",
    "            Ws[i] = Wi\n",
    "        return Ws\n",
    "    \n",
    "    #used for relu\n",
    "    def _sigmoid(self,z):\n",
    "        return expit(z)\n",
    "    \n",
    "    def _activation(self,z):\n",
    "        if self.activation_method=='sigmoid':\n",
    "            return expit(z)\n",
    "        elif self.activation_method=='linear':\n",
    "            return z\n",
    "        elif self.activation_method=='relu':\n",
    "            return np.maximum(0,z.copy())\n",
    "        elif self.activation_method=='silu':\n",
    "            return z*expit(z)\n",
    "    \n",
    "    @staticmethod\n",
    "    def _add_bias_unit(X, how='column'):\n",
    "        \"\"\"Add bias unit (column or row of 1s) to array at index 0\"\"\"\n",
    "        if how == 'column':\n",
    "            ones = np.ones((X.shape[0], 1))\n",
    "            X_new = np.hstack((ones, X))\n",
    "        elif how == 'row':\n",
    "            ones = np.ones((1, X.shape[1]))\n",
    "            X_new = np.vstack((ones, X))\n",
    "        return X_new\n",
    "    \n",
    "    @staticmethod\n",
    "    def _L2_reg(lambda_, Ws):\n",
    "        \"\"\"Compute L2-regularization cost\"\"\"\n",
    "        # only compute for non-bias terms\n",
    "        meansquaresum = 0\n",
    "        for Wi in Ws:\n",
    "            meansquaresum += np.mean(Wi[:, 1:]**2)\n",
    "        return (lambda_/2.0) * np.sqrt(meansquaresum)\n",
    "    \n",
    "    def _cost(self,A3,Y_enc,Ws):\n",
    "        if self.cost_function=='quadratic':\n",
    "            return self._quad_cost(A3,Y_enc,Ws)\n",
    "        elif self.cost_function=='cross':\n",
    "            return self._cross_cost(A3,Y_enc,Ws)\n",
    "    \n",
    "    def _quad_cost(self,A3,Y_enc,Ws):\n",
    "        '''Get the objective function value'''\n",
    "        cost = np.mean((Y_enc-A3)**2)\n",
    "        L2_term = self._L2_reg(self.l2_C, Ws)\n",
    "        return cost + L2_term\n",
    "    \n",
    "    def _cross_cost(self,A3,Y_enc,Ws):\n",
    "        '''Get the objective function value'''\n",
    "        cost = -np.mean(np.nan_to_num((Y_enc*np.log(A3)+(1-Y_enc)*np.log(1-A3))))\n",
    "        L2_term = self._L2_reg(self.l2_C, Ws)\n",
    "        return cost + L2_term\n",
    "    \n",
    "    def _feedforward(self, X, Ws):\n",
    "        \"\"\"Compute feedforward step\n",
    "        \"\"\"\n",
    "        As = [None]*(self.n_hidden_layers+1)\n",
    "        Zs = [None]*self.n_hidden_layers\n",
    "        for i in range(len(As)):\n",
    "            if i==0:\n",
    "                As[0] = self._add_bias_unit(X, how='column')\n",
    "                As[0] = As[0].T\n",
    "            else:\n",
    "                Zs[i-1] = Ws[i-1] @ As[i-1]\n",
    "                if i!=len(As)-1:\n",
    "                    As[i] = self._activation(Zs[i-1])\n",
    "                    As[i] = self._add_bias_unit(As[i], how='row')\n",
    "                else:\n",
    "                    As[i] = self._sigmoid(Zs[i-1])\n",
    "\n",
    "        return As, Zs\n",
    "    \n",
    "    def _get_gradient(self, As, Zs, Y_enc, Ws):\n",
    "        if self.cost_function=='quadratic':\n",
    "            return self._quad_gradient(As,Zs,Y_enc,Ws)\n",
    "        elif self.cost_function=='cross':\n",
    "            return self._cross_gradient(As,Zs,Y_enc,Ws)\n",
    "        \n",
    "    \n",
    "    def _quad_gradient(self, As, Zs, Y_enc, Ws):\n",
    "        \"\"\" Compute gradient step using backpropagation.\n",
    "        \"\"\"\n",
    "        # vectorized backpropagation\n",
    "        Vs = [None]*self.n_hidden_layers\n",
    "        grads = [None]*self.n_hidden_layers\n",
    "        for i in range(self.n_hidden_layers,0,-1):\n",
    "            if i==self.n_hidden_layers:\n",
    "                Vs[i-1] = -2*(Y_enc-As[i])*As[i]*(1-As[i])\n",
    "                grads[i-1] = Vs[i-1] @ As[i-1].T\n",
    "            elif self.n_hidden_layers > 2 and i <= self.n_hidden_layers - 2 and i > 0:\n",
    "                if self.activation_method == 'sigmoid':\n",
    "                    Vs[i-1] = As[i]*(1-As[i])*(Ws[i].T @ Vs[i][1:,:])\n",
    "                elif self.activation_method == 'linear':\n",
    "                    Vs[i-1] = (Ws[i].T @ Vs[i][1:,:])\n",
    "                elif self.activation_method == 'relu':\n",
    "                    Vs[i-1] = Ws[i].T @ Vs[i][1:,:]\n",
    "                    Vs[i-1][Zs[i-1]<=0] = 0 \n",
    "#                 elif self.activation_method == 'silu':\n",
    "#                     temp = self._sigmoid(Zs[i])*((1-As[i]))\n",
    "#                     temp2= (As[i] + temp)\n",
    "#                     Vs[i-1] = Ws[i].T @ Vs[i][1:,:] * temp2\n",
    "                    \n",
    "                grads[i-1] = Vs[i-1][1:,:] @ As[i-1].T\n",
    "            else:\n",
    "                if self.activation_method == 'sigmoid':\n",
    "                    Vs[i-1] = As[i]*(1-As[i])*(Ws[i].T @ Vs[i])\n",
    "                elif self.activation_method == 'linear':\n",
    "                    Vs[i-1] = (Ws[i].T @ Vs[i])\n",
    "                elif self.activation_method == 'relu':\n",
    "                    Vs[i-1] = Ws[i].T @ Vs[i]\n",
    "                    Vs[i-1][Zs[i-1]<=0] = 0 \n",
    "#                 elif self.activation_method == 'silu':\n",
    "#                     temp = self._sigmoid(Zs[i])*((1-As[i]))\n",
    "#                     temp2 = (As[i] + temp)\n",
    "#                     Vs[i-1] = Ws[i].T @ Vs[i] * temp2\n",
    "                grads[i-1] = Vs[i-1][1:,:] @ As[i-1].T\n",
    "        \n",
    "        return grads\n",
    "\n",
    "    \n",
    "    def _cross_gradient(self, As, Zs, Y_enc, Ws):\n",
    "        \"\"\" Compute gradient step using backpropagation.\n",
    "        \"\"\"\n",
    "        \n",
    "        Vs = [None]*self.n_hidden_layers\n",
    "        grads = [None]*self.n_hidden_layers\n",
    "        for i in range(self.n_hidden_layers,0,-1):\n",
    "            if i==self.n_hidden_layers:\n",
    "                Vs[i-1] = As[i]-Y_enc\n",
    "                grads[i-1] = Vs[i-1] @ As[i-1].T\n",
    "            elif self.n_hidden_layers > 2 and i <= self.n_hidden_layers - 2 and i > 0:\n",
    "                if self.activation_method == 'sigmoid':\n",
    "                    Vs[i-1] = As[i]*(1-As[i])*(Ws[i].T @ Vs[i][1:,:])\n",
    "                elif self.activation_method == 'linear':\n",
    "                    Vs[i-1] = (Ws[i].T @ Vs[i][1:,:])\n",
    "                elif self.activation_method == 'relu':\n",
    "                    Vs[i-1] = Ws[i].T @ Vs[i][1:,:]\n",
    "                    Vs[i-1][Zs[i-1]<=0] = 0 \n",
    "#                 elif self.activation_method == 'silu':\n",
    "#                     Vs[i-1] = Ws[i].T @ Vs[i][1:,:] * (As[i] + (1-As[i])*self._sigmoid(Zs[i]))\n",
    "                grads[i-1] = Vs[i-1][1:,:] @ As[i-1].T\n",
    "            else:\n",
    "                if self.activation_method == 'sigmoid':\n",
    "                    Vs[i-1] = As[i]*(1-As[i])*(Ws[i].T @ Vs[i])\n",
    "                elif self.activation_method == 'linear':\n",
    "                    Vs[i-1] = (Ws[i].T @ Vs[i])\n",
    "                elif self.activation_method == 'relu':\n",
    "                    Vs[i-1] = Ws[i].T @ Vs[i]\n",
    "                    Vs[i-1][Zs[i-1]<=0] = 0 \n",
    "#                 elif self.activation_method == 'silu':\n",
    "#                     Vs[i-1] = Ws[i].T @ Vs[i] * (As[i] + (1-As[i])*self._sigmoid(Zs[i]))\n",
    "                grads[i-1] = Vs[i-1][1:,:] @ As[i-1].T\n",
    "        \n",
    "        return grads\n",
    "        \n",
    "    \n",
    "    def predict(self, X):\n",
    "        \"\"\"Predict class labels\"\"\"\n",
    "        As,_ = self._feedforward(X, self.Ws)\n",
    "        y_pred = np.argmax(As[-1], axis=0)\n",
    "        return y_pred\n",
    "\n",
    "    def fit(self, X, y, print_progress=False):\n",
    "        \"\"\" Learn weights from training data.\"\"\"\n",
    "        \n",
    "        X_data, y_data = X.copy(), y.copy()\n",
    "        Y_enc = self._encode_labels(y)\n",
    "        \n",
    "        # init weights and setup matrices\n",
    "        self.n_features_ = X_data.shape[1]\n",
    "        self.n_output_ = Y_enc.shape[0]\n",
    "        self.Ws = self._initialize_weights()\n",
    "        #gradients holds the gradients at each layer and iteration, but does not correctly separate them for some reason\n",
    "        gradients = [[]]*self.n_hidden_layers\n",
    "        self.cost_ = []\n",
    "        for i in range(self.epochs):\n",
    "\n",
    "            if print_progress>0 and (i+1)%print_progress==0:\n",
    "                sys.stderr.write('\\rEpoch: %d/%d' % (i+1, self.epochs))\n",
    "                sys.stderr.flush()\n",
    "\n",
    "            # feedforward all instances\n",
    "            As, Zs = self._feedforward(X_data,self.Ws)\n",
    "            \n",
    "            cost = self._cost(As[-1],Y_enc,self.Ws)\n",
    "            self.cost_.append(cost)\n",
    "\n",
    "            # compute gradient via backpropagation\n",
    "            grads = self._get_gradient(As=As, Zs=Zs, Y_enc=Y_enc,\n",
    "                                              Ws=self.Ws)\n",
    "            \n",
    "            for j in range(len(self.Ws)):\n",
    "                self.Ws[j] -= self.eta * grads[j]\n",
    "                #append to gradients array (does not correctly split, so needs extra work )\n",
    "                gradients[j].append(np.mean(grads[j]))\n",
    "        self.gradients_=[]\n",
    "        for i in range(self.n_hidden_layers):\n",
    "            self.gradients_.append(gradients[0][i:][::self.n_hidden_layers])\n",
    "                \n",
    "            \n",
    "\n",
    "        return self"
   ]
  },
  {
   "cell_type": "code",
   "execution_count": 790,
   "metadata": {
    "collapsed": false
   },
   "outputs": [],
   "source": [
    "params = dict(n_hidden=10, \n",
    "              n_hidden_layers=4,\n",
    "              C=0.1, # tradeoff L2 regularizer\n",
    "              epochs=500, # iterations\n",
    "              eta=0.001,  # learning rate\n",
    "              random_state=1,\n",
    "              cost_function='quadratic',\n",
    "              activation_method='relu')"
   ]
  },
  {
   "cell_type": "code",
   "execution_count": 791,
   "metadata": {
    "collapsed": false
   },
   "outputs": [
    {
     "name": "stderr",
     "output_type": "stream",
     "text": [
      "Epoch: 500/500"
     ]
    },
    {
     "name": "stdout",
     "output_type": "stream",
     "text": [
      "Test acc: 0.702312138728\n",
      "F1 acc:  0.630568963308\n",
      "Wall time: 1.08 s\n"
     ]
    }
   ],
   "source": [
    "%%time \n",
    "nn = NLayerPerceptron(**params)\n",
    "nn.fit(X_train, y_train, print_progress=10)\n",
    "yhat = nn.predict(X_test)\n",
    "print('Test acc:',accuracy_score(y_test,yhat))\n",
    "sample_weights = [1.5,1.0,2.0,2.5]\n",
    "weights = [sample_weights[x] for x in y_test ]\n",
    "print('F1 acc: ', f1_score(y_test,yhat,average='weighted', sample_weight=weights) )"
   ]
  },
  {
   "cell_type": "markdown",
   "metadata": {},
   "source": [
    "## Hyper-parameter tuning"
   ]
  },
  {
   "cell_type": "markdown",
   "metadata": {},
   "source": [
    "To tune the hyper-parameters of cost function, activation method and number of layers, we used our evaluation criteria of the F1 score with sample weights of [1.5,1.0,2.0,2.5] for each of the classes and the train_test_split that we found to do a better job than a Stratified KFold. The advantage of using a simple train_test_split is that it drives the number of models we need to build down by a factor of how many folds we decide to have in our KFold. The other parameters, such as neurons to train for each layer, C, number of iterations and learning rate were kept constant across this tuning. It is important to note that they could also have an effect on our performance, but due to the high number of models that needed to be trained already and the lack of high-end equipment, we decided to keep those constant."
   ]
  },
  {
   "cell_type": "code",
   "execution_count": 804,
   "metadata": {
    "collapsed": false
   },
   "outputs": [
    {
     "name": "stdout",
     "output_type": "stream",
     "text": [
      "Cost: quadratic | Activation: sigmoid | Layers: 2 | F1 Score: 0.889938274615 | Accuracy: 0.921965317919\n",
      "Cost: quadratic | Activation: sigmoid | Layers: 3 | F1 Score: 0.955292578755 | Accuracy: 0.945086705202\n",
      "Cost: quadratic | Activation: sigmoid | Layers: 4 | F1 Score: 0.877827627293 | Accuracy: 0.904624277457\n",
      "Cost: quadratic | Activation: sigmoid | Layers: 5 | F1 Score: 0.90544254349 | Accuracy: 0.921965317919\n",
      "Cost: quadratic | Activation: sigmoid | Layers: 6 | F1 Score: 0.884559422785 | Accuracy: 0.913294797688\n",
      "Cost: quadratic | Activation: sigmoid | Layers: 7 | F1 Score: 0.833543386575 | Accuracy: 0.893063583815\n",
      "Cost: quadratic | Activation: linear | Layers: 2 | F1 Score: 0.64214046272 | Accuracy: 0.705202312139\n",
      "Cost: quadratic | Activation: linear | Layers: 3 | F1 Score: 0.630568963308 | Accuracy: 0.702312138728\n",
      "Cost: quadratic | Activation: linear | Layers: 4 | F1 Score: 0.630568963308 | Accuracy: 0.702312138728\n",
      "Cost: quadratic | Activation: linear | Layers: 5 | F1 Score: 0.630568963308 | Accuracy: 0.702312138728\n",
      "Cost: quadratic | Activation: linear | Layers: 6 | F1 Score: 0.630568963308 | Accuracy: 0.702312138728\n",
      "Cost: quadratic | Activation: linear | Layers: 7 | F1 Score: 0.630568963308 | Accuracy: 0.702312138728\n",
      "Cost: quadratic | Activation: relu | Layers: 2 | F1 Score: 0.785569569008 | Accuracy: 0.760115606936\n",
      "Cost: quadratic | Activation: relu | Layers: 3 | F1 Score: 0.630568963308 | Accuracy: 0.702312138728\n",
      "Cost: quadratic | Activation: relu | Layers: 4 | F1 Score: 0.536977751328 | Accuracy: 0.476878612717\n",
      "Cost: quadratic | Activation: relu | Layers: 5 | F1 Score: 0.630568963308 | Accuracy: 0.702312138728\n",
      "Cost: quadratic | Activation: relu | Layers: 6 | F1 Score: 0.630568963308 | Accuracy: 0.702312138728\n",
      "Cost: quadratic | Activation: relu | Layers: 7 | F1 Score: 0.00399985778283 | Accuracy: 0.0260115606936\n",
      "Cost: cross | Activation: sigmoid | Layers: 2 | F1 Score: 0.952554307042 | Accuracy: 0.947976878613\n",
      "Cost: cross | Activation: sigmoid | Layers: 3 | F1 Score: 0.964770093822 | Accuracy: 0.956647398844\n",
      "Cost: cross | Activation: sigmoid | Layers: 4 | F1 Score: 0.950373846258 | Accuracy: 0.947976878613\n",
      "Cost: cross | Activation: sigmoid | Layers: 5 | F1 Score: 0.952197959881 | Accuracy: 0.947976878613\n",
      "Cost: cross | Activation: sigmoid | Layers: 6 | F1 Score: 0.93300552162 | Accuracy: 0.939306358382\n",
      "Cost: cross | Activation: sigmoid | Layers: 7 | F1 Score: 0.914760715205 | Accuracy: 0.933526011561\n",
      "Cost: cross | Activation: linear | Layers: 2 | F1 Score: 0.630568963308 | Accuracy: 0.702312138728\n",
      "Cost: cross | Activation: linear | Layers: 3 | F1 Score: 0.630568963308 | Accuracy: 0.702312138728\n",
      "Cost: cross | Activation: linear | Layers: 4 | F1 Score: 0.630568963308 | Accuracy: 0.702312138728\n",
      "Cost: cross | Activation: linear | Layers: 5 | F1 Score: 0.630568963308 | Accuracy: 0.702312138728\n",
      "Cost: cross | Activation: linear | Layers: 6 | F1 Score: 0.630568963308 | Accuracy: 0.702312138728\n",
      "Cost: cross | Activation: linear | Layers: 7 | F1 Score: 0.630568963308 | Accuracy: 0.702312138728\n",
      "Cost: cross | Activation: relu | Layers: 2 | F1 Score: 0.653670159211 | Accuracy: 0.664739884393\n",
      "Cost: cross | Activation: relu | Layers: 3 | F1 Score: 0.630568963308 | Accuracy: 0.702312138728\n",
      "Cost: cross | Activation: relu | Layers: 4 | F1 Score: 0.630568963308 | Accuracy: 0.702312138728\n",
      "Cost: cross | Activation: relu | Layers: 5 | F1 Score: 0.630568963308 | Accuracy: 0.702312138728\n",
      "Cost: cross | Activation: relu | Layers: 6 | F1 Score: 0.630568963308 | Accuracy: 0.702312138728\n",
      "Cost: cross | Activation: relu | Layers: 7 | F1 Score: 0.630568963308 | Accuracy: 0.702312138728\n"
     ]
    }
   ],
   "source": [
    "cost_functions = ['quadratic', 'cross']\n",
    "activation_functions = ['sigmoid','linear', 'relu']\n",
    "num_hidden_layers= [x for x in range(2,8)]\n",
    "skf = StratifiedKFold(n_splits=10)\n",
    "results = []\n",
    "for cost in cost_functions:\n",
    "    for activation in activation_functions:\n",
    "        for num in num_hidden_layers:\n",
    "            params = dict(n_hidden=30, \n",
    "              n_hidden_layers=num,\n",
    "              C=0.1, # tradeoff L2 regularizer\n",
    "              epochs=500, # iterations\n",
    "              eta=0.001,  # learning rate\n",
    "              random_state=1,\n",
    "              cost_function=cost,\n",
    "              activation_method=activation)\n",
    "            nn = NLayerPerceptron(**params)\n",
    "            nn.fit(X_train, y_train)\n",
    "            yhat = nn.predict(X_test)\n",
    "            f1score = f1_score(y_test,yhat,average='weighted', sample_weight=weights)\n",
    "            acc = accuracy_score(y_test,yhat)\n",
    "            print(\"Cost:\", cost, \"| Activation:\", activation, \"| Layers:\", num, \"| F1 Score:\", f1score, \"| Accuracy:\", acc )\n",
    "            results.append({'cost':cost, 'activation':activation, 'layers':num, 'f1_score':f1score, 'accuracy':acc})"
   ]
  },
  {
   "cell_type": "code",
   "execution_count": 805,
   "metadata": {
    "collapsed": false,
    "scrolled": false
   },
   "outputs": [
    {
     "data": {
      "text/plain": [
       "<matplotlib.axes._subplots.AxesSubplot at 0x14f81029b38>"
      ]
     },
     "execution_count": 805,
     "metadata": {},
     "output_type": "execute_result"
    },
    {
     "data": {
      "image/png": "[encoded data removed]",
      "text/plain": [
       "<matplotlib.figure.Figure at 0x14f83884e80>"
      ]
     },
     "metadata": {},
     "output_type": "display_data"
    }
   ],
   "source": [
    "import seaborn as sns\n",
    "%matplotlib inline\n",
    "df = pd.DataFrame(results)\n",
    "df['f1_score']= df['f1_score'].astype(np.float64)\n",
    "df['cost_activation']=df['cost'] + \" \"+ df['activation'] \n",
    "sns.swarmplot(data=df, y='f1_score',x='layers', hue='cost_activation')"
   ]
  },
  {
   "cell_type": "markdown",
   "metadata": {},
   "source": [
    "We can see from the graph above that the sigmoid activation function performs significantly better than all other activation functions for our dataset. We can also notice that adding more hidden layers does not improve our performance. In general the cross entropy cost function yields better results for a sigmoid activation function ,while the same is not necessarily true for ReLu at lower number of layers. As the number of layers grows, the accuracy of ReLu or Linear activation does not seem to be affected. Since the functions are very similar for their values over 0, we can assume that the majority of values generated do not go under 0 for more than 3 layers, since the performance is nearly identical for both cost functions with those activation methods. The best model to use out of the 36 tested appears to be between Quadratic Sigmoid with 3 layers and Cross Sigmoid with 3 layers. Due to the fact that for all other layers the sigmoid activation performs much better with a cross entropy cost function, compared to the quadratic cost function, we can conclude it is better fit for our data. Thus, we can conclude that a Cross Sigmoid with 3 layers is the best combination of hyper-parameters to use."
   ]
  },
  {
   "cell_type": "markdown",
   "metadata": {},
   "source": [
    "## Gradient magnitude visualization"
   ]
  },
  {
   "cell_type": "code",
   "execution_count": 818,
   "metadata": {
    "collapsed": true
   },
   "outputs": [],
   "source": [
    "params = dict(n_hidden=30, \n",
    "              n_hidden_layers=3,\n",
    "              C=0.1, # tradeoff L2 regularizer\n",
    "              epochs=500, # iterations\n",
    "              eta=0.001,  # learning rate\n",
    "              random_state=1,\n",
    "              cost_function='cross',\n",
    "              activation_method='sigmoid')"
   ]
  },
  {
   "cell_type": "code",
   "execution_count": 819,
   "metadata": {
    "collapsed": false
   },
   "outputs": [
    {
     "name": "stderr",
     "output_type": "stream",
     "text": [
      "Epoch: 500/500"
     ]
    },
    {
     "name": "stdout",
     "output_type": "stream",
     "text": [
      "Test acc: 0.956647398844\n",
      "F1 acc:  0.964770093822\n",
      "Wall time: 1.65 s\n"
     ]
    }
   ],
   "source": [
    "%%time \n",
    "nn = NLayerPerceptron(**params)\n",
    "nn.fit(X_train, y_train, print_progress=10)\n",
    "yhat = nn.predict(X_test)\n",
    "print('Test acc:',accuracy_score(y_test,yhat))\n",
    "sample_weights = [1.5,1.0,2.0,2.5]\n",
    "weights = [sample_weights[x] for x in y_test ]\n",
    "print('F1 acc: ', f1_score(y_test,yhat,average='weighted', sample_weight=weights) )"
   ]
  },
  {
   "cell_type": "code",
   "execution_count": 820,
   "metadata": {
    "collapsed": false
   },
   "outputs": [
    {
     "data": {
      "image/png": "[encoded data removed]",
      "text/plain": [
       "<matplotlib.figure.Figure at 0x14f80b03ef0>"
      ]
     },
     "metadata": {},
     "output_type": "display_data"
    }
   ],
   "source": [
    "ax = plt.subplot(1,1,1)\n",
    "for i in range(0,params['n_hidden_layers']):\n",
    "#     print(nn.gradients_[i])\n",
    "    plt.plot(np.abs(nn.gradients_[i]), label='w' + str(i) )\n",
    "plt.legend()\n",
    "plt.ylabel('Average gradient magnitude')\n",
    "plt.xlabel('Iteration')\n",
    "plt.show()"
   ]
  },
  {
   "cell_type": "markdown",
   "metadata": {},
   "source": [
    "The above plot shows the average magnitutde of the gradients against the training iteration for our best performing model using 3 hidden layers, the cross entropy cost function and the sigmoid activation function. With these hyper-parameters, we can see that the gradients in the outer layer (w2) converge very fast to 0, and we can see that after the 100th iteration, the gradients in all 3 layers are very close to one another in terms of mean value. The gradients seem to stay fairly consistent and the plot does not contain any value spikes."
   ]
  },
  {
   "cell_type": "code",
   "execution_count": null,
   "metadata": {
    "collapsed": true
   },
   "outputs": [],
   "source": []
  }
 ],
 "metadata": {
  "anaconda-cloud": {},
  "kernelspec": {
   "display_name": "Python 3",
   "language": "python",
   "name": "python3"
  },
  "language_info": {
   "codemirror_mode": {
    "name": "ipython",
    "version": 3
   },
   "file_extension": ".py",
   "mimetype": "text/x-python",
   "name": "python",
   "nbconvert_exporter": "python",
   "pygments_lexer": "ipython3",
   "version": "3.6.0"
  }
 },
 "nbformat": 4,
 "nbformat_minor": 2
}
