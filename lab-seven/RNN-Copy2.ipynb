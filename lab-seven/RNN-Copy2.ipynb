{
 "cells": [
  {
   "cell_type": "markdown",
   "metadata": {},
   "source": [
    "### Overview\n",
    "\n",
    "The dataset we will be using is a collection of amazon reviews for instant video products found at http://jmcauley.ucsd.edu/data/amazon/. Our set includes the reviews’ product, reviewer, text review, rating, helpfulness/unhelpfulness, and other metadata. The specific dataset we are using is a “5-core” dataset meaning that it includes only products and reviewers that have more than 5 reviews on amazon. This means that each product in this dataset has at least 5 reviews and that each reviewer in this dataset has posted at least 5 reviews for this category. The set includes over 37,000 reviews. \n",
    "\n",
    "### Purpose\n",
    "\n",
    "This data was originally collected by Amazon as consumers browsed, bought, and reviewed products. This data is necessary for amazon to be able to display the reviews on each product. The specific dataset we are using is UCSD’s collection that has been structured by two researchers (Julian McAuley, Alex Yang) to understand why and what reviews are helpful to consumers when it comes to purchasing an object. They outline their findings with this data in the following paper: http://cseweb.ucsd.edu/~jmcauley/pdfs/www16b.pdf\n",
    "\n",
    "### Prediction Task\n",
    "\n",
    "Reviews have become increasingly crucial in consumer purchase decisions. As discussed in a BrightLocal study, 88% of consumers incorporate reviews into their purchase decisions. This finding for most consumers is obvious. A less obvious finding is that although customers are relying more on review data, they are reading less of them. It was found that by reading up to six reviews 73% of consumers formed an opinion as opposed to 64% in 2014. Moreover, it was found that by reading just one to three reviews 40% of consumers formed an opinion as opposed to 29% in 2014. \n",
    "\n",
    "Due to the importance of consumer reviews, online marketplaces such as Amazon are interested in learning which products are the most well-reviewed, and businesses are interested in analyzing consumer sentiment about their products. Thus, our goal is predicting the star rating (on a scale of 1 to 5) that a particular user gave a product based on the text of their review.\n",
    "\n",
    "The application of this system is that, given a system that can match an Amazon review to a star value, we could apply this system to other forms of text reviews that do not include a star review, such as tweets or (short) blog posts. This would allow companies to get a fuller picture of their star rating, rather than just Amazon product reviews.\n",
    "\n",
    "### Evaluation Metric\n",
    "\n",
    "Our data is heavily class imbalanced. We have 5 categories of rating, and a score of 5 (the highest) happens 56% of the time, whereas a score of 1 (the lowest) happens only 4.6% of the time. We feel that it is important for online marketplaces and businesses making products to get a full understanding of negative reviews as well as positive reviews; metrics that do not account for class imbalance will make product reviews look much more positive than they actually are. As a consequence, we decide to use weighted F1 score as our evaluation metric. Weighted F1 score accounts for class imbalance in the categories, suiting our business case better than other metrics. Further, both precision and recall are important to our task. \n",
    "\n",
    "Precision is important because mislabeled reviews can give an incorrect picture of an individual reviewer's sentiment; perhaps a business will want to examine more closely all reviews with a 1 star score, for example, and send an email to each of these customers that attempts to resolve their issues. If our system incorrectly labels a review as 1 star when it is really more than 1 star, the business will waste time emailing this customer when they don't need to be emailed.\n",
    "\n",
    "Recall is important because it represents completeness; how well did we represent the sentiment of users as a whole? If a company is interested in using our results to compute an overall star score, for example, the recall score is very important because it details if that score is representative of what users actually think or not.\n",
    "\n",
    "### Train/Test Split\n",
    "\n",
    "Because we do not have an especially large dataset, we will use stratified 10-fold cross validation to split our training and testing data. This fits with our proposed use case because the business using our services would want to train on an existing dataset (such as our Amazon review dataset) and apply the model to a different, but related, dataset (such as comments on the company's webpage or tweets at the company). There is not a time series aspect in our data to worry about either.\n",
    "\n",
    "We will stratify the folds in our cross validation. Our reasoning behind this decision is that stratification mirrors the real use case for our system. The reason why there is a large class imbalance is likely motivated by the psychology of why people post reviews; it is unlikely that the bias towards positive reviews seen in our dataset is unique to our dataset. Rather, we would expect that an analysis of other datasets would reveal the same positive bias. Therefore, this class imbalance is something we want to preserve; lack of stratification would skew this class imbalance.\n",
    "\n",
    "### Sources\n",
    "BrightLocal, Business2community, Bazaarvoice, webrepublic, reprevive, Econsultancy,business2community,Reevoo and Social Media Today:\n",
    "\n",
    "https://www.vendasta.com/blog/50-stats-you-need-to-know-about-online-reviews\n",
    "\n",
    "Forbes: \n",
    "\n",
    "https://www.forbes.com/sites/jaysondemers/2015/12/28/how-important-are-customer-reviews-for-online-marketing/#276bfb421928\n",
    "\n",
    "UCSD:\n",
    "\n",
    "http://jmcauley.ucsd.edu/data/amazon/\n",
    "\n",
    "http://cseweb.ucsd.edu/~jmcauley/pdfs/www16b.pdf\n",
    "\n",
    "\n"
   ]
  },
  {
   "cell_type": "markdown",
   "metadata": {},
   "source": [
    "## 2. Data Processing\n",
    "In this section we will prepare the dataset."
   ]
  },
  {
   "cell_type": "code",
   "execution_count": 17,
   "metadata": {},
   "outputs": [
    {
     "name": "stdout",
     "output_type": "stream",
     "text": [
      "Once deleted, variables cannot be recovered. Proceed (y/[n])? y\n"
     ]
    }
   ],
   "source": [
    "#Get rid of memory cached by jupyter notebook\n",
    "%reset"
   ]
  },
  {
   "cell_type": "code",
   "execution_count": 1,
   "metadata": {},
   "outputs": [
    {
     "name": "stdout",
     "output_type": "stream",
     "text": [
      "3.5.2 (default, Mar 30 2017, 20:11:21) \n",
      "[GCC 5.4.0]\n",
      "1.14.2\n",
      "<class 'pandas.core.frame.DataFrame'>\n",
      "Int64Index: 37126 entries, 0 to 37125\n",
      "Data columns (total 9 columns):\n",
      "asin              37126 non-null object\n",
      "helpful           37126 non-null object\n",
      "overall           37126 non-null int64\n",
      "reviewText        37126 non-null object\n",
      "reviewTime        37126 non-null object\n",
      "reviewerID        37126 non-null object\n",
      "reviewerName      36797 non-null object\n",
      "summary           37126 non-null object\n",
      "unixReviewTime    37126 non-null int64\n",
      "dtypes: int64(2), object(7)\n",
      "memory usage: 2.8+ MB\n"
     ]
    }
   ],
   "source": [
    "#Imports\n",
    "import sys\n",
    "import numpy as np\n",
    "import pandas as pd\n",
    "import scipy\n",
    "\n",
    "print(sys.version)\n",
    "print(np.__version__)\n",
    "\n",
    "\n",
    "#load dataset\n",
    "dataframe = pd.read_json('review_Amazon_Instant_Video_5.json',lines=True)\n",
    "dataframe.info()"
   ]
  },
  {
   "cell_type": "code",
   "execution_count": 2,
   "metadata": {},
   "outputs": [],
   "source": [
    "#extract information for number of reviews by each reviewer\n",
    "reviewer_ids = list(dataframe['reviewerID'])\n",
    "authorToNumReviews = {user_id:reviewer_ids.count(user_id) for user_id in set(reviewer_ids)}\n",
    "dataframe['reviewLength'] = [len(text) for text in dataframe['reviewText']]\n",
    "dataframe['reviewerNumberReviews'] = [authorToNumReviews[author] for author in dataframe['reviewerID']]\n",
    "\n",
    "#extract additional columns for analysis\n",
    "helpful_count = []\n",
    "unhelpful_count = []\n",
    "helpful_ratio = []\n",
    "for (h,total) in dataframe['helpful']:\n",
    "    helpful_count.append(h)\n",
    "    unhelpful_count.append(total-h)\n",
    "    if total == 0:\n",
    "        helpful_ratio.append(None)\n",
    "    else:\n",
    "        helpful_ratio.append(h/(total))\n",
    "dataframe['numberUnhelpful'] = unhelpful_count\n",
    "dataframe['numberHelpful'] = helpful_count\n",
    "dataframe['helpfulRatio'] = helpful_ratio"
   ]
  },
  {
   "cell_type": "code",
   "execution_count": 3,
   "metadata": {},
   "outputs": [
    {
     "name": "stdout",
     "output_type": "stream",
     "text": [
      "Number of reviews: 37126\n",
      "Number of 5 star reviews: 20890\n",
      "Number of 1 star reviews: 1718\n"
     ]
    }
   ],
   "source": [
    "print('Number of reviews:',len(dataframe.overall))\n",
    "print('Number of 5 star reviews:',sum(dataframe.overall==5))\n",
    "print('Number of 1 star reviews:',sum(dataframe.overall==1))"
   ]
  },
  {
   "cell_type": "markdown",
   "metadata": {},
   "source": [
    "From this analysis we verify that the review score is heavily class imbalanced."
   ]
  },
  {
   "cell_type": "markdown",
   "metadata": {},
   "source": [
    "### 2.1. Data types\n",
    "The features of this dataset are as follows :\n",
    "+ asin - ID of the product - Nominal\n",
    "+ helpful - A tuple containing the number of people that thought the review was helpful or unhelpful - Both ordinal, stored as integers\n",
    "+ overall - The overall rating that a product received. Ordinal, stored as integer\n",
    "+ reviewText - The full text of the review - Bag of words\n",
    "+ reviewTime - The timestamp of the review - Interval\n",
    "+ reviewerID - The ID of the reviewer - Nominal\n",
    "+ reviewerName - The name of the reviewer - Nominal\n",
    "+ summary - A summary of the review  - Bag of words\n",
    "+ unixReviewTime - The UNIX timestamp of the review - Interval\n",
    "   "
   ]
  },
  {
   "cell_type": "markdown",
   "metadata": {},
   "source": [
    "### 2.2. Data quality\n",
    "\n",
    "We analyze the general dataframe at hand to get a better understanding of the overall data quality."
   ]
  },
  {
   "cell_type": "code",
   "execution_count": 99,
   "metadata": {},
   "outputs": [
    {
     "data": {
      "text/plain": [
       "24095"
      ]
     },
     "execution_count": 99,
     "metadata": {},
     "output_type": "execute_result"
    }
   ],
   "source": [
    "#Number of null_data in any of the columns. \n",
    "null_data = dataframe[dataframe.isnull().any(axis=1)]\n",
    "len(null_data)"
   ]
  },
  {
   "cell_type": "code",
   "execution_count": 100,
   "metadata": {},
   "outputs": [
    {
     "data": {
      "text/plain": [
       "0"
      ]
     },
     "execution_count": 100,
     "metadata": {},
     "output_type": "execute_result"
    }
   ],
   "source": [
    "#Print the number of duplicate entries in the dataset\n",
    "len(dataframe[dataframe.duplicated(['asin','reviewerID'],keep=False)])"
   ]
  },
  {
   "cell_type": "code",
   "execution_count": 101,
   "metadata": {},
   "outputs": [
    {
     "data": {
      "text/html": [
       "<div>\n",
       "<style scoped>\n",
       "    .dataframe tbody tr th:only-of-type {\n",
       "        vertical-align: middle;\n",
       "    }\n",
       "\n",
       "    .dataframe tbody tr th {\n",
       "        vertical-align: top;\n",
       "    }\n",
       "\n",
       "    .dataframe thead th {\n",
       "        text-align: right;\n",
       "    }\n",
       "</style>\n",
       "<table border=\"1\" class=\"dataframe\">\n",
       "  <thead>\n",
       "    <tr style=\"text-align: right;\">\n",
       "      <th></th>\n",
       "      <th>overall</th>\n",
       "      <th>unixReviewTime</th>\n",
       "      <th>reviewLength</th>\n",
       "      <th>reviewerNumberReviews</th>\n",
       "      <th>numberUnhelpful</th>\n",
       "      <th>numberHelpful</th>\n",
       "      <th>helpfulRatio</th>\n",
       "    </tr>\n",
       "  </thead>\n",
       "  <tbody>\n",
       "    <tr>\n",
       "      <th>count</th>\n",
       "      <td>37126.00000</td>\n",
       "      <td>3.712600e+04</td>\n",
       "      <td>37126.000000</td>\n",
       "      <td>37126.000000</td>\n",
       "      <td>37126.000000</td>\n",
       "      <td>37126.000000</td>\n",
       "      <td>13133.000000</td>\n",
       "    </tr>\n",
       "    <tr>\n",
       "      <th>mean</th>\n",
       "      <td>4.20953</td>\n",
       "      <td>1.376795e+09</td>\n",
       "      <td>515.292033</td>\n",
       "      <td>10.667026</td>\n",
       "      <td>0.725475</td>\n",
       "      <td>1.293541</td>\n",
       "      <td>0.574588</td>\n",
       "    </tr>\n",
       "    <tr>\n",
       "      <th>std</th>\n",
       "      <td>1.11855</td>\n",
       "      <td>3.054958e+07</td>\n",
       "      <td>835.145610</td>\n",
       "      <td>13.346323</td>\n",
       "      <td>3.532468</td>\n",
       "      <td>8.301778</td>\n",
       "      <td>0.391384</td>\n",
       "    </tr>\n",
       "    <tr>\n",
       "      <th>min</th>\n",
       "      <td>1.00000</td>\n",
       "      <td>9.754560e+08</td>\n",
       "      <td>4.000000</td>\n",
       "      <td>5.000000</td>\n",
       "      <td>0.000000</td>\n",
       "      <td>0.000000</td>\n",
       "      <td>0.000000</td>\n",
       "    </tr>\n",
       "    <tr>\n",
       "      <th>25%</th>\n",
       "      <td>4.00000</td>\n",
       "      <td>1.367798e+09</td>\n",
       "      <td>145.000000</td>\n",
       "      <td>5.000000</td>\n",
       "      <td>0.000000</td>\n",
       "      <td>0.000000</td>\n",
       "      <td>0.200000</td>\n",
       "    </tr>\n",
       "    <tr>\n",
       "      <th>50%</th>\n",
       "      <td>5.00000</td>\n",
       "      <td>1.384992e+09</td>\n",
       "      <td>232.000000</td>\n",
       "      <td>7.000000</td>\n",
       "      <td>0.000000</td>\n",
       "      <td>0.000000</td>\n",
       "      <td>0.666667</td>\n",
       "    </tr>\n",
       "    <tr>\n",
       "      <th>75%</th>\n",
       "      <td>5.00000</td>\n",
       "      <td>1.394150e+09</td>\n",
       "      <td>484.000000</td>\n",
       "      <td>10.000000</td>\n",
       "      <td>0.000000</td>\n",
       "      <td>1.000000</td>\n",
       "      <td>1.000000</td>\n",
       "    </tr>\n",
       "    <tr>\n",
       "      <th>max</th>\n",
       "      <td>5.00000</td>\n",
       "      <td>1.406074e+09</td>\n",
       "      <td>18152.000000</td>\n",
       "      <td>123.000000</td>\n",
       "      <td>214.000000</td>\n",
       "      <td>484.000000</td>\n",
       "      <td>1.000000</td>\n",
       "    </tr>\n",
       "  </tbody>\n",
       "</table>\n",
       "</div>"
      ],
      "text/plain": [
       "           overall  unixReviewTime  reviewLength  reviewerNumberReviews  \\\n",
       "count  37126.00000    3.712600e+04  37126.000000           37126.000000   \n",
       "mean       4.20953    1.376795e+09    515.292033              10.667026   \n",
       "std        1.11855    3.054958e+07    835.145610              13.346323   \n",
       "min        1.00000    9.754560e+08      4.000000               5.000000   \n",
       "25%        4.00000    1.367798e+09    145.000000               5.000000   \n",
       "50%        5.00000    1.384992e+09    232.000000               7.000000   \n",
       "75%        5.00000    1.394150e+09    484.000000              10.000000   \n",
       "max        5.00000    1.406074e+09  18152.000000             123.000000   \n",
       "\n",
       "       numberUnhelpful  numberHelpful  helpfulRatio  \n",
       "count     37126.000000   37126.000000  13133.000000  \n",
       "mean          0.725475       1.293541      0.574588  \n",
       "std           3.532468       8.301778      0.391384  \n",
       "min           0.000000       0.000000      0.000000  \n",
       "25%           0.000000       0.000000      0.200000  \n",
       "50%           0.000000       0.000000      0.666667  \n",
       "75%           0.000000       1.000000      1.000000  \n",
       "max         214.000000     484.000000      1.000000  "
      ]
     },
     "execution_count": 101,
     "metadata": {},
     "output_type": "execute_result"
    }
   ],
   "source": [
    "#More information about the dataset\n",
    "dataframe.describe()"
   ]
  },
  {
   "cell_type": "markdown",
   "metadata": {},
   "source": [
    "### 2.3. Tokenization and preprocessing"
   ]
  },
  {
   "cell_type": "code",
   "execution_count": 5,
   "metadata": {},
   "outputs": [
    {
     "name": "stderr",
     "output_type": "stream",
     "text": [
      "/users7/cse/spopov/CSE5324/CSE5324-Labs/ml/lib/python3.5/site-packages/h5py/__init__.py:36: FutureWarning: Conversion of the second argument of issubdtype from `float` to `np.floating` is deprecated. In future, it will be treated as `np.float64 == np.dtype(float).type`.\n",
      "  from ._conv import register_converters as _register_converters\n",
      "Using TensorFlow backend.\n"
     ]
    },
    {
     "name": "stdout",
     "output_type": "stream",
     "text": [
      "Found 21110 unique tokens. Distilled to 21110 top words.\n"
     ]
    }
   ],
   "source": [
    "import numpy as np\n",
    "import keras\n",
    "from keras.preprocessing import sequence\n",
    "from keras.preprocessing.text import text_to_word_sequence, Tokenizer\n",
    "from sklearn.model_selection import StratifiedKFold\n",
    "import nltk\n",
    "import string\n",
    "import re\n",
    "words = set(nltk.corpus.words.words())\n",
    "\n",
    "#use the nltk corpus of English words to filter special characters and non-English words\n",
    "def english_filter(passed_string):\n",
    "    passed_string = re.sub(r'[^\\w\\s]','',passed_string)\n",
    "    passed_string = re.sub(' +',' ',passed_string)\n",
    "    passed_string = ' '.join(y for y in passed_string.splitlines())\n",
    "    passed_string = passed_string.rstrip()\n",
    "    passed_string = passed_string.rstrip('\\n')\n",
    "    passed_string = \" \".join((w if w in words else \"\") for w in passed_string.split(' '))\n",
    "    passed_string = text_to_word_sequence(passed_string, filters='!\"#$%&()*+,-./:;<=>?@[\\]^_`{|}~', lower=True, split=' ')\n",
    "    return passed_string\n",
    "\n",
    "#divide attributes by ordinal and nominal, pasted from previous lab\n",
    "unneeded_attributes = ['unixReviewTime', 'helpful', 'reviewTime']\n",
    "ordinal_attributes = ['numberHelpful', 'numberUnhelpful', 'reviewLength', 'overall', 'reviewerNumberReviews']\n",
    "nominal_attributes = ['asin', 'reviewerID', 'reviewerName']\n",
    "\n",
    "for attr in unneeded_attributes:\n",
    "    if attr in dataframe:\n",
    "        del dataframe[attr]\n",
    "\n",
    "#set correct attribute type to overall rating \n",
    "dataframe[ordinal_attributes] = dataframe[ordinal_attributes].astype(np.int64)\n",
    "dataframe['reviewText'] = dataframe.apply(lambda row: english_filter(row['reviewText']), axis=1)\n",
    "\n",
    "#adapted from notebook 13- RNN Basics\n",
    "NUM_TOP_WORDS = None\n",
    "max_review_length = 200\n",
    "\n",
    "tokenizer = Tokenizer(num_words=NUM_TOP_WORDS)\n",
    "tokenizer.fit_on_texts(dataframe['reviewText'])\n",
    "\n",
    "X = tokenizer.texts_to_sequences(dataframe['reviewText'])\n",
    "X = sequence.pad_sequences(X, maxlen=max_review_length)\n",
    "word_index = tokenizer.word_index\n",
    "NUM_TOP_WORDS = len(word_index) if NUM_TOP_WORDS==None else NUM_TOP_WORDS\n",
    "top_words = min((len(word_index),NUM_TOP_WORDS))\n",
    "print('Found %s unique tokens. Distilled to %d top words.' % (len(word_index),top_words))\n",
    "\n",
    "\n",
    "y = dataframe['overall']\n",
    "\n",
    "skf = StratifiedKFold(n_splits=10, shuffle=True)\n",
    "\n",
    "#X_train, X_test, y_train, y_test = train_test_split(X, y, test_size=0.2)\n",
    "X_train=[]\n",
    "X_test=[]\n",
    "y_train=[]\n",
    "y_test = []\n",
    "\n",
    "for train_index, test_index in skf.split(X, y):\n",
    "    X_train.append(X[train_index])\n",
    "    X_test.append(X[test_index])\n",
    "    y_train.append(y[train_index])\n",
    "    y_test.append(y[test_index])\n"
   ]
  },
  {
   "cell_type": "code",
   "execution_count": 6,
   "metadata": {},
   "outputs": [
    {
     "name": "stdout",
     "output_type": "stream",
     "text": [
      "Shape of data tensor: (37126, 200)\n",
      "Shape of label tensor: (37126,)\n"
     ]
    }
   ],
   "source": [
    "print('Shape of data tensor:', X.shape)\n",
    "print('Shape of label tensor:', y.shape)"
   ]
  },
  {
   "cell_type": "markdown",
   "metadata": {},
   "source": [
    "### 2.4. Creating the embedding layers"
   ]
  },
  {
   "cell_type": "code",
   "execution_count": 7,
   "metadata": {},
   "outputs": [
    {
     "name": "stdout",
     "output_type": "stream",
     "text": [
      "Found 400000 word vectors.\n",
      "(21111, 100)\n",
      "CPU times: user 9.46 s, sys: 379 ms, total: 9.84 s\n",
      "Wall time: 9.8 s\n"
     ]
    }
   ],
   "source": [
    "%%time\n",
    "EMBED_SIZE = 100\n",
    "# the embed size should match the file you load glove from\n",
    "embeddings_index = {}\n",
    "f = open('glove.6B.100d.txt')\n",
    "# save key/array pairs of the embeddings\n",
    "#  the key of the dictionary is the word, the array is the embedding\n",
    "for line in f:\n",
    "    values = line.split()\n",
    "    word = values[0]\n",
    "    coefs = np.asarray(values[1:], dtype='float32')\n",
    "    embeddings_index[word] = coefs\n",
    "f.close()\n",
    "\n",
    "print('Found %s word vectors.' % len(embeddings_index))\n",
    "\n",
    "# now fill in the matrix, using the ordering from the\n",
    "#  keras word tokenizer from before\n",
    "embedding_matrix = np.zeros((len(word_index) + 1, EMBED_SIZE))\n",
    "for word, i in word_index.items():\n",
    "    embedding_vector = embeddings_index.get(word)\n",
    "    if embedding_vector is not None:\n",
    "        # words not found in embedding index will be all-zeros.\n",
    "        embedding_matrix[i] = embedding_vector\n",
    "\n",
    "print(embedding_matrix.shape)"
   ]
  },
  {
   "cell_type": "code",
   "execution_count": 8,
   "metadata": {},
   "outputs": [],
   "source": [
    "from keras.layers import Embedding\n",
    "embedding_layer = Embedding(len(word_index) + 1,\n",
    "                            EMBED_SIZE,\n",
    "                            weights=[embedding_matrix],\n",
    "                            input_length=max_review_length,\n",
    "                            trainable=False)"
   ]
  },
  {
   "cell_type": "markdown",
   "metadata": {},
   "source": [
    "### 2.5.1 LSTM Model\n",
    "We first tried using a LSTM model with an Adam optimizer and ReLu activation on the Dense layer. We did not use softmax or sigmoid activation, since we are dealing with a regression problem. For time purposes, we decided to only fit the model on the first 3 folds of our 10 fold SFold."
   ]
  },
  {
   "cell_type": "code",
   "execution_count": 9,
   "metadata": {},
   "outputs": [
    {
     "name": "stdout",
     "output_type": "stream",
     "text": [
      "_________________________________________________________________\n",
      "Layer (type)                 Output Shape              Param #   \n",
      "=================================================================\n",
      "embedding_1 (Embedding)      (None, 200, 100)          2111100   \n",
      "_________________________________________________________________\n",
      "lstm_1 (LSTM)                (None, 100)               80400     \n",
      "_________________________________________________________________\n",
      "dense_1 (Dense)              (None, 1)                 101       \n",
      "=================================================================\n",
      "Total params: 2,191,601\n",
      "Trainable params: 80,501\n",
      "Non-trainable params: 2,111,100\n",
      "_________________________________________________________________\n",
      "None\n"
     ]
    }
   ],
   "source": [
    "from keras.models import Sequential\n",
    "from keras.layers import Dense\n",
    "from keras.layers import LSTM\n",
    "from keras import optimizers\n",
    "\n",
    "rnn = Sequential()\n",
    "rnn.add(embedding_layer)\n",
    "rnn.add(LSTM(100,dropout=0.2, recurrent_dropout=0.2))\n",
    "rnn.add(Dense(1, activation='relu'))\n",
    "adam = optimizers.Adam(lr=0.01, beta_1=0.9, beta_2=0.999, epsilon=None, decay=0.0, amsgrad=True)\n",
    "rnn.compile(loss='mean_squared_error', \n",
    "              optimizer=adam, \n",
    "              metrics=['mse'])#,weighted_f1])\n",
    "rnn.save_weights('lstm1_initial_weights.h5')\n",
    "\n",
    "print(rnn.summary())"
   ]
  },
  {
   "cell_type": "code",
   "execution_count": 12,
   "metadata": {},
   "outputs": [
    {
     "name": "stdout",
     "output_type": "stream",
     "text": [
      "Train on 33412 samples, validate on 3714 samples\n",
      "Epoch 1/3\n",
      "33412/33412 [==============================] - 195s 6ms/step - loss: 1.2062 - mean_squared_error: 1.2062 - val_loss: 1.0096 - val_mean_squared_error: 1.0096\n",
      "Epoch 2/3\n",
      "33412/33412 [==============================] - 194s 6ms/step - loss: 1.0051 - mean_squared_error: 1.0051 - val_loss: 0.9207 - val_mean_squared_error: 0.9207\n",
      "Epoch 3/3\n",
      "33412/33412 [==============================] - 196s 6ms/step - loss: 0.9561 - mean_squared_error: 0.9561 - val_loss: 0.8976 - val_mean_squared_error: 0.8976\n",
      "Train on 33412 samples, validate on 3714 samples\n",
      "Epoch 1/3\n",
      "33412/33412 [==============================] - 198s 6ms/step - loss: 1.2794 - mean_squared_error: 1.2794 - val_loss: 1.2412 - val_mean_squared_error: 1.2412\n",
      "Epoch 2/3\n",
      "33412/33412 [==============================] - 195s 6ms/step - loss: 1.0752 - mean_squared_error: 1.0752 - val_loss: 0.9270 - val_mean_squared_error: 0.9270\n",
      "Epoch 3/3\n",
      "33412/33412 [==============================] - 197s 6ms/step - loss: 0.9407 - mean_squared_error: 0.9407 - val_loss: 0.9255 - val_mean_squared_error: 0.9255\n",
      "Train on 33412 samples, validate on 3714 samples\n",
      "Epoch 1/3\n",
      "33412/33412 [==============================] - 195s 6ms/step - loss: 1.2773 - mean_squared_error: 1.2773 - val_loss: 1.1899 - val_mean_squared_error: 1.1899\n",
      "Epoch 2/3\n",
      "33412/33412 [==============================] - 195s 6ms/step - loss: 1.2046 - mean_squared_error: 1.2046 - val_loss: 1.1926 - val_mean_squared_error: 1.1926\n",
      "Epoch 3/3\n",
      "33412/33412 [==============================] - 195s 6ms/step - loss: 1.1880 - mean_squared_error: 1.1880 - val_loss: 1.1763 - val_mean_squared_error: 1.1763\n"
     ]
    }
   ],
   "source": [
    "history_rnn= []\n",
    "for index in range(0,3):\n",
    "    rnn.load_weights('lstm1_initial_weights.h5')\n",
    "    history_rnn.append(rnn.fit(X_train[index], y_train[index], validation_data=(X_test[index], y_test[index]), epochs=3, batch_size=64, shuffle=True))"
   ]
  },
  {
   "cell_type": "markdown",
   "metadata": {},
   "source": [
    "The following plots show how our first model performed over each training iteration. In this case, we combined the results of each training iteration over the separate folds and plotted the results. This means iterations 0-2 would correspond to fold 1, 3-5 to fold 2, 6-8 to fold 3 and so on."
   ]
  },
  {
   "cell_type": "code",
   "execution_count": 13,
   "metadata": {},
   "outputs": [
    {
     "name": "stdout",
     "output_type": "stream",
     "text": [
      "Visualization for fold  1 : \n",
      "\n"
     ]
    },
    {
     "data": {
      "image/png": "[encoded data removed]",
      "text/plain": [
       "<Figure size 432x288 with 2 Axes>"
      ]
     },
     "metadata": {},
     "output_type": "display_data"
    },
    {
     "name": "stdout",
     "output_type": "stream",
     "text": [
      "Visualization for fold  2 : \n",
      "\n"
     ]
    },
    {
     "data": {
      "image/png": "[encoded data removed]",
      "text/plain": [
       "<Figure size 432x288 with 2 Axes>"
      ]
     },
     "metadata": {},
     "output_type": "display_data"
    },
    {
     "name": "stdout",
     "output_type": "stream",
     "text": [
      "Visualization for fold  3 : \n",
      "\n"
     ]
    },
    {
     "data": {
      "image/png": "[encoded data removed]",
      "text/plain": [
       "<Figure size 432x288 with 2 Axes>"
      ]
     },
     "metadata": {},
     "output_type": "display_data"
    }
   ],
   "source": [
    "from matplotlib import pyplot as plt\n",
    "\n",
    "%matplotlib inline\n",
    "lstm1_stats = []\n",
    "\n",
    "for x in range(0,3):\n",
    "    print(\"Visualization for fold \", x+1,\": \\n\")\n",
    "    plt.title('Training')\n",
    "\n",
    "    plt.subplot(2,2,1)\n",
    "    plt.plot(history_rnn[x].history['mean_squared_error'])\n",
    "    plt.ylabel('MSE Training')\n",
    "    plt.xlabel('epochs')\n",
    "\n",
    "    plt.subplot(2,2,2)\n",
    "    plt.plot(history_rnn[x].history['val_mean_squared_error'])\n",
    "    plt.xlabel('epochs')\n",
    "    lstm1_stats.append(history_rnn[x].history['val_mean_squared_error'][-1])\n",
    "    plt.show()"
   ]
  },
  {
   "cell_type": "markdown",
   "metadata": {},
   "source": [
    "We then tuned the parameters of our LSTM model to use an linear activation function at a decreased learning rate. "
   ]
  },
  {
   "cell_type": "code",
   "execution_count": 14,
   "metadata": {},
   "outputs": [
    {
     "name": "stdout",
     "output_type": "stream",
     "text": [
      "_________________________________________________________________\n",
      "Layer (type)                 Output Shape              Param #   \n",
      "=================================================================\n",
      "embedding_1 (Embedding)      (None, 200, 100)          2111100   \n",
      "_________________________________________________________________\n",
      "lstm_2 (LSTM)                (None, 100)               80400     \n",
      "_________________________________________________________________\n",
      "dense_2 (Dense)              (None, 1)                 101       \n",
      "=================================================================\n",
      "Total params: 2,191,601\n",
      "Trainable params: 80,501\n",
      "Non-trainable params: 2,111,100\n",
      "_________________________________________________________________\n",
      "None\n"
     ]
    }
   ],
   "source": [
    "from keras.models import Sequential\n",
    "from keras.layers import Dense\n",
    "from keras.layers import LSTM\n",
    "from keras import optimizers\n",
    "\n",
    "rnn = Sequential()\n",
    "rnn.add(embedding_layer)\n",
    "rnn.add(LSTM(100,dropout=0.2, recurrent_dropout=0.2))\n",
    "rnn.add(Dense(1, activation='linear'))\n",
    "adam = optimizers.Adam(lr=0.005, beta_1=0.9, beta_2=0.999, epsilon=None, decay=0.0, amsgrad=False)\n",
    "rnn.compile(loss='mean_squared_error', \n",
    "              optimizer=adam, \n",
    "              metrics=['mse'])#,weighted_f1])\n",
    "\n",
    "rnn.save_weights('lstm_linear_initial_weights.h5')\n",
    "\n",
    "print(rnn.summary())"
   ]
  },
  {
   "cell_type": "code",
   "execution_count": 16,
   "metadata": {},
   "outputs": [
    {
     "name": "stdout",
     "output_type": "stream",
     "text": [
      "Fold 1\n",
      "Train on 33412 samples, validate on 3714 samples\n",
      "Epoch 1/3\n",
      "33412/33412 [==============================] - 199s 6ms/step - loss: 1.2763 - mean_squared_error: 1.2763 - val_loss: 1.0166 - val_mean_squared_error: 1.0166\n",
      "Epoch 2/3\n",
      "33412/33412 [==============================] - 198s 6ms/step - loss: 0.9678 - mean_squared_error: 0.9678 - val_loss: 0.8965 - val_mean_squared_error: 0.8965\n",
      "Epoch 3/3\n",
      "33412/33412 [==============================] - 197s 6ms/step - loss: 0.8918 - mean_squared_error: 0.8918 - val_loss: 0.8255 - val_mean_squared_error: 0.8255\n",
      "Fold 2\n",
      "Train on 33412 samples, validate on 3714 samples\n",
      "Epoch 1/3\n",
      "33412/33412 [==============================] - 197s 6ms/step - loss: 1.2817 - mean_squared_error: 1.2817 - val_loss: 1.1903 - val_mean_squared_error: 1.1903\n",
      "Epoch 2/3\n",
      "33412/33412 [==============================] - 199s 6ms/step - loss: 1.2035 - mean_squared_error: 1.2035 - val_loss: 1.1806 - val_mean_squared_error: 1.1806\n",
      "Epoch 3/3\n",
      "33412/33412 [==============================] - 197s 6ms/step - loss: 1.1667 - mean_squared_error: 1.1667 - val_loss: 1.0534 - val_mean_squared_error: 1.0534\n",
      "Fold 3\n",
      "Train on 33412 samples, validate on 3714 samples\n",
      "Epoch 1/3\n",
      "33412/33412 [==============================] - 197s 6ms/step - loss: 1.2786 - mean_squared_error: 1.2786 - val_loss: 1.2262 - val_mean_squared_error: 1.2262\n",
      "Epoch 2/3\n",
      "33412/33412 [==============================] - 197s 6ms/step - loss: 1.2008 - mean_squared_error: 1.2008 - val_loss: 1.1904 - val_mean_squared_error: 1.1904\n",
      "Epoch 3/3\n",
      "33412/33412 [==============================] - 198s 6ms/step - loss: 1.0758 - mean_squared_error: 1.0758 - val_loss: 0.9883 - val_mean_squared_error: 0.9883\n",
      "CPU times: user 2h 18min 43s, sys: 1h 1min 16s, total: 3h 20min\n",
      "Wall time: 29min 38s\n"
     ]
    }
   ],
   "source": [
    "%%time\n",
    "history_rnn3= []\n",
    "for index in range(0,3):\n",
    "    print(\"Fold \" + str(index+1))\n",
    "    rnn.load_weights('lstm_linear_initial_weights.h5')\n",
    "    history_rnn3.append(rnn.fit(X_train[index], y_train[index], validation_data=(X_test[index], y_test[index]), epochs=3, batch_size=64, shuffle=True))"
   ]
  },
  {
   "cell_type": "markdown",
   "metadata": {},
   "source": [
    "Similarly, we plot the MSE over each training iteration."
   ]
  },
  {
   "cell_type": "code",
   "execution_count": 17,
   "metadata": {},
   "outputs": [
    {
     "name": "stdout",
     "output_type": "stream",
     "text": [
      "Visualization for fold  1 : \n",
      "\n"
     ]
    },
    {
     "data": {
      "image/png": "[encoded data removed]",
      "text/plain": [
       "<Figure size 432x288 with 2 Axes>"
      ]
     },
     "metadata": {},
     "output_type": "display_data"
    },
    {
     "name": "stdout",
     "output_type": "stream",
     "text": [
      "Visualization for fold  2 : \n",
      "\n"
     ]
    },
    {
     "data": {
      "image/png": "[encoded data removed]",
      "text/plain": [
       "<Figure size 432x288 with 2 Axes>"
      ]
     },
     "metadata": {},
     "output_type": "display_data"
    },
    {
     "name": "stdout",
     "output_type": "stream",
     "text": [
      "Visualization for fold  3 : \n",
      "\n"
     ]
    },
    {
     "data": {
      "image/png": "[encoded data removed]",
      "text/plain": [
       "<Figure size 432x288 with 2 Axes>"
      ]
     },
     "metadata": {},
     "output_type": "display_data"
    }
   ],
   "source": [
    "from matplotlib import pyplot as plt\n",
    "\n",
    "%matplotlib inline\n",
    "lstm2_stats = []\n",
    "\n",
    "for x in range(0,3):\n",
    "    print(\"Visualization for fold \", x+1,\": \\n\")\n",
    "    plt.title('Training')\n",
    "\n",
    "    plt.subplot(2,2,1)\n",
    "    plt.plot(history_rnn3[x].history['mean_squared_error'])\n",
    "    plt.ylabel('MSE Training')\n",
    "    plt.xlabel('epochs')\n",
    "\n",
    "    plt.subplot(2,2,2)\n",
    "    plt.plot(history_rnn3[x].history['val_mean_squared_error'])\n",
    "    plt.xlabel('epochs')\n",
    "    lstm2_stats.append(history_rnn3[x].history['val_mean_squared_error'][-1])\n",
    "    plt.show()"
   ]
  },
  {
   "cell_type": "markdown",
   "metadata": {},
   "source": [
    "### 2.5.2 GRU Model"
   ]
  },
  {
   "cell_type": "code",
   "execution_count": 25,
   "metadata": {},
   "outputs": [
    {
     "name": "stdout",
     "output_type": "stream",
     "text": [
      "RNN :\n",
      "_________________________________________________________________\n",
      "Layer (type)                 Output Shape              Param #   \n",
      "=================================================================\n",
      "embedding_1 (Embedding)      (None, 200, 100)          2111100   \n",
      "_________________________________________________________________\n",
      "gru_6 (GRU)                  (None, 100)               60300     \n",
      "_________________________________________________________________\n",
      "dense_8 (Dense)              (None, 1)                 101       \n",
      "=================================================================\n",
      "Total params: 2,171,501\n",
      "Trainable params: 60,401\n",
      "Non-trainable params: 2,111,100\n",
      "_________________________________________________________________\n",
      "None\n",
      "RNN :\n",
      "_________________________________________________________________\n",
      "Layer (type)                 Output Shape              Param #   \n",
      "=================================================================\n",
      "embedding_1 (Embedding)      (None, 200, 100)          2111100   \n",
      "_________________________________________________________________\n",
      "gru_7 (GRU)                  (None, 100)               60300     \n",
      "_________________________________________________________________\n",
      "dense_9 (Dense)              (None, 1)                 101       \n",
      "=================================================================\n",
      "Total params: 2,171,501\n",
      "Trainable params: 60,401\n",
      "Non-trainable params: 2,111,100\n",
      "_________________________________________________________________\n",
      "None\n",
      "RNN :\n",
      "_________________________________________________________________\n",
      "Layer (type)                 Output Shape              Param #   \n",
      "=================================================================\n",
      "embedding_1 (Embedding)      (None, 200, 100)          2111100   \n",
      "_________________________________________________________________\n",
      "gru_8 (GRU)                  (None, 100)               60300     \n",
      "_________________________________________________________________\n",
      "dense_10 (Dense)             (None, 1)                 101       \n",
      "=================================================================\n",
      "Total params: 2,171,501\n",
      "Trainable params: 60,401\n",
      "Non-trainable params: 2,111,100\n",
      "_________________________________________________________________\n",
      "None\n"
     ]
    }
   ],
   "source": [
    "from keras.models import Sequential\n",
    "from keras.layers import Dense\n",
    "from keras.layers import GRU\n",
    "from keras import optimizers\n",
    "\n",
    "\n",
    "\n",
    "rnn_1 = Sequential()\n",
    "rnn_2 = Sequential()\n",
    "rnn_3 = Sequential()\n",
    "\n",
    "rnn_list = [rnn_1,rnn_2,rnn_3]\n",
    "\n",
    "for r in rnn_list:\n",
    "    r.add(embedding_layer)\n",
    "    r.add(GRU(100,dropout=0.2, recurrent_dropout=0.2))\n",
    "    r.add(Dense(1, activation='relu'))\n",
    "    adam = optimizers.Adam(lr=0.01, beta_1=0.9, beta_2=0.999, epsilon=None, decay=0.0, amsgrad=True)\n",
    "    r.compile(loss='mean_squared_error', \n",
    "                  optimizer=adam, \n",
    "                  metrics=['mse'])#,weighted_f1])\n",
    "\n",
    "for r in rnn_list:\n",
    "    print (\"RNN :\")\n",
    "    print(r.summary())"
   ]
  },
  {
   "cell_type": "code",
   "execution_count": 26,
   "metadata": {},
   "outputs": [
    {
     "name": "stdout",
     "output_type": "stream",
     "text": [
      "Fold  1 : \n",
      "\n",
      "Train on 33412 samples, validate on 3714 samples\n",
      "Epoch 1/3\n",
      "33412/33412 [==============================] - 175s 5ms/step - loss: 1.0024 - mean_squared_error: 1.0024 - val_loss: 0.7929 - val_mean_squared_error: 0.7929\n",
      "Epoch 2/3\n",
      "33412/33412 [==============================] - 174s 5ms/step - loss: 0.8463 - mean_squared_error: 0.8463 - val_loss: 0.7774 - val_mean_squared_error: 0.7774\n",
      "Epoch 3/3\n",
      "33412/33412 [==============================] - 174s 5ms/step - loss: 0.8203 - mean_squared_error: 0.8203 - val_loss: 0.7862 - val_mean_squared_error: 0.7862\n",
      "Fold  2 : \n",
      "\n",
      "Train on 33412 samples, validate on 3714 samples\n",
      "Epoch 1/3\n",
      "33412/33412 [==============================] - 181s 5ms/step - loss: 1.0445 - mean_squared_error: 1.0445 - val_loss: 0.7942 - val_mean_squared_error: 0.7942\n",
      "Epoch 2/3\n",
      "33412/33412 [==============================] - 171s 5ms/step - loss: 0.8416 - mean_squared_error: 0.8416 - val_loss: 0.8743 - val_mean_squared_error: 0.8743\n",
      "Epoch 3/3\n",
      "33412/33412 [==============================] - 170s 5ms/step - loss: 0.8303 - mean_squared_error: 0.8303 - val_loss: 0.7895 - val_mean_squared_error: 0.7895\n",
      "Fold  3 : \n",
      "\n",
      "Train on 33412 samples, validate on 3714 samples\n",
      "Epoch 1/3\n",
      "33412/33412 [==============================] - 177s 5ms/step - loss: 1.0781 - mean_squared_error: 1.0781 - val_loss: 0.8009 - val_mean_squared_error: 0.8009\n",
      "Epoch 2/3\n",
      "33412/33412 [==============================] - 174s 5ms/step - loss: 0.8510 - mean_squared_error: 0.8510 - val_loss: 0.7817 - val_mean_squared_error: 0.7817\n",
      "Epoch 3/3\n",
      "33412/33412 [==============================] - 173s 5ms/step - loss: 0.8971 - mean_squared_error: 0.8971 - val_loss: 0.9600 - val_mean_squared_error: 0.9600\n"
     ]
    }
   ],
   "source": [
    "history_gru = []\n",
    "\n",
    "for fold in range(0,3):\n",
    "    print (\"Fold \",fold + 1, \": \\n\")\n",
    "    history_rnn_temp= rnn_list[fold].fit(X_train[fold], y_train[fold], validation_data=(X_test[fold], y_test[fold]), epochs=3, batch_size=64, shuffle=True)\n",
    "    history_gru.append(history_rnn_temp)"
   ]
  },
  {
   "cell_type": "code",
   "execution_count": 28,
   "metadata": {},
   "outputs": [
    {
     "name": "stdout",
     "output_type": "stream",
     "text": [
      "Visualization for fold  1 : \n",
      "\n"
     ]
    },
    {
     "data": {
      "image/png": "[encoded data removed]",
      "text/plain": [
       "<Figure size 432x288 with 2 Axes>"
      ]
     },
     "metadata": {},
     "output_type": "display_data"
    },
    {
     "name": "stdout",
     "output_type": "stream",
     "text": [
      "Visualization for fold  2 : \n",
      "\n"
     ]
    },
    {
     "data": {
      "image/png": "[encoded data removed]",
      "text/plain": [
       "<Figure size 432x288 with 2 Axes>"
      ]
     },
     "metadata": {},
     "output_type": "display_data"
    },
    {
     "name": "stdout",
     "output_type": "stream",
     "text": [
      "Visualization for fold  3 : \n",
      "\n"
     ]
    },
    {
     "data": {
      "image/png": "[encoded data removed]",
      "text/plain": [
       "<Figure size 432x288 with 2 Axes>"
      ]
     },
     "metadata": {},
     "output_type": "display_data"
    }
   ],
   "source": [
    "%matplotlib inline\n",
    "gru_stats = []\n",
    "\n",
    "for x in range(0,3):\n",
    "    print(\"Visualization for fold \", x+1,\": \\n\")\n",
    "    \n",
    "\n",
    "    plt.subplot(2,2,1)\n",
    "    plt.plot(history_gru[x].history['mean_squared_error'])\n",
    "    plt.ylabel('MSE Training')\n",
    "    plt.xlabel('epochs')\n",
    "    plt.title('Training')\n",
    "\n",
    "    plt.subplot(2,2,2)\n",
    "    plt.plot(history_gru[x].history['val_mean_squared_error'])\n",
    "    plt.xlabel('epochs')\n",
    "    gru_stats.append(history_gru[x].history['val_mean_squared_error'][-1])\n",
    "    plt.title('Validation')\n",
    "    plt.show()"
   ]
  },
  {
   "cell_type": "code",
   "execution_count": 41,
   "metadata": {},
   "outputs": [
    {
     "data": {
      "text/plain": [
       "Text(0,0.5,'MSE ')"
      ]
     },
     "execution_count": 41,
     "metadata": {},
     "output_type": "execute_result"
    },
    {
     "data": {
      "image/png": "[encoded data removed]",
      "text/plain": [
       "<Figure size 432x288 with 1 Axes>"
      ]
     },
     "metadata": {},
     "output_type": "display_data"
    }
   ],
   "source": [
    "plt.scatter([x for x in range(1,4)], mse1, label='LSTM 1 Layer w/ ReLu')\n",
    "plt.scatter([x for x in range(1,4)], mse_lstm2, label='LSTM 1 Layer w/ Linear')\n",
    "plt.scatter([x for x in range(1,4)], mse_gru,label='GRU 1 Layer w/ ReLu')\n",
    "plt.legend()\n",
    "plt.xlabel('Fold number')\n",
    "plt.ylabel('MSE ')"
   ]
  },
  {
   "cell_type": "markdown",
   "metadata": {},
   "source": [
    "We can see that although the validation MSE was fluctuating, it was by far the best at the end of 3 iterations, which lead us to choose it as our best model and use later on in the report to add a second recurrent chain."
   ]
  },
  {
   "cell_type": "markdown",
   "metadata": {},
   "source": [
    "### 2.6 Adding a recurrent chain to our best model\n",
    "We add a second recurrent chain to our best model, which is shown to be the GRU model with a 0.01 Adam learning rate and ReLu activation."
   ]
  },
  {
   "cell_type": "code",
   "execution_count": 29,
   "metadata": {},
   "outputs": [
    {
     "name": "stdout",
     "output_type": "stream",
     "text": [
      "_________________________________________________________________\n",
      "Layer (type)                 Output Shape              Param #   \n",
      "=================================================================\n",
      "embedding_1 (Embedding)      (None, 200, 100)          2111100   \n",
      "_________________________________________________________________\n",
      "gru_9 (GRU)                  (None, 200, 100)          60300     \n",
      "_________________________________________________________________\n",
      "gru_10 (GRU)                 (None, 100)               60300     \n",
      "_________________________________________________________________\n",
      "dense_11 (Dense)             (None, 1)                 101       \n",
      "=================================================================\n",
      "Total params: 2,231,801\n",
      "Trainable params: 120,701\n",
      "Non-trainable params: 2,111,100\n",
      "_________________________________________________________________\n",
      "None\n"
     ]
    }
   ],
   "source": [
    "rnn2 = Sequential()\n",
    "rnn2.add(embedding_layer)\n",
    "rnn2.add(GRU(100,dropout=0.2, recurrent_dropout=0.2,return_sequences=True ))\n",
    "rnn2.add(GRU(100,dropout=0.2, recurrent_dropout=0.2))\n",
    "rnn2.add(Dense(1, activation='relu'))\n",
    "rnn2.compile(loss='mean_squared_error', \n",
    "              optimizer=adam, \n",
    "              metrics=['mse'])\n",
    "rnn2.save_weights('rnn2_initial_weights.h5')\n",
    "print(rnn2.summary())"
   ]
  },
  {
   "cell_type": "code",
   "execution_count": 32,
   "metadata": {},
   "outputs": [
    {
     "name": "stdout",
     "output_type": "stream",
     "text": [
      "Fold  1 : \n",
      "\n",
      "Train on 33412 samples, validate on 3714 samples\n",
      "Epoch 1/3\n",
      "33412/33412 [==============================] - 396s 12ms/step - loss: 1.1870 - mean_squared_error: 1.1870 - val_loss: 0.9560 - val_mean_squared_error: 0.9560\n",
      "Epoch 2/3\n",
      "33412/33412 [==============================] - 404s 12ms/step - loss: 0.9799 - mean_squared_error: 0.9799 - val_loss: 1.3089 - val_mean_squared_error: 1.3089\n",
      "Epoch 3/3\n",
      "33412/33412 [==============================] - 405s 12ms/step - loss: 0.9275 - mean_squared_error: 0.9275 - val_loss: 0.9040 - val_mean_squared_error: 0.9040\n",
      "Fold  2 : \n",
      "\n",
      "Train on 33412 samples, validate on 3714 samples\n",
      "Epoch 1/3\n",
      "33412/33412 [==============================] - 404s 12ms/step - loss: 1.1701 - mean_squared_error: 1.1701 - val_loss: 1.0329 - val_mean_squared_error: 1.0329\n",
      "Epoch 2/3\n",
      "33412/33412 [==============================] - 404s 12ms/step - loss: 0.9509 - mean_squared_error: 0.9509 - val_loss: 1.1152 - val_mean_squared_error: 1.1152\n",
      "Epoch 3/3\n",
      "33412/33412 [==============================] - 406s 12ms/step - loss: 0.8846 - mean_squared_error: 0.8846 - val_loss: 0.8152 - val_mean_squared_error: 0.8152\n",
      "Fold  3 : \n",
      "\n",
      "Train on 33412 samples, validate on 3714 samples\n",
      "Epoch 1/3\n",
      "33412/33412 [==============================] - 406s 12ms/step - loss: 1.1904 - mean_squared_error: 1.1904 - val_loss: 1.1196 - val_mean_squared_error: 1.1196\n",
      "Epoch 2/3\n",
      "33412/33412 [==============================] - 404s 12ms/step - loss: 0.9661 - mean_squared_error: 0.9661 - val_loss: 0.8578 - val_mean_squared_error: 0.8578\n",
      "Epoch 3/3\n",
      "33412/33412 [==============================] - 405s 12ms/step - loss: 0.8875 - mean_squared_error: 0.8875 - val_loss: 0.7949 - val_mean_squared_error: 0.7949\n"
     ]
    }
   ],
   "source": [
    "history_gru2 = []\n",
    "\n",
    "for fold in range(0,3):\n",
    "    print (\"Fold \",fold + 1, \": \\n\")\n",
    "    rnn2.load_weights('rnn2_initial_weights.h5')\n",
    "    history_rnn_temp= rnn2.fit(X_train[fold], y_train[fold], validation_data=(X_test[fold], y_test[fold]), epochs=3, batch_size=64, shuffle=True)\n",
    "    history_gru2.append(history_rnn_temp)"
   ]
  },
  {
   "cell_type": "code",
   "execution_count": 37,
   "metadata": {},
   "outputs": [
    {
     "name": "stdout",
     "output_type": "stream",
     "text": [
      "Visualization for fold  1 : \n",
      "\n"
     ]
    },
    {
     "data": {
      "image/png": "[encoded data removed]",
      "text/plain": [
       "<Figure size 432x288 with 2 Axes>"
      ]
     },
     "metadata": {},
     "output_type": "display_data"
    },
    {
     "name": "stdout",
     "output_type": "stream",
     "text": [
      "Visualization for fold  2 : \n",
      "\n"
     ]
    },
    {
     "data": {
      "image/png": "[encoded data removed]",
      "text/plain": [
       "<Figure size 432x288 with 2 Axes>"
      ]
     },
     "metadata": {},
     "output_type": "display_data"
    },
    {
     "name": "stdout",
     "output_type": "stream",
     "text": [
      "Visualization for fold  3 : \n",
      "\n"
     ]
    },
    {
     "data": {
      "image/png": "[encoded data removed]",
      "text/plain": [
       "<Figure size 432x288 with 2 Axes>"
      ]
     },
     "metadata": {},
     "output_type": "display_data"
    }
   ],
   "source": [
    "%matplotlib inline\n",
    "gru2_stats = []\n",
    "\n",
    "for x in range(0,3):\n",
    "    print(\"Visualization for fold \", x+1,\": \\n\")\n",
    "    \n",
    "\n",
    "    plt.subplot(2,2,1)\n",
    "    plt.plot(history_gru2[x].history['mean_squared_error'])\n",
    "    plt.ylabel('MSE Training')\n",
    "    plt.xlabel('epochs')\n",
    "    plt.title('Training')\n",
    "\n",
    "    plt.subplot(2,2,2)\n",
    "    plt.plot(history_gru2[x].history['val_mean_squared_error'])\n",
    "    plt.xlabel('epochs')\n",
    "    gru2_stats.append(history_gru2[x].history['val_mean_squared_error'][-1])\n",
    "    plt.title('Validation')\n",
    "    plt.show()"
   ]
  },
  {
   "cell_type": "code",
   "execution_count": 54,
   "metadata": {},
   "outputs": [
    {
     "name": "stdout",
     "output_type": "stream",
     "text": [
      "0.9998302395843215 0.838023796017589 0.8452436945432393 0.9557186277127526\n"
     ]
    }
   ],
   "source": [
    "import seaborn as sns\n",
    "%matplotlib inline\n",
    "\n",
    "mse1 = [x.history['val_mean_squared_error'][-1] for x in history_rnn]\n",
    "mse_gru2 = [x.history['val_mean_squared_error'][-1] for x in history_gru2]\n",
    "mse_gru = [x.history['val_mean_squared_error'][-1] for x in history_gru]\n",
    "mse_lstm2 = [x.history['val_mean_squared_error'][-1] for x in history_rnn3]\n",
    "\n",
    "print(np.mean(mse1), np.mean(mse_gru2), np.mean(mse_gru), np.mean(mse_lstm2))"
   ]
  },
  {
   "cell_type": "code",
   "execution_count": 52,
   "metadata": {},
   "outputs": [
    {
     "name": "stdout",
     "output_type": "stream",
     "text": [
      "[0.9040383728011423, 0.8151810441344703, 0.7948519711171547]\n"
     ]
    }
   ],
   "source": [
    "print(mse_gru2)"
   ]
  },
  {
   "cell_type": "code",
   "execution_count": 55,
   "metadata": {},
   "outputs": [
    {
     "data": {
      "text/plain": [
       "Text(0,0.5,'MSE')"
      ]
     },
     "execution_count": 55,
     "metadata": {},
     "output_type": "execute_result"
    },
    {
     "data": {
      "image/png": "[encoded data removed]",
      "text/plain": [
       "<Figure size 432x288 with 1 Axes>"
      ]
     },
     "metadata": {},
     "output_type": "display_data"
    }
   ],
   "source": [
    "plt.scatter([x for x in range(1,4)], mse1, label='LSTM 1 Layer w/ ReLu')\n",
    "plt.scatter([x for x in range(1,4)], mse_lstm2, label='LSTM 1 Layer w/ Linear')\n",
    "plt.scatter([x for x in range(1,4)], mse_gru,label='GRU 1 Layer w/ ReLu')\n",
    "plt.scatter([x for x in range(1,4)], mse_gru2, label='GRU 2 Layer w/ ReLu')\n",
    "plt.legend()\n",
    "plt.xlabel('Fold number')\n",
    "plt.ylabel('MSE')"
   ]
  },
  {
   "cell_type": "code",
   "execution_count": 49,
   "metadata": {},
   "outputs": [
    {
     "name": "stdout",
     "output_type": "stream",
     "text": [
      "pvalue for LSTM1_ReLu and LSTM_Linear: 0.8878242916509516>0.05 meaning the models are not independent\n",
      "Achieved pvalue: 0.00033258037008694407 <0.05 for LSTM1_ReLu and GRU1 meaning the models are indendependent\n",
      "pvalue for LSTM1_Relu and GRU2: 0.40032242869627754>0.05 meaning the models are not independent\n",
      "Achieved pvalue: 0.00022838644669723169 <0.05 for LSTM1_Linear and GRU1 meaning the models are indendependent\n",
      "pvalue for LSTM1_Linear and GRU2: 0.3347766639826254>0.05 meaning the models are not independent\n",
      "Achieved pvalue: 0.011366928272631378 <0.05 for GRU1 and GRU2 meaning the models are indendependent\n"
     ]
    }
   ],
   "source": [
    "from scipy import stats\n",
    "\n",
    "mse1 = [x.history['val_mean_squared_error'] for x in history_rnn]\n",
    "mse1= mse1[0]+mse1[1]+mse1[2]\n",
    "mse_gru2 = [x.history['val_mean_squared_error'] for x in history_gru2]\n",
    "mse_gru2 = mse_gru2[0]+mse_gru2[1]+mse_gru2[2]\n",
    "mse_gru = [x.history['val_mean_squared_error'] for x in history_gru]\n",
    "mse_gru = mse_gru[0]+mse_gru[1]+mse_gru[2]\n",
    "mse_lstm2 = [x.history['val_mean_squared_error'] for x in history_rnn3]\n",
    "mse_lstm2 = mse_lstm2[0]+mse_lstm2[1]+mse_lstm2[2]\n",
    "\n",
    "\n",
    "ttest1 = stats.ttest_ind(mse1,mse_lstm2).pvalue\n",
    "result1 = (\"Achieved pvalue: \" + str(ttest1) + \" <0.05 for LSTM1_ReLu and LSTM1_Linear meaning the models are indendependent\") if ttest1<0.05 \\\n",
    "        else \"pvalue for LSTM1_ReLu and LSTM_Linear: \" + str(ttest1) + \">0.05 meaning the models are not independent\"\n",
    "    \n",
    "    \n",
    "ttest2 = stats.ttest_ind(mse1,mse_gru).pvalue\n",
    "result2 = (\"Achieved pvalue: \" + str(ttest2) + \" <0.05 for LSTM1_ReLu and GRU1 meaning the models are indendependent\") if ttest2<0.05 \\\n",
    "        else \"pvalue for LSTM1_ReLu and GRU1: \" + str(ttest2) + \">0.05 meaning the models are not independent\"\n",
    "    \n",
    "ttest3 = stats.ttest_ind(mse1,mse_gru2).pvalue\n",
    "result3 = (\"Achieved pvalue: \" + str(ttest3) + \" <0.05 for LSTM1_ReLu and GRU2 meaning the models are indendependent\") if ttest3<0.05 \\\n",
    "        else \"pvalue for LSTM1_Relu and GRU2: \" + str(ttest3) + \">0.05 meaning the models are not independent\"\n",
    "\n",
    "ttest4 = stats.ttest_ind(mse_lstm2,mse_gru).pvalue\n",
    "result4 = (\"Achieved pvalue: \" + str(ttest4) + \" <0.05 for LSTM1_Linear and GRU1 meaning the models are indendependent\") if ttest4<0.05 \\\n",
    "        else \"pvalue for LSTM1_Linear and GRU1: \" + str(ttest4) + \">0.05 meaning the models are not independent\"\n",
    "\n",
    "ttest5 = stats.ttest_ind(mse_lstm2,mse_gru2).pvalue\n",
    "result5 = (\"Achieved pvalue: \" + str(ttest5) + \" <0.05 for LSTM1_Linear and GRU2 meaning the models are indendependent\") if ttest5<0.05 \\\n",
    "        else \"pvalue for LSTM1_Linear and GRU2: \" + str(ttest5) + \">0.05 meaning the models are not independent\"\n",
    "    \n",
    "ttest6 = stats.ttest_ind(mse_gru2,mse_gru).pvalue\n",
    "result6 = (\"Achieved pvalue: \" + str(ttest6) + \" <0.05 for GRU1 and GRU2 meaning the models are indendependent\") if ttest6<0.05 \\\n",
    "        else \"pvalue for GRU2 and GRU1: \" + str(ttest6) + \">0.05 meaning the models are not independent\"\n",
    "    \n",
    "print(result1)\n",
    "print(result2)\n",
    "print(result3)\n",
    "print(result4)\n",
    "print(result5)\n",
    "print(result6)"
   ]
  },
  {
   "cell_type": "code",
   "execution_count": 57,
   "metadata": {},
   "outputs": [
    {
     "name": "stdout",
     "output_type": "stream",
     "text": [
      "[t-SNE] Computing 49 nearest neighbors...\n",
      "[t-SNE] Indexed 50 samples in 0.000s...\n",
      "[t-SNE] Computed neighbors for 50 samples in 0.001s...\n",
      "[t-SNE] Computed conditional probabilities for sample 50 / 50\n",
      "[t-SNE] Mean sigma: 2.677067\n",
      "[t-SNE] KL divergence after 250 iterations with early exaggeration: 51.245045\n",
      "[t-SNE] Error after 1000 iterations: 0.502354\n"
     ]
    },
    {
     "data": {
      "image/png": "[encoded data removed]",
      "text/plain": [
       "<Figure size 432x288 with 1 Axes>"
      ]
     },
     "metadata": {},
     "output_type": "display_data"
    }
   ],
   "source": [
    "%matplotlib inline\n",
    "from matplotlib import pyplot as plt\n",
    "from sklearn.manifold import TSNE\n",
    "weights = []\n",
    "weight_labels=[]\n",
    "for word, i in word_index.items():\n",
    "    embedding_vector = embeddings_index.get(word)\n",
    "    if embedding_vector is not None:\n",
    "        weights.append(embedding_vector)\n",
    "        weight_labels.append(word)\n",
    "        if len(weight_labels)==50:\n",
    "            break\n",
    "tsne = TSNE(n_components=2, verbose=1)\n",
    "transformed_weights = tsne.fit_transform(weights)\n",
    "fig, ax = plt.subplots()\n",
    "ax.scatter(transformed_weights[:,0], transformed_weights[:,1],lw=0, s=40)\n",
    "for i, txt in enumerate(weight_labels):\n",
    "    ax.annotate(txt, (transformed_weights[:,0][i], transformed_weights[:,1][i]))\n"
   ]
  },
  {
   "cell_type": "code",
   "execution_count": null,
   "metadata": {},
   "outputs": [],
   "source": []
  },
  {
   "cell_type": "code",
   "execution_count": null,
   "metadata": {},
   "outputs": [],
   "source": []
  }
 ],
 "metadata": {
  "kernelspec": {
   "display_name": "Python 3",
   "language": "python",
   "name": "python3"
  },
  "language_info": {
   "codemirror_mode": {
    "name": "ipython",
    "version": 3
   },
   "file_extension": ".py",
   "mimetype": "text/x-python",
   "name": "python",
   "nbconvert_exporter": "python",
   "pygments_lexer": "ipython3",
   "version": "3.5.2"
  }
 },
 "nbformat": 4,
 "nbformat_minor": 2
}
