{
 "cells": [
  {
   "cell_type": "markdown",
   "metadata": {},
   "source": [
    "### Overview\n",
    "\n",
    "The dataset we will be using is a collection of amazon reviews for instant video products found at http://jmcauley.ucsd.edu/data/amazon/. Our set includes the reviews’ product, reviewer, text review, rating, helpfulness/unhelpfulness, and other metadata. The specific dataset we are using is a “5-core” dataset meaning that it includes only products and reviewers that have more than 5 reviews on amazon. This means that each product in this dataset has at least 5 reviews and that each reviewer in this dataset has posted at least 5 reviews for this category. The set includes over 37,000 reviews. \n",
    "\n",
    "### Purpose\n",
    "\n",
    "This data was originally collected by Amazon as consumers browsed, bought, and reviewed products. This data is necessary for amazon to be able to display the reviews on each product. The specific dataset we are using is UCSD’s collection that has been structured by two researchers (Julian McAuley, Alex Yang) to understand why and what reviews are helpful to consumers when it comes to purchasing an object. They outline their findings with this data in the following paper: http://cseweb.ucsd.edu/~jmcauley/pdfs/www16b.pdf\n",
    "\n",
    "### Prediction Task\n",
    "\n",
    "Reviews have become increasingly crucial in consumer purchase decisions. As discussed in a BrightLocal study, 88% of consumers incorporate reviews into their purchase decisions. This finding for most consumers is obvious. A less obvious finding is that although customers are relying more on review data, they are reading less of them. It was found that by reading up to six reviews 73% of consumers formed an opinion as opposed to 64% in 2014. Moreover, it was found that by reading just one to three reviews 40% of consumers formed an opinion as opposed to 29% in 2014. \n",
    "\n",
    "Due to the importance of consumer reviews, online marketplaces such as Amazon are interested in learning which products are the most well-reviewed, and businesses are interested in analyzing consumer sentiment about their products. Thus, our goal is predicting the star rating (on a scale of 1 to 5) that a particular user gave a product based on the text of their review.\n",
    "\n",
    "The application of this system is that, given a system that can match an Amazon review to a star value, we could apply this system to other forms of text reviews that do not include a star review, such as tweets or (short) blog posts. This would allow companies to get a fuller picture of their star rating, rather than just Amazon product reviews.\n",
    "\n",
    "### Evaluation Metric\n",
    "\n",
    "Our data is heavily class imbalanced. We have 5 categories of rating, and a score of 5 (the highest) happens 56% of the time, whereas a score of 1 (the lowest) happens only 4.6% of the time. We feel that it is important for online marketplaces and businesses making products to get a full understanding of negative reviews as well as positive reviews; metrics that do not account for class imbalance will make product reviews look much more positive than they actually are. As a consequence, we decide to use weighted F1 score as our evaluation metric. Weighted F1 score accounts for class imbalance in the categories, suiting our business case better than other metrics. Further, both precision and recall are important to our task. \n",
    "\n",
    "Precision is important because mislabeled reviews can give an incorrect picture of an individual reviewer's sentiment; perhaps a business will want to examine more closely all reviews with a 1 star score, for example, and send an email to each of these customers that attempts to resolve their issues. If our system incorrectly labels a review as 1 star when it is really more than 1 star, the business will waste time emailing this customer when they don't need to be emailed.\n",
    "\n",
    "Recall is important because it represents completeness; how well did we represent the sentiment of users as a whole? If a company is interested in using our results to compute an overall star score, for example, the recall score is very important because it details if that score is representative of what users actually think or not.\n",
    "\n",
    "### Train/Test Split\n",
    "\n",
    "Because we do not have an especially large dataset, we will use stratified 10-fold cross validation to split our training and testing data. This fits with our proposed use case because the business using our services would want to train on an existing dataset (such as our Amazon review dataset) and apply the model to a different, but related, dataset (such as comments on the company's webpage or tweets at the company). There is not a time series aspect in our data to worry about either.\n",
    "\n",
    "We will stratify the folds in our cross validation. Our reasoning behind this decision is that stratification mirrors the real use case for our system. The reason why there is a large class imbalance is likely motivated by the psychology of why people post reviews; it is unlikely that the bias towards positive reviews seen in our dataset is unique to our dataset. Rather, we would expect that an analysis of other datasets would reveal the same positive bias. Therefore, this class imbalance is something we want to preserve; lack of stratification would skew this class imbalance.\n",
    "\n",
    "### Sources\n",
    "BrightLocal, Business2community, Bazaarvoice, webrepublic, reprevive, Econsultancy,business2community,Reevoo and Social Media Today:\n",
    "\n",
    "https://www.vendasta.com/blog/50-stats-you-need-to-know-about-online-reviews\n",
    "\n",
    "Forbes: \n",
    "\n",
    "https://www.forbes.com/sites/jaysondemers/2015/12/28/how-important-are-customer-reviews-for-online-marketing/#276bfb421928\n",
    "\n",
    "UCSD:\n",
    "\n",
    "http://jmcauley.ucsd.edu/data/amazon/\n",
    "\n",
    "http://cseweb.ucsd.edu/~jmcauley/pdfs/www16b.pdf\n",
    "\n",
    "\n"
   ]
  },
  {
   "cell_type": "markdown",
   "metadata": {},
   "source": [
    "## 2. Data Processing\n",
    "In this section we will prepare the dataset."
   ]
  },
  {
   "cell_type": "code",
   "execution_count": null,
   "metadata": {},
   "outputs": [],
   "source": []
  },
  {
   "cell_type": "code",
   "execution_count": 13,
   "metadata": {},
   "outputs": [
    {
     "name": "stdout",
     "output_type": "stream",
     "text": [
      "Once deleted, variables cannot be recovered. Proceed (y/[n])? y\n"
     ]
    }
   ],
   "source": [
    "#Get rid of memory cached by jupyter notebook\n",
    "%reset"
   ]
  },
  {
   "cell_type": "code",
   "execution_count": 14,
   "metadata": {},
   "outputs": [
    {
     "name": "stdout",
     "output_type": "stream",
     "text": [
      "3.6.4 (v3.6.4:d48eceb, Dec 19 2017, 06:54:40) [MSC v.1900 64 bit (AMD64)]\n",
      "1.14.0\n",
      "<class 'pandas.core.frame.DataFrame'>\n",
      "RangeIndex: 37126 entries, 0 to 37125\n",
      "Data columns (total 9 columns):\n",
      "asin              37126 non-null object\n",
      "helpful           37126 non-null object\n",
      "overall           37126 non-null int64\n",
      "reviewText        37126 non-null object\n",
      "reviewTime        37126 non-null object\n",
      "reviewerID        37126 non-null object\n",
      "reviewerName      36797 non-null object\n",
      "summary           37126 non-null object\n",
      "unixReviewTime    37126 non-null int64\n",
      "dtypes: int64(2), object(7)\n",
      "memory usage: 2.5+ MB\n"
     ]
    }
   ],
   "source": [
    "#Imports\n",
    "import sys\n",
    "import numpy as np\n",
    "import pandas as pd\n",
    "import scipy\n",
    "\n",
    "print(sys.version)\n",
    "print(np.__version__)\n",
    "\n",
    "\n",
    "#load dataset\n",
    "dataframe = pd.read_json('../lab-one/reviews_Amazon_Instant_Video_5.json',lines=True)\n",
    "dataframe.info()"
   ]
  },
  {
   "cell_type": "code",
   "execution_count": 15,
   "metadata": {},
   "outputs": [],
   "source": [
    "#extract information for number of reviews by each reviewer\n",
    "reviewer_ids = list(dataframe['reviewerID'])\n",
    "authorToNumReviews = {user_id:reviewer_ids.count(user_id) for user_id in set(reviewer_ids)}\n",
    "dataframe['reviewLength'] = [len(text) for text in dataframe['reviewText']]\n",
    "dataframe['reviewerNumberReviews'] = [authorToNumReviews[author] for author in dataframe['reviewerID']]\n",
    "\n",
    "#extract additional columns for analysis\n",
    "helpful_count = []\n",
    "unhelpful_count = []\n",
    "helpful_ratio = []\n",
    "for (h,total) in dataframe['helpful']:\n",
    "    helpful_count.append(h)\n",
    "    unhelpful_count.append(total-h)\n",
    "    if total == 0:\n",
    "        helpful_ratio.append(None)\n",
    "    else:\n",
    "        helpful_ratio.append(h/(total))\n",
    "dataframe['numberUnhelpful'] = unhelpful_count\n",
    "dataframe['numberHelpful'] = helpful_count\n",
    "dataframe['helpfulRatio'] = helpful_ratio"
   ]
  },
  {
   "cell_type": "code",
   "execution_count": 16,
   "metadata": {},
   "outputs": [
    {
     "name": "stdout",
     "output_type": "stream",
     "text": [
      "Number of reviews: 37126\n",
      "Number of 5 star reviews: 20890\n",
      "Number of 1 star reviews: 1718\n"
     ]
    }
   ],
   "source": [
    "print('Number of reviews:',len(dataframe.overall))\n",
    "print('Number of 5 star reviews:',sum(dataframe.overall==5))\n",
    "print('Number of 1 star reviews:',sum(dataframe.overall==1))"
   ]
  },
  {
   "cell_type": "markdown",
   "metadata": {},
   "source": [
    "From this analysis we verify that the review score is heavily class imbalanced."
   ]
  },
  {
   "cell_type": "markdown",
   "metadata": {},
   "source": [
    "### 2.1. Data types\n",
    "The features of this dataset are as follows :\n",
    "+ asin - ID of the product - Nominal\n",
    "+ helpful - A tuple containing the number of people that thought the review was helpful or unhelpful - Both ordinal, stored as integers\n",
    "+ overall - The overall rating that a product received. Ordinal, stored as integer\n",
    "+ reviewText - The full text of the review - Bag of words\n",
    "+ reviewTime - The timestamp of the review - Interval\n",
    "+ reviewerID - The ID of the reviewer - Nominal\n",
    "+ reviewerName - The name of the reviewer - Nominal\n",
    "+ summary - A summary of the review  - Bag of words\n",
    "+ unixReviewTime - The UNIX timestamp of the review - Interval\n",
    "   "
   ]
  },
  {
   "cell_type": "markdown",
   "metadata": {},
   "source": [
    "### 2.2. Data quality\n",
    "\n",
    "As mentioned before, this dataset is missing 329 reviewer names, as can be seen from the outputs above and below. We decided to keep this data as is, as there was another unique identifier for reviewers - reviewerID - that we could use to associate a reviewer with a review. Reviewer names were also not a part of our analysis or predicition, so it would in no way skew our results at the end. \n",
    "<br/>\n",
    "\n",
    "The most probable reason why there were missing values for reviewerName is that Amazon had given the option to reviewers to post anonymously and had hidden their names in the review. Since only logged in members are allowed to post reviews, we can assume that the reviewerID is sufficient for us to identify reviews by the same members.\n",
    "\n",
    "<br/> \n",
    "Furthermore, entries where numberHelpful and numberUnhelpful were 0 posed an interesting situation. Although there is an argument to classify these objects as missing and revmove or impute, we beleive these objects to be valuable as is. These reviews can help with predicting a different class of reviews: indistinct reviews. These are reviews that simply no other customers found to be helpful or unhelpful. It can be seen that over 50% of the values have 0 for those two attributes. \n",
    "\n",
    "<br/>"
   ]
  },
  {
   "cell_type": "code",
   "execution_count": 17,
   "metadata": {},
   "outputs": [
    {
     "data": {
      "text/plain": [
       "24095"
      ]
     },
     "execution_count": 17,
     "metadata": {},
     "output_type": "execute_result"
    }
   ],
   "source": [
    "#Number of null_data in any of the columns. \n",
    "null_data = dataframe[dataframe.isnull().any(axis=1)]\n",
    "len(null_data)"
   ]
  },
  {
   "cell_type": "code",
   "execution_count": 18,
   "metadata": {},
   "outputs": [
    {
     "data": {
      "text/plain": [
       "0"
      ]
     },
     "execution_count": 18,
     "metadata": {},
     "output_type": "execute_result"
    }
   ],
   "source": [
    "#Print the number of duplicate entries in the dataset\n",
    "len(dataframe[dataframe.duplicated(['asin','reviewerID'],keep=False)])"
   ]
  },
  {
   "cell_type": "code",
   "execution_count": 19,
   "metadata": {},
   "outputs": [
    {
     "data": {
      "text/html": [
       "<div>\n",
       "<style scoped>\n",
       "    .dataframe tbody tr th:only-of-type {\n",
       "        vertical-align: middle;\n",
       "    }\n",
       "\n",
       "    .dataframe tbody tr th {\n",
       "        vertical-align: top;\n",
       "    }\n",
       "\n",
       "    .dataframe thead th {\n",
       "        text-align: right;\n",
       "    }\n",
       "</style>\n",
       "<table border=\"1\" class=\"dataframe\">\n",
       "  <thead>\n",
       "    <tr style=\"text-align: right;\">\n",
       "      <th></th>\n",
       "      <th>overall</th>\n",
       "      <th>unixReviewTime</th>\n",
       "      <th>reviewLength</th>\n",
       "      <th>reviewerNumberReviews</th>\n",
       "      <th>numberUnhelpful</th>\n",
       "      <th>numberHelpful</th>\n",
       "      <th>helpfulRatio</th>\n",
       "    </tr>\n",
       "  </thead>\n",
       "  <tbody>\n",
       "    <tr>\n",
       "      <th>count</th>\n",
       "      <td>37126.00000</td>\n",
       "      <td>3.712600e+04</td>\n",
       "      <td>37126.000000</td>\n",
       "      <td>37126.000000</td>\n",
       "      <td>37126.000000</td>\n",
       "      <td>37126.000000</td>\n",
       "      <td>13133.000000</td>\n",
       "    </tr>\n",
       "    <tr>\n",
       "      <th>mean</th>\n",
       "      <td>4.20953</td>\n",
       "      <td>1.376795e+09</td>\n",
       "      <td>515.292033</td>\n",
       "      <td>10.667026</td>\n",
       "      <td>0.725475</td>\n",
       "      <td>1.293541</td>\n",
       "      <td>0.574588</td>\n",
       "    </tr>\n",
       "    <tr>\n",
       "      <th>std</th>\n",
       "      <td>1.11855</td>\n",
       "      <td>3.054958e+07</td>\n",
       "      <td>835.145610</td>\n",
       "      <td>13.346323</td>\n",
       "      <td>3.532468</td>\n",
       "      <td>8.301778</td>\n",
       "      <td>0.391384</td>\n",
       "    </tr>\n",
       "    <tr>\n",
       "      <th>min</th>\n",
       "      <td>1.00000</td>\n",
       "      <td>9.754560e+08</td>\n",
       "      <td>4.000000</td>\n",
       "      <td>5.000000</td>\n",
       "      <td>0.000000</td>\n",
       "      <td>0.000000</td>\n",
       "      <td>0.000000</td>\n",
       "    </tr>\n",
       "    <tr>\n",
       "      <th>25%</th>\n",
       "      <td>4.00000</td>\n",
       "      <td>1.367798e+09</td>\n",
       "      <td>145.000000</td>\n",
       "      <td>5.000000</td>\n",
       "      <td>0.000000</td>\n",
       "      <td>0.000000</td>\n",
       "      <td>0.200000</td>\n",
       "    </tr>\n",
       "    <tr>\n",
       "      <th>50%</th>\n",
       "      <td>5.00000</td>\n",
       "      <td>1.384992e+09</td>\n",
       "      <td>232.000000</td>\n",
       "      <td>7.000000</td>\n",
       "      <td>0.000000</td>\n",
       "      <td>0.000000</td>\n",
       "      <td>0.666667</td>\n",
       "    </tr>\n",
       "    <tr>\n",
       "      <th>75%</th>\n",
       "      <td>5.00000</td>\n",
       "      <td>1.394150e+09</td>\n",
       "      <td>484.000000</td>\n",
       "      <td>10.000000</td>\n",
       "      <td>0.000000</td>\n",
       "      <td>1.000000</td>\n",
       "      <td>1.000000</td>\n",
       "    </tr>\n",
       "    <tr>\n",
       "      <th>max</th>\n",
       "      <td>5.00000</td>\n",
       "      <td>1.406074e+09</td>\n",
       "      <td>18152.000000</td>\n",
       "      <td>123.000000</td>\n",
       "      <td>214.000000</td>\n",
       "      <td>484.000000</td>\n",
       "      <td>1.000000</td>\n",
       "    </tr>\n",
       "  </tbody>\n",
       "</table>\n",
       "</div>"
      ],
      "text/plain": [
       "           overall  unixReviewTime  reviewLength  reviewerNumberReviews  \\\n",
       "count  37126.00000    3.712600e+04  37126.000000           37126.000000   \n",
       "mean       4.20953    1.376795e+09    515.292033              10.667026   \n",
       "std        1.11855    3.054958e+07    835.145610              13.346323   \n",
       "min        1.00000    9.754560e+08      4.000000               5.000000   \n",
       "25%        4.00000    1.367798e+09    145.000000               5.000000   \n",
       "50%        5.00000    1.384992e+09    232.000000               7.000000   \n",
       "75%        5.00000    1.394150e+09    484.000000              10.000000   \n",
       "max        5.00000    1.406074e+09  18152.000000             123.000000   \n",
       "\n",
       "       numberUnhelpful  numberHelpful  helpfulRatio  \n",
       "count     37126.000000   37126.000000  13133.000000  \n",
       "mean          0.725475       1.293541      0.574588  \n",
       "std           3.532468       8.301778      0.391384  \n",
       "min           0.000000       0.000000      0.000000  \n",
       "25%           0.000000       0.000000      0.200000  \n",
       "50%           0.000000       0.000000      0.666667  \n",
       "75%           0.000000       1.000000      1.000000  \n",
       "max         214.000000     484.000000      1.000000  "
      ]
     },
     "execution_count": 19,
     "metadata": {},
     "output_type": "execute_result"
    }
   ],
   "source": [
    "#More information about the dataset\n",
    "dataframe.describe()"
   ]
  },
  {
   "cell_type": "code",
   "execution_count": 21,
   "metadata": {},
   "outputs": [
    {
     "data": {
      "text/plain": [
       "515.2920325378441"
      ]
     },
     "execution_count": 21,
     "metadata": {},
     "output_type": "execute_result"
    }
   ],
   "source": [
    "lens = np.zeros(10)\n",
    "avg_len = np.mean([len(x) for x in dataframe['reviewText']])\n",
    "avg_len"
   ]
  },
  {
   "cell_type": "markdown",
   "metadata": {},
   "source": [
    "### 2.3. Tokenization"
   ]
  },
  {
   "cell_type": "code",
   "execution_count": 22,
   "metadata": {},
   "outputs": [
    {
     "name": "stderr",
     "output_type": "stream",
     "text": [
      "Using TensorFlow backend.\n"
     ]
    },
    {
     "name": "stdout",
     "output_type": "stream",
     "text": [
      "Found 21110 unique tokens. Distilled to 21110 top words.\n",
      "<class 'pandas.core.frame.DataFrame'>\n",
      "RangeIndex: 37126 entries, 0 to 37125\n",
      "Data columns (total 11 columns):\n",
      "asin                     37126 non-null object\n",
      "overall                  37126 non-null int64\n",
      "reviewText               37126 non-null object\n",
      "reviewerID               37126 non-null object\n",
      "reviewerName             36797 non-null object\n",
      "summary                  37126 non-null object\n",
      "reviewLength             37126 non-null int64\n",
      "reviewerNumberReviews    37126 non-null int64\n",
      "numberUnhelpful          37126 non-null int64\n",
      "numberHelpful            37126 non-null int64\n",
      "helpfulRatio             13133 non-null float64\n",
      "dtypes: float64(1), int64(5), object(5)\n",
      "memory usage: 3.1+ MB\n"
     ]
    }
   ],
   "source": [
    "import numpy as np\n",
    "import keras\n",
    "from keras.preprocessing import sequence\n",
    "from keras.preprocessing.text import text_to_word_sequence, Tokenizer\n",
    "from sklearn.model_selection import StratifiedKFold\n",
    "import nltk\n",
    "import string\n",
    "import re\n",
    "words = set(nltk.corpus.words.words())\n",
    "def english_filter(passed_string):\n",
    "    passed_string = re.sub(r'[^\\w\\s]','',passed_string)\n",
    "    passed_string = re.sub(' +',' ',passed_string)\n",
    "    passed_string = ' '.join(y for y in passed_string.splitlines())\n",
    "    passed_string = passed_string.rstrip()\n",
    "    passed_string = passed_string.rstrip('\\n')\n",
    "    passed_string = \" \".join((w if w in words else \"\") for w in passed_string.split(' '))\n",
    "    passed_string = text_to_word_sequence(passed_string, filters='!\"#$%&()*+,-./:;<=>?@[\\]^_`{|}~', lower=True, split=' ')\n",
    "    return passed_string\n",
    "unneeded_attributes = ['unixReviewTime', 'helpful', 'reviewTime']\n",
    "ordinal_attributes = ['numberHelpful', 'numberUnhelpful', 'reviewLength', 'overall', 'reviewerNumberReviews']\n",
    "nominal_attributes = ['asin', 'reviewerID', 'reviewerName']\n",
    "\n",
    "for attr in unneeded_attributes:\n",
    "    if attr in dataframe:\n",
    "        del dataframe[attr]\n",
    "\n",
    "dataframe[ordinal_attributes] = dataframe[ordinal_attributes].astype(np.int64)\n",
    "dataframe['reviewText'] = dataframe.apply(lambda row: english_filter(row['reviewText']), axis=1)\n",
    "dataframe['summary'] = dataframe.apply(lambda row: english_filter(row['summary']), axis=1)\n",
    "NUM_TOP_WORDS = None\n",
    "max_review_length = 200\n",
    "\n",
    "tokenizer = Tokenizer(num_words=NUM_TOP_WORDS)\n",
    "tokenizer.fit_on_texts(dataframe['reviewText'])\n",
    "\n",
    "X = tokenizer.texts_to_sequences(dataframe['reviewText'])\n",
    "X = sequence.pad_sequences(X, maxlen=max_review_length)\n",
    "word_index = tokenizer.word_index\n",
    "NUM_TOP_WORDS = len(word_index) if NUM_TOP_WORDS==None else NUM_TOP_WORDS\n",
    "top_words = min((len(word_index),NUM_TOP_WORDS))\n",
    "print('Found %s unique tokens. Distilled to %d top words.' % (len(word_index),top_words))\n",
    "\n",
    "\n",
    "y = dataframe['overall']\n",
    "\n",
    "skf = StratifiedKFold(n_splits=10, shuffle=True)\n",
    "\n",
    "#X_train, X_test, y_train, y_test = train_test_split(X, y, test_size=0.2)\n",
    "X_train=[]\n",
    "X_test=[]\n",
    "y_train=[]\n",
    "y_test = []\n",
    "\n",
    "for train_index, test_index in skf.split(X, y):\n",
    "    X_train.append(X[train_index])\n",
    "    X_test.append(X[test_index])\n",
    "    y_train.append(y[train_index])\n",
    "    y_test.append(y[test_index])\n",
    "\n",
    "dataframe.info()"
   ]
  },
  {
   "cell_type": "code",
   "execution_count": 23,
   "metadata": {},
   "outputs": [
    {
     "name": "stdout",
     "output_type": "stream",
     "text": [
      "Shape of data tensor: (37126, 200)\n",
      "Shape of label tensor: (37126,)\n"
     ]
    }
   ],
   "source": [
    "print('Shape of data tensor:', X.shape)\n",
    "print('Shape of label tensor:', y.shape)"
   ]
  },
  {
   "cell_type": "code",
   "execution_count": 24,
   "metadata": {},
   "outputs": [],
   "source": [
    "from sklearn.metrics import f1_score, make_scorer\n",
    "weighted_f1 = make_scorer(f1_score, average='weighted')\n",
    "from sklearn.utils import class_weight\n",
    "class_weight = class_weight.compute_class_weight('balanced',\n",
    "                                                 np.unique(y_train[0]),\n",
    "                                                 y_train[0])"
   ]
  },
  {
   "cell_type": "code",
   "execution_count": 42,
   "metadata": {},
   "outputs": [
    {
     "ename": "UnicodeDecodeError",
     "evalue": "'charmap' codec can't decode byte 0x9d in position 2776: character maps to <undefined>",
     "output_type": "error",
     "traceback": [
      "\u001b[1;31m---------------------------------------------------------------------\u001b[0m",
      "\u001b[1;31mUnicodeDecodeError\u001b[0m                  Traceback (most recent call last)",
      "\u001b[1;32m<timed exec>\u001b[0m in \u001b[0;36m<module>\u001b[1;34m()\u001b[0m\n",
      "\u001b[1;32mc:\\users\\momin\\envs\\ml_lab1\\lib\\encodings\\cp1252.py\u001b[0m in \u001b[0;36mdecode\u001b[1;34m(self, input, final)\u001b[0m\n\u001b[0;32m     21\u001b[0m \u001b[1;32mclass\u001b[0m \u001b[0mIncrementalDecoder\u001b[0m\u001b[1;33m(\u001b[0m\u001b[0mcodecs\u001b[0m\u001b[1;33m.\u001b[0m\u001b[0mIncrementalDecoder\u001b[0m\u001b[1;33m)\u001b[0m\u001b[1;33m:\u001b[0m\u001b[1;33m\u001b[0m\u001b[0m\n\u001b[0;32m     22\u001b[0m     \u001b[1;32mdef\u001b[0m \u001b[0mdecode\u001b[0m\u001b[1;33m(\u001b[0m\u001b[0mself\u001b[0m\u001b[1;33m,\u001b[0m \u001b[0minput\u001b[0m\u001b[1;33m,\u001b[0m \u001b[0mfinal\u001b[0m\u001b[1;33m=\u001b[0m\u001b[1;32mFalse\u001b[0m\u001b[1;33m)\u001b[0m\u001b[1;33m:\u001b[0m\u001b[1;33m\u001b[0m\u001b[0m\n\u001b[1;32m---> 23\u001b[1;33m         \u001b[1;32mreturn\u001b[0m \u001b[0mcodecs\u001b[0m\u001b[1;33m.\u001b[0m\u001b[0mcharmap_decode\u001b[0m\u001b[1;33m(\u001b[0m\u001b[0minput\u001b[0m\u001b[1;33m,\u001b[0m\u001b[0mself\u001b[0m\u001b[1;33m.\u001b[0m\u001b[0merrors\u001b[0m\u001b[1;33m,\u001b[0m\u001b[0mdecoding_table\u001b[0m\u001b[1;33m)\u001b[0m\u001b[1;33m[\u001b[0m\u001b[1;36m0\u001b[0m\u001b[1;33m]\u001b[0m\u001b[1;33m\u001b[0m\u001b[0m\n\u001b[0m\u001b[0;32m     24\u001b[0m \u001b[1;33m\u001b[0m\u001b[0m\n\u001b[0;32m     25\u001b[0m \u001b[1;32mclass\u001b[0m \u001b[0mStreamWriter\u001b[0m\u001b[1;33m(\u001b[0m\u001b[0mCodec\u001b[0m\u001b[1;33m,\u001b[0m\u001b[0mcodecs\u001b[0m\u001b[1;33m.\u001b[0m\u001b[0mStreamWriter\u001b[0m\u001b[1;33m)\u001b[0m\u001b[1;33m:\u001b[0m\u001b[1;33m\u001b[0m\u001b[0m\n",
      "\u001b[1;31mUnicodeDecodeError\u001b[0m: 'charmap' codec can't decode byte 0x9d in position 2776: character maps to <undefined>"
     ]
    }
   ],
   "source": [
    "%%time\n",
    "EMBED_SIZE = 100\n",
    "# the embed size should match the file you load glove from\n",
    "embeddings_index = {}\n",
    "f = open('glove.6B.100d.txt')\n",
    "# save key/array pairs of the embeddings\n",
    "#  the key of the dictionary is the word, the array is the embedding\n",
    "for line in f:\n",
    "    values = line.split()\n",
    "    word = values[0]\n",
    "    coefs = np.asarray(values[1:], dtype='float32')\n",
    "    embeddings_index[word] = coefs\n",
    "f.close()\n",
    "\n",
    "print('Found %s word vectors.' % len(embeddings_index))\n",
    "\n",
    "# now fill in the matrix, using the ordering from the\n",
    "#  keras word tokenizer from before\n",
    "embedding_matrix = np.zeros((len(word_index) + 1, EMBED_SIZE))\n",
    "for word, i in word_index.items():\n",
    "    embedding_vector = embeddings_index.get(word)\n",
    "    if embedding_vector is not None:\n",
    "        # words not found in embedding index will be all-zeros.\n",
    "        embedding_matrix[i] = embedding_vector\n",
    "\n",
    "print(embedding_matrix.shape)"
   ]
  },
  {
   "cell_type": "code",
   "execution_count": 27,
   "metadata": {},
   "outputs": [],
   "source": [
    "from keras.layers import Embedding\n",
    "embedding_layer = Embedding(len(word_index) + 1,\n",
    "                            EMBED_SIZE,\n",
    "                            input_length=max_review_length,\n",
    "                            trainable=False)"
   ]
  },
  {
   "cell_type": "code",
   "execution_count": 49,
   "metadata": {},
   "outputs": [
    {
     "name": "stdout",
     "output_type": "stream",
     "text": [
      "RNN :\n",
      "_________________________________________________________________\n",
      "Layer (type)                 Output Shape              Param #   \n",
      "=================================================================\n",
      "embedding_1 (Embedding)      (None, 200, 100)          2111100   \n",
      "_________________________________________________________________\n",
      "gru_11 (GRU)                 (None, 100)               60300     \n",
      "_________________________________________________________________\n",
      "dense_11 (Dense)             (None, 1)                 101       \n",
      "=================================================================\n",
      "Total params: 2,171,501\n",
      "Trainable params: 60,401\n",
      "Non-trainable params: 2,111,100\n",
      "_________________________________________________________________\n",
      "None\n",
      "RNN :\n",
      "_________________________________________________________________\n",
      "Layer (type)                 Output Shape              Param #   \n",
      "=================================================================\n",
      "embedding_1 (Embedding)      (None, 200, 100)          2111100   \n",
      "_________________________________________________________________\n",
      "gru_12 (GRU)                 (None, 100)               60300     \n",
      "_________________________________________________________________\n",
      "dense_12 (Dense)             (None, 1)                 101       \n",
      "=================================================================\n",
      "Total params: 2,171,501\n",
      "Trainable params: 60,401\n",
      "Non-trainable params: 2,111,100\n",
      "_________________________________________________________________\n",
      "None\n",
      "RNN :\n",
      "_________________________________________________________________\n",
      "Layer (type)                 Output Shape              Param #   \n",
      "=================================================================\n",
      "embedding_1 (Embedding)      (None, 200, 100)          2111100   \n",
      "_________________________________________________________________\n",
      "gru_13 (GRU)                 (None, 100)               60300     \n",
      "_________________________________________________________________\n",
      "dense_13 (Dense)             (None, 1)                 101       \n",
      "=================================================================\n",
      "Total params: 2,171,501\n",
      "Trainable params: 60,401\n",
      "Non-trainable params: 2,111,100\n",
      "_________________________________________________________________\n",
      "None\n"
     ]
    }
   ],
   "source": [
    "from keras.models import Sequential\n",
    "from keras.layers import Dense\n",
    "from keras.layers import GRU\n",
    "from keras import optimizers\n",
    "\n",
    "\n",
    "\n",
    "rnn_1 = Sequential()\n",
    "rnn_2 = Sequential()\n",
    "rnn_3 = Sequential()\n",
    "\n",
    "rnn_list = [rnn_1,rnn_2,rnn_3]\n",
    "\n",
    "for r in rnn_list:\n",
    "    r.add(embedding_layer)\n",
    "    r.add(GRU(100,dropout=0.2, recurrent_dropout=0.2))\n",
    "    r.add(Dense(1, activation='relu'))\n",
    "    adam = optimizers.Adam(lr=0.01, beta_1=0.9, beta_2=0.999, epsilon=None, decay=0.0, amsgrad=True)\n",
    "    r.compile(loss='mean_squared_error', \n",
    "                  optimizer=adam, \n",
    "                  metrics=['mse'])#,weighted_f1])\n",
    "\n",
    "for r in rnn_list:\n",
    "    print (\"RNN :\")\n",
    "    print(r.summary())"
   ]
  },
  {
   "cell_type": "code",
   "execution_count": 50,
   "metadata": {},
   "outputs": [
    {
     "name": "stdout",
     "output_type": "stream",
     "text": [
      "Fold  1 : \n",
      "\n",
      "Train on 33412 samples, validate on 3714 samples\n",
      "Epoch 1/10\n",
      "33412/33412 [==============================] - 122s 4ms/step - loss: 1.6241 - mean_squared_error: 1.6241 - val_loss: 1.2217 - val_mean_squared_error: 1.2217\n",
      "Epoch 2/10\n",
      "33412/33412 [==============================] - 101s 3ms/step - loss: 1.2390 - mean_squared_error: 1.2390 - val_loss: 1.1737 - val_mean_squared_error: 1.1737\n",
      "Epoch 3/10\n",
      "33412/33412 [==============================] - 100s 3ms/step - loss: 1.2203 - mean_squared_error: 1.2203 - val_loss: 1.1485 - val_mean_squared_error: 1.1485\n",
      "Epoch 4/10\n",
      "33412/33412 [==============================] - 101s 3ms/step - loss: 1.1364 - mean_squared_error: 1.1364 - val_loss: 1.0493 - val_mean_squared_error: 1.0493\n",
      "Epoch 5/10\n",
      "33412/33412 [==============================] - 101s 3ms/step - loss: 1.0658 - mean_squared_error: 1.0658 - val_loss: 0.9855 - val_mean_squared_error: 0.9855\n",
      "Epoch 6/10\n",
      "33412/33412 [==============================] - 101s 3ms/step - loss: 1.0190 - mean_squared_error: 1.0190 - val_loss: 0.9641 - val_mean_squared_error: 0.9641\n",
      "Epoch 7/10\n",
      "33412/33412 [==============================] - 102s 3ms/step - loss: 0.9776 - mean_squared_error: 0.9776 - val_loss: 0.9815 - val_mean_squared_error: 0.9815\n",
      "Epoch 8/10\n",
      "33412/33412 [==============================] - 102s 3ms/step - loss: 0.9573 - mean_squared_error: 0.9573 - val_loss: 0.9078 - val_mean_squared_error: 0.9078\n",
      "Epoch 9/10\n",
      "33412/33412 [==============================] - 103s 3ms/step - loss: 0.9351 - mean_squared_error: 0.9351 - val_loss: 0.8901 - val_mean_squared_error: 0.8901\n",
      "Epoch 10/10\n",
      "33412/33412 [==============================] - 100s 3ms/step - loss: 0.9159 - mean_squared_error: 0.9159 - val_loss: 0.8990 - val_mean_squared_error: 0.8990\n",
      "Fold  2 : \n",
      "\n",
      "Train on 33412 samples, validate on 3714 samples\n",
      "Epoch 1/10\n",
      "33412/33412 [==============================] - 101s 3ms/step - loss: 1.4430 - mean_squared_error: 1.4430 - val_loss: 1.2215 - val_mean_squared_error: 1.2215\n",
      "Epoch 2/10\n",
      "33412/33412 [==============================] - 98s 3ms/step - loss: 1.2227 - mean_squared_error: 1.2227 - val_loss: 1.1455 - val_mean_squared_error: 1.1455\n",
      "Epoch 3/10\n",
      "33412/33412 [==============================] - 99s 3ms/step - loss: 1.1351 - mean_squared_error: 1.1351 - val_loss: 1.0925 - val_mean_squared_error: 1.0925\n",
      "Epoch 4/10\n",
      "33412/33412 [==============================] - 97s 3ms/step - loss: 1.0660 - mean_squared_error: 1.0660 - val_loss: 1.0106 - val_mean_squared_error: 1.0106\n",
      "Epoch 5/10\n",
      "33412/33412 [==============================] - 98s 3ms/step - loss: 1.0266 - mean_squared_error: 1.0266 - val_loss: 0.9947 - val_mean_squared_error: 0.9947\n",
      "Epoch 6/10\n",
      "33412/33412 [==============================] - 97s 3ms/step - loss: 0.9941 - mean_squared_error: 0.9941 - val_loss: 0.9478 - val_mean_squared_error: 0.9478\n",
      "Epoch 7/10\n",
      "33412/33412 [==============================] - 100s 3ms/step - loss: 0.9560 - mean_squared_error: 0.9560 - val_loss: 0.9266 - val_mean_squared_error: 0.9266\n",
      "Epoch 8/10\n",
      "33412/33412 [==============================] - 101s 3ms/step - loss: 0.9330 - mean_squared_error: 0.9330 - val_loss: 0.9830 - val_mean_squared_error: 0.9830\n",
      "Epoch 9/10\n",
      "33412/33412 [==============================] - 107s 3ms/step - loss: 0.9321 - mean_squared_error: 0.9321 - val_loss: 0.9442 - val_mean_squared_error: 0.9442\n",
      "Epoch 10/10\n",
      "33412/33412 [==============================] - 98s 3ms/step - loss: 0.8916 - mean_squared_error: 0.8916 - val_loss: 0.8940 - val_mean_squared_error: 0.8940\n",
      "Fold  3 : \n",
      "\n",
      "Train on 33412 samples, validate on 3714 samples\n",
      "Epoch 1/10\n",
      "33412/33412 [==============================] - 104s 3ms/step - loss: 1.5144 - mean_squared_error: 1.5144 - val_loss: 1.2415 - val_mean_squared_error: 1.2415\n",
      "Epoch 2/10\n",
      "33412/33412 [==============================] - 99s 3ms/step - loss: 1.2414 - mean_squared_error: 1.2414 - val_loss: 1.2128 - val_mean_squared_error: 1.2128\n",
      "Epoch 3/10\n",
      "33412/33412 [==============================] - 96s 3ms/step - loss: 1.2242 - mean_squared_error: 1.2242 - val_loss: 1.1838 - val_mean_squared_error: 1.1838\n",
      "Epoch 4/10\n",
      "33412/33412 [==============================] - 96s 3ms/step - loss: 1.1503 - mean_squared_error: 1.1503 - val_loss: 1.1497 - val_mean_squared_error: 1.1497\n",
      "Epoch 5/10\n",
      "33412/33412 [==============================] - 95s 3ms/step - loss: 1.0696 - mean_squared_error: 1.0696 - val_loss: 1.0203 - val_mean_squared_error: 1.0203\n",
      "Epoch 6/10\n",
      "33412/33412 [==============================] - 96s 3ms/step - loss: 1.0064 - mean_squared_error: 1.0064 - val_loss: 1.0087 - val_mean_squared_error: 1.0087\n",
      "Epoch 7/10\n",
      "33412/33412 [==============================] - 96s 3ms/step - loss: 0.9696 - mean_squared_error: 0.9696 - val_loss: 1.0076 - val_mean_squared_error: 1.0076\n",
      "Epoch 8/10\n",
      "33412/33412 [==============================] - 95s 3ms/step - loss: 0.9363 - mean_squared_error: 0.9363 - val_loss: 0.9911 - val_mean_squared_error: 0.9911\n",
      "Epoch 9/10\n",
      "33412/33412 [==============================] - 95s 3ms/step - loss: 0.9473 - mean_squared_error: 0.9473 - val_loss: 1.0129 - val_mean_squared_error: 1.0129\n",
      "Epoch 10/10\n",
      "33412/33412 [==============================] - 95s 3ms/step - loss: 0.9060 - mean_squared_error: 0.9060 - val_loss: 1.0140 - val_mean_squared_error: 1.0140\n"
     ]
    }
   ],
   "source": [
    "history_list = []\n",
    "\n",
    "for fold in range(0,3):\n",
    "    print (\"Fold \",fold + 1, \": \\n\")\n",
    "    history_rnn_temp= rnn_list[fold].fit(X_train[fold], y_train[fold], validation_data=(X_test[fold], y_test[fold]), epochs=10, batch_size=64, shuffle=True, class_weight=class_weight)\n",
    "    history_list.append(history_rnn_temp)"
   ]
  },
  {
   "cell_type": "code",
   "execution_count": 41,
   "metadata": {},
   "outputs": [
    {
     "data": {
      "text/plain": [
       "Text(0.5,0,'epochs')"
      ]
     },
     "execution_count": 41,
     "metadata": {},
     "output_type": "execute_result"
    },
    {
     "data": {
      "image/png": "[encoded data removed]",
      "text/plain": [
       "<matplotlib.figure.Figure at 0x1ca22e9a780>"
      ]
     },
     "metadata": {},
     "output_type": "display_data"
    }
   ],
   "source": [
    "from matplotlib import pyplot as plt\n",
    "\n",
    "%matplotlib inline\n",
    "plt.title('Training')\n",
    "\n",
    "plt.subplot(2,2,1)\n",
    "plt.plot(history_rnn.history['mean_squared_error'])\n",
    "plt.ylabel('MSE Training')\n",
    "plt.xlabel('epochs')\n",
    "\n",
    "plt.subplot(2,2,2)\n",
    "plt.plot(history_rnn.history['val_mean_squared_error'])\n",
    "plt.xlabel('epochs')\n",
    "\n",
    "plt.subplot(2,2,3)\n",
    "plt.plot(history_rnn.history['loss'])\n",
    "plt.ylabel('MSE Training Loss')\n",
    "plt.xlabel('epochs')\n",
    "\n",
    "plt.subplot(2,2,4)\n",
    "plt.plot(history_rnn.history['val_loss'])\n",
    "plt.xlabel('epochs')"
   ]
  },
  {
   "cell_type": "code",
   "execution_count": 34,
   "metadata": {},
   "outputs": [
    {
     "ename": "ValueError",
     "evalue": "Expected 2D array, got 1D array instead:\narray=[].\nReshape your data either using array.reshape(-1, 1) if your data has a single feature or array.reshape(1, -1) if it contains a single sample.",
     "output_type": "error",
     "traceback": [
      "\u001b[1;31m---------------------------------------------------------------------\u001b[0m",
      "\u001b[1;31mValueError\u001b[0m                          Traceback (most recent call last)",
      "\u001b[1;32m<ipython-input-34-126bcd5ba40b>\u001b[0m in \u001b[0;36m<module>\u001b[1;34m()\u001b[0m\n\u001b[0;32m     12\u001b[0m             \u001b[1;32mbreak\u001b[0m\u001b[1;33m\u001b[0m\u001b[0m\n\u001b[0;32m     13\u001b[0m \u001b[0mtsne\u001b[0m \u001b[1;33m=\u001b[0m \u001b[0mTSNE\u001b[0m\u001b[1;33m(\u001b[0m\u001b[0mn_components\u001b[0m\u001b[1;33m=\u001b[0m\u001b[1;36m2\u001b[0m\u001b[1;33m,\u001b[0m \u001b[0mverbose\u001b[0m\u001b[1;33m=\u001b[0m\u001b[1;36m1\u001b[0m\u001b[1;33m)\u001b[0m\u001b[1;33m\u001b[0m\u001b[0m\n\u001b[1;32m---> 14\u001b[1;33m \u001b[0mtransformed_weights\u001b[0m \u001b[1;33m=\u001b[0m \u001b[0mtsne\u001b[0m\u001b[1;33m.\u001b[0m\u001b[0mfit_transform\u001b[0m\u001b[1;33m(\u001b[0m\u001b[0mweights\u001b[0m\u001b[1;33m)\u001b[0m\u001b[1;33m\u001b[0m\u001b[0m\n\u001b[0m\u001b[0;32m     15\u001b[0m \u001b[0mfig\u001b[0m\u001b[1;33m,\u001b[0m \u001b[0max\u001b[0m \u001b[1;33m=\u001b[0m \u001b[0mplt\u001b[0m\u001b[1;33m.\u001b[0m\u001b[0msubplots\u001b[0m\u001b[1;33m(\u001b[0m\u001b[1;33m)\u001b[0m\u001b[1;33m\u001b[0m\u001b[0m\n\u001b[0;32m     16\u001b[0m \u001b[0max\u001b[0m\u001b[1;33m.\u001b[0m\u001b[0mscatter\u001b[0m\u001b[1;33m(\u001b[0m\u001b[0mtransformed_weights\u001b[0m\u001b[1;33m[\u001b[0m\u001b[1;33m:\u001b[0m\u001b[1;33m,\u001b[0m\u001b[1;36m0\u001b[0m\u001b[1;33m]\u001b[0m\u001b[1;33m,\u001b[0m \u001b[0mtransformed_weights\u001b[0m\u001b[1;33m[\u001b[0m\u001b[1;33m:\u001b[0m\u001b[1;33m,\u001b[0m\u001b[1;36m1\u001b[0m\u001b[1;33m]\u001b[0m\u001b[1;33m,\u001b[0m\u001b[0mlw\u001b[0m\u001b[1;33m=\u001b[0m\u001b[1;36m0\u001b[0m\u001b[1;33m,\u001b[0m \u001b[0ms\u001b[0m\u001b[1;33m=\u001b[0m\u001b[1;36m40\u001b[0m\u001b[1;33m)\u001b[0m\u001b[1;33m\u001b[0m\u001b[0m\n",
      "\u001b[1;32mc:\\users\\momin\\envs\\ml_lab1\\lib\\site-packages\\sklearn\\manifold\\t_sne.py\u001b[0m in \u001b[0;36mfit_transform\u001b[1;34m(self, X, y)\u001b[0m\n\u001b[0;32m    856\u001b[0m             \u001b[0mEmbedding\u001b[0m \u001b[0mof\u001b[0m \u001b[0mthe\u001b[0m \u001b[0mtraining\u001b[0m \u001b[0mdata\u001b[0m \u001b[1;32min\u001b[0m \u001b[0mlow\u001b[0m\u001b[1;33m-\u001b[0m\u001b[0mdimensional\u001b[0m \u001b[0mspace\u001b[0m\u001b[1;33m.\u001b[0m\u001b[1;33m\u001b[0m\u001b[0m\n\u001b[0;32m    857\u001b[0m         \"\"\"\n\u001b[1;32m--> 858\u001b[1;33m         \u001b[0membedding\u001b[0m \u001b[1;33m=\u001b[0m \u001b[0mself\u001b[0m\u001b[1;33m.\u001b[0m\u001b[0m_fit\u001b[0m\u001b[1;33m(\u001b[0m\u001b[0mX\u001b[0m\u001b[1;33m)\u001b[0m\u001b[1;33m\u001b[0m\u001b[0m\n\u001b[0m\u001b[0;32m    859\u001b[0m         \u001b[0mself\u001b[0m\u001b[1;33m.\u001b[0m\u001b[0membedding_\u001b[0m \u001b[1;33m=\u001b[0m \u001b[0membedding\u001b[0m\u001b[1;33m\u001b[0m\u001b[0m\n\u001b[0;32m    860\u001b[0m         \u001b[1;32mreturn\u001b[0m \u001b[0mself\u001b[0m\u001b[1;33m.\u001b[0m\u001b[0membedding_\u001b[0m\u001b[1;33m\u001b[0m\u001b[0m\n",
      "\u001b[1;32mc:\\users\\momin\\envs\\ml_lab1\\lib\\site-packages\\sklearn\\manifold\\t_sne.py\u001b[0m in \u001b[0;36m_fit\u001b[1;34m(self, X, skip_num_points)\u001b[0m\n\u001b[0;32m    658\u001b[0m         \u001b[1;32melse\u001b[0m\u001b[1;33m:\u001b[0m\u001b[1;33m\u001b[0m\u001b[0m\n\u001b[0;32m    659\u001b[0m             X = check_array(X, accept_sparse=['csr', 'csc', 'coo'],\n\u001b[1;32m--> 660\u001b[1;33m                             dtype=[np.float32, np.float64])\n\u001b[0m\u001b[0;32m    661\u001b[0m         \u001b[1;32mif\u001b[0m \u001b[0mself\u001b[0m\u001b[1;33m.\u001b[0m\u001b[0mmethod\u001b[0m \u001b[1;33m==\u001b[0m \u001b[1;34m'barnes_hut'\u001b[0m \u001b[1;32mand\u001b[0m \u001b[0mself\u001b[0m\u001b[1;33m.\u001b[0m\u001b[0mn_components\u001b[0m \u001b[1;33m>\u001b[0m \u001b[1;36m3\u001b[0m\u001b[1;33m:\u001b[0m\u001b[1;33m\u001b[0m\u001b[0m\n\u001b[0;32m    662\u001b[0m             raise ValueError(\"'n_components' should be inferior to 4 for the \"\n",
      "\u001b[1;32mc:\\users\\momin\\envs\\ml_lab1\\lib\\site-packages\\sklearn\\utils\\validation.py\u001b[0m in \u001b[0;36mcheck_array\u001b[1;34m(array, accept_sparse, dtype, order, copy, force_all_finite, ensure_2d, allow_nd, ensure_min_samples, ensure_min_features, warn_on_dtype, estimator)\u001b[0m\n\u001b[0;32m    439\u001b[0m                     \u001b[1;34m\"Reshape your data either using array.reshape(-1, 1) if \"\u001b[0m\u001b[1;33m\u001b[0m\u001b[0m\n\u001b[0;32m    440\u001b[0m                     \u001b[1;34m\"your data has a single feature or array.reshape(1, -1) \"\u001b[0m\u001b[1;33m\u001b[0m\u001b[0m\n\u001b[1;32m--> 441\u001b[1;33m                     \"if it contains a single sample.\".format(array))\n\u001b[0m\u001b[0;32m    442\u001b[0m             \u001b[0marray\u001b[0m \u001b[1;33m=\u001b[0m \u001b[0mnp\u001b[0m\u001b[1;33m.\u001b[0m\u001b[0matleast_2d\u001b[0m\u001b[1;33m(\u001b[0m\u001b[0marray\u001b[0m\u001b[1;33m)\u001b[0m\u001b[1;33m\u001b[0m\u001b[0m\n\u001b[0;32m    443\u001b[0m             \u001b[1;31m# To ensure that array flags are maintained\u001b[0m\u001b[1;33m\u001b[0m\u001b[1;33m\u001b[0m\u001b[0m\n",
      "\u001b[1;31mValueError\u001b[0m: Expected 2D array, got 1D array instead:\narray=[].\nReshape your data either using array.reshape(-1, 1) if your data has a single feature or array.reshape(1, -1) if it contains a single sample."
     ]
    }
   ],
   "source": [
    "%matplotlib inline\n",
    "from matplotlib import pyplot as plt\n",
    "from sklearn.manifold import TSNE\n",
    "weights = []\n",
    "weight_labels=[]\n",
    "for word, i in word_index.items():\n",
    "    embedding_vector = embeddings_index.get(word)\n",
    "    if embedding_vector is not None:\n",
    "        weights.append(embedding_vector)\n",
    "        weight_labels.append(word)\n",
    "        if len(weight_labels)==50:\n",
    "            break\n",
    "tsne = TSNE(n_components=2, verbose=1)\n",
    "transformed_weights = tsne.fit_transform(weights)\n",
    "fig, ax = plt.subplots()\n",
    "ax.scatter(transformed_weights[:,0], transformed_weights[:,1],lw=0, s=40)\n",
    "for i, txt in enumerate(weight_labels):\n",
    "    ax.annotate(txt, (transformed_weights[:,0][i], transformed_weights[:,1][i]))\n"
   ]
  },
  {
   "cell_type": "code",
   "execution_count": null,
   "metadata": {},
   "outputs": [],
   "source": []
  },
  {
   "cell_type": "code",
   "execution_count": null,
   "metadata": {},
   "outputs": [],
   "source": []
  }
 ],
 "metadata": {
  "kernelspec": {
   "display_name": "Python 3",
   "language": "python",
   "name": "python3"
  },
  "language_info": {
   "codemirror_mode": {
    "name": "ipython",
    "version": 3
   },
   "file_extension": ".py",
   "mimetype": "text/x-python",
   "name": "python",
   "nbconvert_exporter": "python",
   "pygments_lexer": "ipython3",
   "version": "3.6.4"
  }
 },
 "nbformat": 4,
 "nbformat_minor": 2
}
